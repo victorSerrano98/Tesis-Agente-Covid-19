{
  "cells": [
    {
      "cell_type": "code",
      "source": [
        "from google.colab import drive\n",
        "drive.mount('/content/drive')"
      ],
      "metadata": {
        "colab": {
          "base_uri": "https://localhost:8080/"
        },
        "id": "bXrSt0eNU1hV",
        "outputId": "8484c1ca-bc82-49fd-f1c7-eee4d1f53dfc"
      },
      "execution_count": null,
      "outputs": [
        {
          "output_type": "stream",
          "name": "stdout",
          "text": [
            "Drive already mounted at /content/drive; to attempt to forcibly remount, call drive.mount(\"/content/drive\", force_remount=True).\n"
          ]
        }
      ]
    },
    {
      "cell_type": "code",
      "execution_count": null,
      "metadata": {
        "colab": {
          "base_uri": "https://localhost:8080/",
          "height": 606
        },
        "id": "ZZaCP6HpRsEo",
        "outputId": "e7a7d6e8-5f5a-41b1-9af8-f74414f7be29"
      },
      "outputs": [
        {
          "output_type": "stream",
          "name": "stdout",
          "text": [
            "Looking in indexes: https://pypi.org/simple, https://us-python.pkg.dev/colab-wheels/public/simple/\n",
            "Collecting pandas==1.3.1\n",
            "  Downloading pandas-1.3.1-cp37-cp37m-manylinux_2_17_x86_64.manylinux2014_x86_64.whl (11.5 MB)\n",
            "\u001b[K     |████████████████████████████████| 11.5 MB 11.6 MB/s \n",
            "\u001b[?25hRequirement already satisfied: numpy>=1.17.3 in /usr/local/lib/python3.7/dist-packages (from pandas==1.3.1) (1.21.6)\n",
            "Requirement already satisfied: pytz>=2017.3 in /usr/local/lib/python3.7/dist-packages (from pandas==1.3.1) (2022.2.1)\n",
            "Requirement already satisfied: python-dateutil>=2.7.3 in /usr/local/lib/python3.7/dist-packages (from pandas==1.3.1) (2.8.2)\n",
            "Requirement already satisfied: six>=1.5 in /usr/local/lib/python3.7/dist-packages (from python-dateutil>=2.7.3->pandas==1.3.1) (1.15.0)\n",
            "Installing collected packages: pandas\n",
            "  Attempting uninstall: pandas\n",
            "    Found existing installation: pandas 1.3.5\n",
            "    Uninstalling pandas-1.3.5:\n",
            "      Successfully uninstalled pandas-1.3.5\n",
            "Successfully installed pandas-1.3.1\n"
          ]
        },
        {
          "output_type": "display_data",
          "data": {
            "application/vnd.colab-display-data+json": {
              "pip_warning": {
                "packages": [
                  "pandas"
                ]
              }
            }
          },
          "metadata": {}
        },
        {
          "output_type": "stream",
          "name": "stdout",
          "text": [
            "Looking in indexes: https://pypi.org/simple, https://us-python.pkg.dev/colab-wheels/public/simple/\n",
            "Collecting numpy==1.21.1\n",
            "  Downloading numpy-1.21.1-cp37-cp37m-manylinux_2_12_x86_64.manylinux2010_x86_64.whl (15.7 MB)\n",
            "\u001b[K     |████████████████████████████████| 15.7 MB 10.5 MB/s \n",
            "\u001b[?25hInstalling collected packages: numpy\n",
            "  Attempting uninstall: numpy\n",
            "    Found existing installation: numpy 1.21.6\n",
            "    Uninstalling numpy-1.21.6:\n",
            "      Successfully uninstalled numpy-1.21.6\n",
            "Successfully installed numpy-1.21.1\n"
          ]
        },
        {
          "output_type": "display_data",
          "data": {
            "application/vnd.colab-display-data+json": {
              "pip_warning": {
                "packages": [
                  "numpy"
                ]
              }
            }
          },
          "metadata": {}
        }
      ],
      "source": [
        "# Instalación de paquetes necesarios\n",
        "!pip3 install pandas==1.3.1\n",
        "!pip3 install numpy==1.21.1"
      ]
    },
    {
      "cell_type": "code",
      "execution_count": null,
      "metadata": {
        "colab": {
          "base_uri": "https://localhost:8080/"
        },
        "id": "uAfqKgL4RsEt",
        "outputId": "33a9e60a-f5f1-46d0-9025-9d769d36addc"
      },
      "outputs": [
        {
          "output_type": "stream",
          "name": "stdout",
          "text": [
            "Looking in indexes: https://pypi.org/simple, https://us-python.pkg.dev/colab-wheels/public/simple/\n",
            "Collecting pickle5\n",
            "  Downloading pickle5-0.0.12-cp37-cp37m-manylinux_2_5_x86_64.manylinux1_x86_64.whl (256 kB)\n",
            "\u001b[K     |████████████████████████████████| 256 kB 14.2 MB/s \n",
            "\u001b[?25hInstalling collected packages: pickle5\n",
            "Successfully installed pickle5-0.0.12\n"
          ]
        }
      ],
      "source": [
        "# Importación de paquetes\n",
        "!pip3 install pickle5\n",
        "import pickle5 as pickle"
      ]
    },
    {
      "cell_type": "code",
      "execution_count": null,
      "metadata": {
        "id": "7gjOlz_NRsEu"
      },
      "outputs": [],
      "source": [
        "# Importación de paquetes\n",
        "import pandas as pd\n",
        "import numpy as np"
      ]
    },
    {
      "cell_type": "code",
      "execution_count": null,
      "metadata": {
        "id": "uCmTrH3wRsEu"
      },
      "outputs": [],
      "source": [
        "# Acceso a los trabajos de investigación y datos \n",
        "with open('/content/drive/MyDrive/BASE_CONOCIMIENTO/metadata_50000.pickle', 'rb') as f:\n",
        "  df_metadata = pickle.load(f)\n",
        "with open('/content/drive/MyDrive/BASE_CONOCIMIENTO/json_pdf_50000.pickle', 'rb') as f:\n",
        "  df_pdf = pickle.load(f)\n",
        "with open('/content/drive/MyDrive/BASE_CONOCIMIENTO/json_pmc_50000.pickle', 'rb') as f:\n",
        "  df_pmc = pickle.load(f)"
      ]
    },
    {
      "cell_type": "markdown",
      "metadata": {
        "id": "HXzusag1RsEv"
      },
      "source": [
        "Muestreo y almacenamiento del conjunto de datos del curso\n"
      ]
    },
    {
      "cell_type": "code",
      "execution_count": null,
      "metadata": {
        "id": "jPYZJPCaRsEw"
      },
      "outputs": [],
      "source": [
        "# Se una los datos de metadata_sample, json_pdf_sample y json_pmc_sample mediante las columnas: sha y paper_id\n",
        "# con el fin de completar los campos imcompletos y borra la primera columna de los campos\n",
        "df_merged = pd.merge(df_metadata,df_pdf,left_on='sha',right_on='paper_id',how='left').drop('paper_id',axis=1)"
      ]
    },
    {
      "cell_type": "code",
      "execution_count": null,
      "metadata": {
        "colab": {
          "base_uri": "https://localhost:8080/",
          "height": 261
        },
        "id": "2BuILPZ0RsEx",
        "outputId": "ccc6cc40-2005-48a2-e5c3-faeed753f878"
      },
      "outputs": [
        {
          "output_type": "execute_result",
          "data": {
            "text/plain": [
              "   cord_uid                                       sha source_x  \\\n",
              "0  yskxbzer  5b33034f7b37a76557b4d2db72be64720e73ec15      PMC   \n",
              "\n",
              "                                               title                doi  \\\n",
              "0  Is an infectious trigger always required for p...  10.1002/pbc.27344   \n",
              "\n",
              "        pmcid pubmed_id license  \\\n",
              "0  PMC7168068  30070073   no-cc   \n",
              "\n",
              "                                          abstract_x publish_time  ...  \\\n",
              "0  In this report, we evaluate the hypothesis tha...   2018-08-01  ...   \n",
              "\n",
              "                journal mag_id  who_covidence_id arxiv_id  \\\n",
              "0  Pediatr Blood Cancer    NaN               NaN      NaN   \n",
              "\n",
              "                                      pdf_json_files  \\\n",
              "0  document_parses/pdf_json/5b33034f7b37a76557b4d...   \n",
              "\n",
              "                                 pmc_json_files  \\\n",
              "0  document_parses/pmc_json/PMC7168068.xml.json   \n",
              "\n",
              "                                                 url s2_id  abstract_y  \\\n",
              "0  https://www.ncbi.nlm.nih.gov/pmc/articles/PMC7...   NaN         NaN   \n",
              "\n",
              "  body_text  \n",
              "0       NaN  \n",
              "\n",
              "[1 rows x 21 columns]"
            ],
            "text/html": [
              "\n",
              "  <div id=\"df-fd1bd34b-9fb3-4547-ac13-a2900c1613da\">\n",
              "    <div class=\"colab-df-container\">\n",
              "      <div>\n",
              "<style scoped>\n",
              "    .dataframe tbody tr th:only-of-type {\n",
              "        vertical-align: middle;\n",
              "    }\n",
              "\n",
              "    .dataframe tbody tr th {\n",
              "        vertical-align: top;\n",
              "    }\n",
              "\n",
              "    .dataframe thead th {\n",
              "        text-align: right;\n",
              "    }\n",
              "</style>\n",
              "<table border=\"1\" class=\"dataframe\">\n",
              "  <thead>\n",
              "    <tr style=\"text-align: right;\">\n",
              "      <th></th>\n",
              "      <th>cord_uid</th>\n",
              "      <th>sha</th>\n",
              "      <th>source_x</th>\n",
              "      <th>title</th>\n",
              "      <th>doi</th>\n",
              "      <th>pmcid</th>\n",
              "      <th>pubmed_id</th>\n",
              "      <th>license</th>\n",
              "      <th>abstract_x</th>\n",
              "      <th>publish_time</th>\n",
              "      <th>...</th>\n",
              "      <th>journal</th>\n",
              "      <th>mag_id</th>\n",
              "      <th>who_covidence_id</th>\n",
              "      <th>arxiv_id</th>\n",
              "      <th>pdf_json_files</th>\n",
              "      <th>pmc_json_files</th>\n",
              "      <th>url</th>\n",
              "      <th>s2_id</th>\n",
              "      <th>abstract_y</th>\n",
              "      <th>body_text</th>\n",
              "    </tr>\n",
              "  </thead>\n",
              "  <tbody>\n",
              "    <tr>\n",
              "      <th>0</th>\n",
              "      <td>yskxbzer</td>\n",
              "      <td>5b33034f7b37a76557b4d2db72be64720e73ec15</td>\n",
              "      <td>PMC</td>\n",
              "      <td>Is an infectious trigger always required for p...</td>\n",
              "      <td>10.1002/pbc.27344</td>\n",
              "      <td>PMC7168068</td>\n",
              "      <td>30070073</td>\n",
              "      <td>no-cc</td>\n",
              "      <td>In this report, we evaluate the hypothesis tha...</td>\n",
              "      <td>2018-08-01</td>\n",
              "      <td>...</td>\n",
              "      <td>Pediatr Blood Cancer</td>\n",
              "      <td>NaN</td>\n",
              "      <td>NaN</td>\n",
              "      <td>NaN</td>\n",
              "      <td>document_parses/pdf_json/5b33034f7b37a76557b4d...</td>\n",
              "      <td>document_parses/pmc_json/PMC7168068.xml.json</td>\n",
              "      <td>https://www.ncbi.nlm.nih.gov/pmc/articles/PMC7...</td>\n",
              "      <td>NaN</td>\n",
              "      <td>NaN</td>\n",
              "      <td>NaN</td>\n",
              "    </tr>\n",
              "  </tbody>\n",
              "</table>\n",
              "<p>1 rows × 21 columns</p>\n",
              "</div>\n",
              "      <button class=\"colab-df-convert\" onclick=\"convertToInteractive('df-fd1bd34b-9fb3-4547-ac13-a2900c1613da')\"\n",
              "              title=\"Convert this dataframe to an interactive table.\"\n",
              "              style=\"display:none;\">\n",
              "        \n",
              "  <svg xmlns=\"http://www.w3.org/2000/svg\" height=\"24px\"viewBox=\"0 0 24 24\"\n",
              "       width=\"24px\">\n",
              "    <path d=\"M0 0h24v24H0V0z\" fill=\"none\"/>\n",
              "    <path d=\"M18.56 5.44l.94 2.06.94-2.06 2.06-.94-2.06-.94-.94-2.06-.94 2.06-2.06.94zm-11 1L8.5 8.5l.94-2.06 2.06-.94-2.06-.94L8.5 2.5l-.94 2.06-2.06.94zm10 10l.94 2.06.94-2.06 2.06-.94-2.06-.94-.94-2.06-.94 2.06-2.06.94z\"/><path d=\"M17.41 7.96l-1.37-1.37c-.4-.4-.92-.59-1.43-.59-.52 0-1.04.2-1.43.59L10.3 9.45l-7.72 7.72c-.78.78-.78 2.05 0 2.83L4 21.41c.39.39.9.59 1.41.59.51 0 1.02-.2 1.41-.59l7.78-7.78 2.81-2.81c.8-.78.8-2.07 0-2.86zM5.41 20L4 18.59l7.72-7.72 1.47 1.35L5.41 20z\"/>\n",
              "  </svg>\n",
              "      </button>\n",
              "      \n",
              "  <style>\n",
              "    .colab-df-container {\n",
              "      display:flex;\n",
              "      flex-wrap:wrap;\n",
              "      gap: 12px;\n",
              "    }\n",
              "\n",
              "    .colab-df-convert {\n",
              "      background-color: #E8F0FE;\n",
              "      border: none;\n",
              "      border-radius: 50%;\n",
              "      cursor: pointer;\n",
              "      display: none;\n",
              "      fill: #1967D2;\n",
              "      height: 32px;\n",
              "      padding: 0 0 0 0;\n",
              "      width: 32px;\n",
              "    }\n",
              "\n",
              "    .colab-df-convert:hover {\n",
              "      background-color: #E2EBFA;\n",
              "      box-shadow: 0px 1px 2px rgba(60, 64, 67, 0.3), 0px 1px 3px 1px rgba(60, 64, 67, 0.15);\n",
              "      fill: #174EA6;\n",
              "    }\n",
              "\n",
              "    [theme=dark] .colab-df-convert {\n",
              "      background-color: #3B4455;\n",
              "      fill: #D2E3FC;\n",
              "    }\n",
              "\n",
              "    [theme=dark] .colab-df-convert:hover {\n",
              "      background-color: #434B5C;\n",
              "      box-shadow: 0px 1px 3px 1px rgba(0, 0, 0, 0.15);\n",
              "      filter: drop-shadow(0px 1px 2px rgba(0, 0, 0, 0.3));\n",
              "      fill: #FFFFFF;\n",
              "    }\n",
              "  </style>\n",
              "\n",
              "      <script>\n",
              "        const buttonEl =\n",
              "          document.querySelector('#df-fd1bd34b-9fb3-4547-ac13-a2900c1613da button.colab-df-convert');\n",
              "        buttonEl.style.display =\n",
              "          google.colab.kernel.accessAllowed ? 'block' : 'none';\n",
              "\n",
              "        async function convertToInteractive(key) {\n",
              "          const element = document.querySelector('#df-fd1bd34b-9fb3-4547-ac13-a2900c1613da');\n",
              "          const dataTable =\n",
              "            await google.colab.kernel.invokeFunction('convertToInteractive',\n",
              "                                                     [key], {});\n",
              "          if (!dataTable) return;\n",
              "\n",
              "          const docLinkHtml = 'Like what you see? Visit the ' +\n",
              "            '<a target=\"_blank\" href=https://colab.research.google.com/notebooks/data_table.ipynb>data table notebook</a>'\n",
              "            + ' to learn more about interactive tables.';\n",
              "          element.innerHTML = '';\n",
              "          dataTable['output_type'] = 'display_data';\n",
              "          await google.colab.output.renderOutput(dataTable, element);\n",
              "          const docLink = document.createElement('div');\n",
              "          docLink.innerHTML = docLinkHtml;\n",
              "          element.appendChild(docLink);\n",
              "        }\n",
              "      </script>\n",
              "    </div>\n",
              "  </div>\n",
              "  "
            ]
          },
          "metadata": {},
          "execution_count": 11
        }
      ],
      "source": [
        "df_merged.head(1)\n",
        "# abstract_x es el resumen de los metadatos y abstract_y es el resumen de json_pdf"
      ]
    },
    {
      "cell_type": "code",
      "execution_count": null,
      "metadata": {
        "colab": {
          "base_uri": "https://localhost:8080/"
        },
        "id": "XOTPSQe8RsEy",
        "outputId": "5b7092fa-1f85-4e93-c4bd-69fdd1f864ff"
      },
      "outputs": [
        {
          "output_type": "execute_result",
          "data": {
            "text/plain": [
              "(50000, 22)"
            ]
          },
          "metadata": {},
          "execution_count": 12
        }
      ],
      "source": [
        "# Combinación de los datos json_pmc con los datos unidos\n",
        "df_merged = pd.merge(df_merged,df_pmc,left_on='pmcid',right_on='paper_id',how='left').drop('paper_id',axis=1)\n",
        "df_merged.shape"
      ]
    },
    {
      "cell_type": "markdown",
      "metadata": {
        "id": "jNEkn0JERsEy"
      },
      "source": [
        "Limpieza y preprocesamiento de datos"
      ]
    },
    {
      "cell_type": "code",
      "execution_count": null,
      "metadata": {
        "colab": {
          "base_uri": "https://localhost:8080/"
        },
        "id": "SOSGubgZRsEz",
        "outputId": "caade4e8-4b1f-4eca-b959-f9e768ee08a6"
      },
      "outputs": [
        {
          "output_type": "execute_result",
          "data": {
            "text/plain": [
              "(50000, 22)"
            ]
          },
          "metadata": {},
          "execution_count": 13
        }
      ],
      "source": [
        "# Información de las dimensiones de la matriz donde se almacenan los documentos\n",
        "df_merged[df_merged.abstract_x != df_merged.abstract_y].shape"
      ]
    },
    {
      "cell_type": "code",
      "execution_count": null,
      "metadata": {
        "colab": {
          "base_uri": "https://localhost:8080/"
        },
        "id": "28gEPYRKRsE0",
        "outputId": "102bdf2d-d6e9-4385-ac91-1bb40bd08d5b"
      },
      "outputs": [
        {
          "output_type": "execute_result",
          "data": {
            "text/plain": [
              "(6416, 0)"
            ]
          },
          "metadata": {},
          "execution_count": 14
        }
      ],
      "source": [
        "# Verificación de la columna abstract de metadatos para ver si existen valores nulos\n",
        "df_merged.abstract_x.isnull().sum(),(df_merged.abstract_x == '').sum()"
      ]
    },
    {
      "cell_type": "code",
      "execution_count": null,
      "metadata": {
        "colab": {
          "base_uri": "https://localhost:8080/"
        },
        "id": "MCxvha59RsE0",
        "outputId": "0ebed71d-e1cf-4d74-cd32-8e96057c0b1e"
      },
      "outputs": [
        {
          "output_type": "execute_result",
          "data": {
            "text/plain": [
              "(50000, 0)"
            ]
          },
          "metadata": {},
          "execution_count": 15
        }
      ],
      "source": [
        "# Verificación del abstract de pdf_json para ver si existen valores nulos\n",
        "df_merged.abstract_y.isnull().sum(),(df_merged.abstract_y == '').sum()"
      ]
    },
    {
      "cell_type": "markdown",
      "metadata": {
        "id": "hqMb2egqRsE1"
      },
      "source": [
        "Dado que el abstract_x de los metadatos es más fiable, lo utilizaremos pero sólo lo rellenaremos con el texto abstract_y, cuando el valor de abstract_x sea nulo\n"
      ]
    },
    {
      "cell_type": "code",
      "execution_count": null,
      "metadata": {
        "id": "0xZ7kmyVRsE1"
      },
      "outputs": [],
      "source": [
        "# Convierte todas las columnas en cadenas y luego reemplazamos los valores abstract_y \n",
        "df_merged[\"abstract_y\"] = df_merged[\"abstract_y\"].astype(str) \n",
        "df_merged['abstract_y'] = np.where(df_merged['abstract_y'].map(len) > 50, df_merged['abstract_y'], \"na\")"
      ]
    },
    {
      "cell_type": "code",
      "execution_count": null,
      "metadata": {
        "colab": {
          "base_uri": "https://localhost:8080/",
          "height": 1000
        },
        "id": "nqm2jOcyRsE1",
        "outputId": "28881009-888d-4c79-e3c9-06347ab41776"
      },
      "outputs": [
        {
          "output_type": "execute_result",
          "data": {
            "text/plain": [
              "       cord_uid                                       sha  \\\n",
              "0      yskxbzer  5b33034f7b37a76557b4d2db72be64720e73ec15   \n",
              "1      7gp82nrd  5d6362d3f64ce969e40ba76226a21f6927d586d0   \n",
              "2      dopbfxz4  250c64fdfd47d83e3f38f20e216ccecbd98e6b08   \n",
              "3      1jzsci7a  64a525555bee106a7423b92f685020b0e338561d   \n",
              "4      f9q86tw7  f07fbe58ac649450ba759225e97dffbf00b48e36   \n",
              "...         ...                                       ...   \n",
              "49995  71fub3qt  bf96de1e846e0cde4a82c3be6b9c6e8de41b4f97   \n",
              "49996  d3o07fw7  eeaa65a25dfde55b096829214e4d3739d75c64cd   \n",
              "49997  e61e6gc6  1b16ebadba4374aeff32f4b7876151531d0cd0f2   \n",
              "49998  pnrwf8av  c74adad841f58b3c1434d3027611da71a78f2a48   \n",
              "49999  xgzwhlfp  b6dc6cec057c6f797619e061c2de46c96fdc562c   \n",
              "\n",
              "                     source_x  \\\n",
              "0                         PMC   \n",
              "1                Medline; PMC   \n",
              "2                Medline; PMC   \n",
              "3               Elsevier; PMC   \n",
              "4                Medline; PMC   \n",
              "...                       ...   \n",
              "49995            Medline; PMC   \n",
              "49996  Elsevier; Medline; PMC   \n",
              "49997       Medline; PMC; WHO   \n",
              "49998            Medline; PMC   \n",
              "49999                   ArXiv   \n",
              "\n",
              "                                                   title  \\\n",
              "0      Is an infectious trigger always required for p...   \n",
              "1      A diagnostic testing for people with appendici...   \n",
              "2      Potent Neutralization of SARS-CoV-2 by Hetero-...   \n",
              "3             Chapter 542 Hepatitis A Virus Picornain 3C   \n",
              "4      School Nursing in a Pandemic: Striving for Exc...   \n",
              "...                                                  ...   \n",
              "49995  Lessons from a successful public health respon...   \n",
              "49996  Love in the Time of COVID-19: Sexual Function ...   \n",
              "49997  Network Analysis of Outpatients to Identify Pr...   \n",
              "49998  Toxicological Aspects of Increased Use of Surf...   \n",
              "49999               Affine Quantization on the Half Line   \n",
              "\n",
              "                                      doi       pmcid pubmed_id      license  \\\n",
              "0                       10.1002/pbc.27344  PMC7168068  30070073        no-cc   \n",
              "1              10.1007/s11042-022-11939-8  PMC8785023  35095329        no-cc   \n",
              "2                    10.1128/jvi.02438-20  PMC8139655  33658349        cc-by   \n",
              "3      10.1016/b978-0-12-382219-2.00540-8  PMC7149673       NaN    els-covid   \n",
              "4               10.1177/1942602x211005166  PMC8047512  33847191        cc-by   \n",
              "...                                   ...         ...       ...          ...   \n",
              "49995             10.1111/1753-6405.13077  PMC8013354  33522665  cc-by-nc-nd   \n",
              "49996          10.1016/j.jsxm.2020.06.006  PMC7342024  32653391        no-cc   \n",
              "49997            10.3389/fmed.2021.685124  PMC8329357  34355004        cc-by   \n",
              "49998           10.2478/aiht-2020-71-3470  PMC7968494  33074170  cc-by-nc-nd   \n",
              "49999                                 NaN         NaN       NaN        arxiv   \n",
              "\n",
              "                                              abstract_x publish_time  ...  \\\n",
              "0      In this report, we evaluate the hypothesis tha...   2018-08-01  ...   \n",
              "1      Appendicitis is a common disease that occurs p...   2022-01-24  ...   \n",
              "2      Cellular entry of SARS-CoV-2 requires the bind...   2021-04-26  ...   \n",
              "3      The third edition of the Handbook of Proteolyt...   2013-12-31  ...   \n",
              "4      When the COVID-19 (coronavirus disease 2019) p...   2021-04-13  ...   \n",
              "...                                                  ...          ...  ...   \n",
              "49995                                                NaN   2021-02-01  ...   \n",
              "49996  BACKGROUND: The beginning of 2020 was characte...   2020-07-08  ...   \n",
              "49997  Background: Limited data exist on early predic...   2021-07-20  ...   \n",
              "49998  All COVID-19 prevention strategies include reg...   2020-10-06  ...   \n",
              "49999  The similarity between classical and quantum p...   2020-05-18  ...   \n",
              "\n",
              "      mag_id who_covidence_id    arxiv_id  \\\n",
              "0        NaN              NaN         NaN   \n",
              "1        NaN              NaN         NaN   \n",
              "2        NaN              NaN         NaN   \n",
              "3        NaN              NaN         NaN   \n",
              "4        NaN              NaN         NaN   \n",
              "...      ...              ...         ...   \n",
              "49995    NaN              NaN         NaN   \n",
              "49996    NaN              NaN         NaN   \n",
              "49997    NaN              NaN         NaN   \n",
              "49998    NaN              NaN         NaN   \n",
              "49999    NaN              NaN  2005.08696   \n",
              "\n",
              "                                          pdf_json_files  \\\n",
              "0      document_parses/pdf_json/5b33034f7b37a76557b4d...   \n",
              "1      document_parses/pdf_json/5d6362d3f64ce969e40ba...   \n",
              "2      document_parses/pdf_json/250c64fdfd47d83e3f38f...   \n",
              "3      document_parses/pdf_json/64a525555bee106a7423b...   \n",
              "4      document_parses/pdf_json/f07fbe58ac649450ba759...   \n",
              "...                                                  ...   \n",
              "49995  document_parses/pdf_json/bf96de1e846e0cde4a82c...   \n",
              "49996  document_parses/pdf_json/eeaa65a25dfde55b09682...   \n",
              "49997  document_parses/pdf_json/1b16ebadba4374aeff32f...   \n",
              "49998  document_parses/pdf_json/c74adad841f58b3c1434d...   \n",
              "49999  document_parses/pdf_json/b6dc6cec057c6f797619e...   \n",
              "\n",
              "                                     pmc_json_files  \\\n",
              "0      document_parses/pmc_json/PMC7168068.xml.json   \n",
              "1      document_parses/pmc_json/PMC8785023.xml.json   \n",
              "2      document_parses/pmc_json/PMC8139655.xml.json   \n",
              "3                                               NaN   \n",
              "4      document_parses/pmc_json/PMC8047512.xml.json   \n",
              "...                                             ...   \n",
              "49995  document_parses/pmc_json/PMC8013354.xml.json   \n",
              "49996  document_parses/pmc_json/PMC7342024.xml.json   \n",
              "49997  document_parses/pmc_json/PMC8329357.xml.json   \n",
              "49998  document_parses/pmc_json/PMC7968494.xml.json   \n",
              "49999                                           NaN   \n",
              "\n",
              "                                                     url        s2_id  \\\n",
              "0      https://www.ncbi.nlm.nih.gov/pmc/articles/PMC7...          NaN   \n",
              "1      https://www.ncbi.nlm.nih.gov/pubmed/35095329/;...  246276378.0   \n",
              "2      https://www.ncbi.nlm.nih.gov/pubmed/33658349/;...  232113365.0   \n",
              "3      https://www.sciencedirect.com/science/article/...   88822282.0   \n",
              "4      https://www.ncbi.nlm.nih.gov/pubmed/33847191/;...  233223031.0   \n",
              "...                                                  ...          ...   \n",
              "49995  https://doi.org/10.1111/1753-6405.13077; https...  231761872.0   \n",
              "49996  https://api.elsevier.com/content/article/pii/S...  220404840.0   \n",
              "49997  https://doi.org/10.3389/fmed.2021.685124; http...  236095506.0   \n",
              "49998  https://doi.org/10.2478/aiht-2020-71-3470; htt...  222316883.0   \n",
              "49999             https://arxiv.org/pdf/2005.08696v1.pdf  218674510.0   \n",
              "\n",
              "      abstract_y  body_text_x  \\\n",
              "0             na          NaN   \n",
              "1             na          NaN   \n",
              "2             na          NaN   \n",
              "3             na          NaN   \n",
              "4             na          NaN   \n",
              "...          ...          ...   \n",
              "49995         na          NaN   \n",
              "49996         na          NaN   \n",
              "49997         na          NaN   \n",
              "49998         na          NaN   \n",
              "49999         na          NaN   \n",
              "\n",
              "                                             body_text_y  \n",
              "0      Hemophagocytic lymphohistiocytosis (HLH) is a ...  \n",
              "1      Appendicitis is an infection of the appendix [...  \n",
              "2      Coronavirus disease 2019 (COVID-19) caused by ...  \n",
              "3                                                    NaN  \n",
              "4      SFPS is a Vaccines for Children (VFC) provider...  \n",
              "...                                                  ...  \n",
              "49995  In April 2020, a HCW (hereafter ‘the case’), w...  \n",
              "49996  The coronavirus-2019 (COVID-19) represents the...  \n",
              "49997  On January 12, 2020, several severe pneumonia ...  \n",
              "49998  Data were analysed with descriptive statistics...  \n",
              "49999                                                NaN  \n",
              "\n",
              "[50000 rows x 22 columns]"
            ],
            "text/html": [
              "\n",
              "  <div id=\"df-5374bd97-34d2-47b7-bc8c-1d090467d0a4\">\n",
              "    <div class=\"colab-df-container\">\n",
              "      <div>\n",
              "<style scoped>\n",
              "    .dataframe tbody tr th:only-of-type {\n",
              "        vertical-align: middle;\n",
              "    }\n",
              "\n",
              "    .dataframe tbody tr th {\n",
              "        vertical-align: top;\n",
              "    }\n",
              "\n",
              "    .dataframe thead th {\n",
              "        text-align: right;\n",
              "    }\n",
              "</style>\n",
              "<table border=\"1\" class=\"dataframe\">\n",
              "  <thead>\n",
              "    <tr style=\"text-align: right;\">\n",
              "      <th></th>\n",
              "      <th>cord_uid</th>\n",
              "      <th>sha</th>\n",
              "      <th>source_x</th>\n",
              "      <th>title</th>\n",
              "      <th>doi</th>\n",
              "      <th>pmcid</th>\n",
              "      <th>pubmed_id</th>\n",
              "      <th>license</th>\n",
              "      <th>abstract_x</th>\n",
              "      <th>publish_time</th>\n",
              "      <th>...</th>\n",
              "      <th>mag_id</th>\n",
              "      <th>who_covidence_id</th>\n",
              "      <th>arxiv_id</th>\n",
              "      <th>pdf_json_files</th>\n",
              "      <th>pmc_json_files</th>\n",
              "      <th>url</th>\n",
              "      <th>s2_id</th>\n",
              "      <th>abstract_y</th>\n",
              "      <th>body_text_x</th>\n",
              "      <th>body_text_y</th>\n",
              "    </tr>\n",
              "  </thead>\n",
              "  <tbody>\n",
              "    <tr>\n",
              "      <th>0</th>\n",
              "      <td>yskxbzer</td>\n",
              "      <td>5b33034f7b37a76557b4d2db72be64720e73ec15</td>\n",
              "      <td>PMC</td>\n",
              "      <td>Is an infectious trigger always required for p...</td>\n",
              "      <td>10.1002/pbc.27344</td>\n",
              "      <td>PMC7168068</td>\n",
              "      <td>30070073</td>\n",
              "      <td>no-cc</td>\n",
              "      <td>In this report, we evaluate the hypothesis tha...</td>\n",
              "      <td>2018-08-01</td>\n",
              "      <td>...</td>\n",
              "      <td>NaN</td>\n",
              "      <td>NaN</td>\n",
              "      <td>NaN</td>\n",
              "      <td>document_parses/pdf_json/5b33034f7b37a76557b4d...</td>\n",
              "      <td>document_parses/pmc_json/PMC7168068.xml.json</td>\n",
              "      <td>https://www.ncbi.nlm.nih.gov/pmc/articles/PMC7...</td>\n",
              "      <td>NaN</td>\n",
              "      <td>na</td>\n",
              "      <td>NaN</td>\n",
              "      <td>Hemophagocytic lymphohistiocytosis (HLH) is a ...</td>\n",
              "    </tr>\n",
              "    <tr>\n",
              "      <th>1</th>\n",
              "      <td>7gp82nrd</td>\n",
              "      <td>5d6362d3f64ce969e40ba76226a21f6927d586d0</td>\n",
              "      <td>Medline; PMC</td>\n",
              "      <td>A diagnostic testing for people with appendici...</td>\n",
              "      <td>10.1007/s11042-022-11939-8</td>\n",
              "      <td>PMC8785023</td>\n",
              "      <td>35095329</td>\n",
              "      <td>no-cc</td>\n",
              "      <td>Appendicitis is a common disease that occurs p...</td>\n",
              "      <td>2022-01-24</td>\n",
              "      <td>...</td>\n",
              "      <td>NaN</td>\n",
              "      <td>NaN</td>\n",
              "      <td>NaN</td>\n",
              "      <td>document_parses/pdf_json/5d6362d3f64ce969e40ba...</td>\n",
              "      <td>document_parses/pmc_json/PMC8785023.xml.json</td>\n",
              "      <td>https://www.ncbi.nlm.nih.gov/pubmed/35095329/;...</td>\n",
              "      <td>246276378.0</td>\n",
              "      <td>na</td>\n",
              "      <td>NaN</td>\n",
              "      <td>Appendicitis is an infection of the appendix [...</td>\n",
              "    </tr>\n",
              "    <tr>\n",
              "      <th>2</th>\n",
              "      <td>dopbfxz4</td>\n",
              "      <td>250c64fdfd47d83e3f38f20e216ccecbd98e6b08</td>\n",
              "      <td>Medline; PMC</td>\n",
              "      <td>Potent Neutralization of SARS-CoV-2 by Hetero-...</td>\n",
              "      <td>10.1128/jvi.02438-20</td>\n",
              "      <td>PMC8139655</td>\n",
              "      <td>33658349</td>\n",
              "      <td>cc-by</td>\n",
              "      <td>Cellular entry of SARS-CoV-2 requires the bind...</td>\n",
              "      <td>2021-04-26</td>\n",
              "      <td>...</td>\n",
              "      <td>NaN</td>\n",
              "      <td>NaN</td>\n",
              "      <td>NaN</td>\n",
              "      <td>document_parses/pdf_json/250c64fdfd47d83e3f38f...</td>\n",
              "      <td>document_parses/pmc_json/PMC8139655.xml.json</td>\n",
              "      <td>https://www.ncbi.nlm.nih.gov/pubmed/33658349/;...</td>\n",
              "      <td>232113365.0</td>\n",
              "      <td>na</td>\n",
              "      <td>NaN</td>\n",
              "      <td>Coronavirus disease 2019 (COVID-19) caused by ...</td>\n",
              "    </tr>\n",
              "    <tr>\n",
              "      <th>3</th>\n",
              "      <td>1jzsci7a</td>\n",
              "      <td>64a525555bee106a7423b92f685020b0e338561d</td>\n",
              "      <td>Elsevier; PMC</td>\n",
              "      <td>Chapter 542 Hepatitis A Virus Picornain 3C</td>\n",
              "      <td>10.1016/b978-0-12-382219-2.00540-8</td>\n",
              "      <td>PMC7149673</td>\n",
              "      <td>NaN</td>\n",
              "      <td>els-covid</td>\n",
              "      <td>The third edition of the Handbook of Proteolyt...</td>\n",
              "      <td>2013-12-31</td>\n",
              "      <td>...</td>\n",
              "      <td>NaN</td>\n",
              "      <td>NaN</td>\n",
              "      <td>NaN</td>\n",
              "      <td>document_parses/pdf_json/64a525555bee106a7423b...</td>\n",
              "      <td>NaN</td>\n",
              "      <td>https://www.sciencedirect.com/science/article/...</td>\n",
              "      <td>88822282.0</td>\n",
              "      <td>na</td>\n",
              "      <td>NaN</td>\n",
              "      <td>NaN</td>\n",
              "    </tr>\n",
              "    <tr>\n",
              "      <th>4</th>\n",
              "      <td>f9q86tw7</td>\n",
              "      <td>f07fbe58ac649450ba759225e97dffbf00b48e36</td>\n",
              "      <td>Medline; PMC</td>\n",
              "      <td>School Nursing in a Pandemic: Striving for Exc...</td>\n",
              "      <td>10.1177/1942602x211005166</td>\n",
              "      <td>PMC8047512</td>\n",
              "      <td>33847191</td>\n",
              "      <td>cc-by</td>\n",
              "      <td>When the COVID-19 (coronavirus disease 2019) p...</td>\n",
              "      <td>2021-04-13</td>\n",
              "      <td>...</td>\n",
              "      <td>NaN</td>\n",
              "      <td>NaN</td>\n",
              "      <td>NaN</td>\n",
              "      <td>document_parses/pdf_json/f07fbe58ac649450ba759...</td>\n",
              "      <td>document_parses/pmc_json/PMC8047512.xml.json</td>\n",
              "      <td>https://www.ncbi.nlm.nih.gov/pubmed/33847191/;...</td>\n",
              "      <td>233223031.0</td>\n",
              "      <td>na</td>\n",
              "      <td>NaN</td>\n",
              "      <td>SFPS is a Vaccines for Children (VFC) provider...</td>\n",
              "    </tr>\n",
              "    <tr>\n",
              "      <th>...</th>\n",
              "      <td>...</td>\n",
              "      <td>...</td>\n",
              "      <td>...</td>\n",
              "      <td>...</td>\n",
              "      <td>...</td>\n",
              "      <td>...</td>\n",
              "      <td>...</td>\n",
              "      <td>...</td>\n",
              "      <td>...</td>\n",
              "      <td>...</td>\n",
              "      <td>...</td>\n",
              "      <td>...</td>\n",
              "      <td>...</td>\n",
              "      <td>...</td>\n",
              "      <td>...</td>\n",
              "      <td>...</td>\n",
              "      <td>...</td>\n",
              "      <td>...</td>\n",
              "      <td>...</td>\n",
              "      <td>...</td>\n",
              "      <td>...</td>\n",
              "    </tr>\n",
              "    <tr>\n",
              "      <th>49995</th>\n",
              "      <td>71fub3qt</td>\n",
              "      <td>bf96de1e846e0cde4a82c3be6b9c6e8de41b4f97</td>\n",
              "      <td>Medline; PMC</td>\n",
              "      <td>Lessons from a successful public health respon...</td>\n",
              "      <td>10.1111/1753-6405.13077</td>\n",
              "      <td>PMC8013354</td>\n",
              "      <td>33522665</td>\n",
              "      <td>cc-by-nc-nd</td>\n",
              "      <td>NaN</td>\n",
              "      <td>2021-02-01</td>\n",
              "      <td>...</td>\n",
              "      <td>NaN</td>\n",
              "      <td>NaN</td>\n",
              "      <td>NaN</td>\n",
              "      <td>document_parses/pdf_json/bf96de1e846e0cde4a82c...</td>\n",
              "      <td>document_parses/pmc_json/PMC8013354.xml.json</td>\n",
              "      <td>https://doi.org/10.1111/1753-6405.13077; https...</td>\n",
              "      <td>231761872.0</td>\n",
              "      <td>na</td>\n",
              "      <td>NaN</td>\n",
              "      <td>In April 2020, a HCW (hereafter ‘the case’), w...</td>\n",
              "    </tr>\n",
              "    <tr>\n",
              "      <th>49996</th>\n",
              "      <td>d3o07fw7</td>\n",
              "      <td>eeaa65a25dfde55b096829214e4d3739d75c64cd</td>\n",
              "      <td>Elsevier; Medline; PMC</td>\n",
              "      <td>Love in the Time of COVID-19: Sexual Function ...</td>\n",
              "      <td>10.1016/j.jsxm.2020.06.006</td>\n",
              "      <td>PMC7342024</td>\n",
              "      <td>32653391</td>\n",
              "      <td>no-cc</td>\n",
              "      <td>BACKGROUND: The beginning of 2020 was characte...</td>\n",
              "      <td>2020-07-08</td>\n",
              "      <td>...</td>\n",
              "      <td>NaN</td>\n",
              "      <td>NaN</td>\n",
              "      <td>NaN</td>\n",
              "      <td>document_parses/pdf_json/eeaa65a25dfde55b09682...</td>\n",
              "      <td>document_parses/pmc_json/PMC7342024.xml.json</td>\n",
              "      <td>https://api.elsevier.com/content/article/pii/S...</td>\n",
              "      <td>220404840.0</td>\n",
              "      <td>na</td>\n",
              "      <td>NaN</td>\n",
              "      <td>The coronavirus-2019 (COVID-19) represents the...</td>\n",
              "    </tr>\n",
              "    <tr>\n",
              "      <th>49997</th>\n",
              "      <td>e61e6gc6</td>\n",
              "      <td>1b16ebadba4374aeff32f4b7876151531d0cd0f2</td>\n",
              "      <td>Medline; PMC; WHO</td>\n",
              "      <td>Network Analysis of Outpatients to Identify Pr...</td>\n",
              "      <td>10.3389/fmed.2021.685124</td>\n",
              "      <td>PMC8329357</td>\n",
              "      <td>34355004</td>\n",
              "      <td>cc-by</td>\n",
              "      <td>Background: Limited data exist on early predic...</td>\n",
              "      <td>2021-07-20</td>\n",
              "      <td>...</td>\n",
              "      <td>NaN</td>\n",
              "      <td>NaN</td>\n",
              "      <td>NaN</td>\n",
              "      <td>document_parses/pdf_json/1b16ebadba4374aeff32f...</td>\n",
              "      <td>document_parses/pmc_json/PMC8329357.xml.json</td>\n",
              "      <td>https://doi.org/10.3389/fmed.2021.685124; http...</td>\n",
              "      <td>236095506.0</td>\n",
              "      <td>na</td>\n",
              "      <td>NaN</td>\n",
              "      <td>On January 12, 2020, several severe pneumonia ...</td>\n",
              "    </tr>\n",
              "    <tr>\n",
              "      <th>49998</th>\n",
              "      <td>pnrwf8av</td>\n",
              "      <td>c74adad841f58b3c1434d3027611da71a78f2a48</td>\n",
              "      <td>Medline; PMC</td>\n",
              "      <td>Toxicological Aspects of Increased Use of Surf...</td>\n",
              "      <td>10.2478/aiht-2020-71-3470</td>\n",
              "      <td>PMC7968494</td>\n",
              "      <td>33074170</td>\n",
              "      <td>cc-by-nc-nd</td>\n",
              "      <td>All COVID-19 prevention strategies include reg...</td>\n",
              "      <td>2020-10-06</td>\n",
              "      <td>...</td>\n",
              "      <td>NaN</td>\n",
              "      <td>NaN</td>\n",
              "      <td>NaN</td>\n",
              "      <td>document_parses/pdf_json/c74adad841f58b3c1434d...</td>\n",
              "      <td>document_parses/pmc_json/PMC7968494.xml.json</td>\n",
              "      <td>https://doi.org/10.2478/aiht-2020-71-3470; htt...</td>\n",
              "      <td>222316883.0</td>\n",
              "      <td>na</td>\n",
              "      <td>NaN</td>\n",
              "      <td>Data were analysed with descriptive statistics...</td>\n",
              "    </tr>\n",
              "    <tr>\n",
              "      <th>49999</th>\n",
              "      <td>xgzwhlfp</td>\n",
              "      <td>b6dc6cec057c6f797619e061c2de46c96fdc562c</td>\n",
              "      <td>ArXiv</td>\n",
              "      <td>Affine Quantization on the Half Line</td>\n",
              "      <td>NaN</td>\n",
              "      <td>NaN</td>\n",
              "      <td>NaN</td>\n",
              "      <td>arxiv</td>\n",
              "      <td>The similarity between classical and quantum p...</td>\n",
              "      <td>2020-05-18</td>\n",
              "      <td>...</td>\n",
              "      <td>NaN</td>\n",
              "      <td>NaN</td>\n",
              "      <td>2005.08696</td>\n",
              "      <td>document_parses/pdf_json/b6dc6cec057c6f797619e...</td>\n",
              "      <td>NaN</td>\n",
              "      <td>https://arxiv.org/pdf/2005.08696v1.pdf</td>\n",
              "      <td>218674510.0</td>\n",
              "      <td>na</td>\n",
              "      <td>NaN</td>\n",
              "      <td>NaN</td>\n",
              "    </tr>\n",
              "  </tbody>\n",
              "</table>\n",
              "<p>50000 rows × 22 columns</p>\n",
              "</div>\n",
              "      <button class=\"colab-df-convert\" onclick=\"convertToInteractive('df-5374bd97-34d2-47b7-bc8c-1d090467d0a4')\"\n",
              "              title=\"Convert this dataframe to an interactive table.\"\n",
              "              style=\"display:none;\">\n",
              "        \n",
              "  <svg xmlns=\"http://www.w3.org/2000/svg\" height=\"24px\"viewBox=\"0 0 24 24\"\n",
              "       width=\"24px\">\n",
              "    <path d=\"M0 0h24v24H0V0z\" fill=\"none\"/>\n",
              "    <path d=\"M18.56 5.44l.94 2.06.94-2.06 2.06-.94-2.06-.94-.94-2.06-.94 2.06-2.06.94zm-11 1L8.5 8.5l.94-2.06 2.06-.94-2.06-.94L8.5 2.5l-.94 2.06-2.06.94zm10 10l.94 2.06.94-2.06 2.06-.94-2.06-.94-.94-2.06-.94 2.06-2.06.94z\"/><path d=\"M17.41 7.96l-1.37-1.37c-.4-.4-.92-.59-1.43-.59-.52 0-1.04.2-1.43.59L10.3 9.45l-7.72 7.72c-.78.78-.78 2.05 0 2.83L4 21.41c.39.39.9.59 1.41.59.51 0 1.02-.2 1.41-.59l7.78-7.78 2.81-2.81c.8-.78.8-2.07 0-2.86zM5.41 20L4 18.59l7.72-7.72 1.47 1.35L5.41 20z\"/>\n",
              "  </svg>\n",
              "      </button>\n",
              "      \n",
              "  <style>\n",
              "    .colab-df-container {\n",
              "      display:flex;\n",
              "      flex-wrap:wrap;\n",
              "      gap: 12px;\n",
              "    }\n",
              "\n",
              "    .colab-df-convert {\n",
              "      background-color: #E8F0FE;\n",
              "      border: none;\n",
              "      border-radius: 50%;\n",
              "      cursor: pointer;\n",
              "      display: none;\n",
              "      fill: #1967D2;\n",
              "      height: 32px;\n",
              "      padding: 0 0 0 0;\n",
              "      width: 32px;\n",
              "    }\n",
              "\n",
              "    .colab-df-convert:hover {\n",
              "      background-color: #E2EBFA;\n",
              "      box-shadow: 0px 1px 2px rgba(60, 64, 67, 0.3), 0px 1px 3px 1px rgba(60, 64, 67, 0.15);\n",
              "      fill: #174EA6;\n",
              "    }\n",
              "\n",
              "    [theme=dark] .colab-df-convert {\n",
              "      background-color: #3B4455;\n",
              "      fill: #D2E3FC;\n",
              "    }\n",
              "\n",
              "    [theme=dark] .colab-df-convert:hover {\n",
              "      background-color: #434B5C;\n",
              "      box-shadow: 0px 1px 3px 1px rgba(0, 0, 0, 0.15);\n",
              "      filter: drop-shadow(0px 1px 2px rgba(0, 0, 0, 0.3));\n",
              "      fill: #FFFFFF;\n",
              "    }\n",
              "  </style>\n",
              "\n",
              "      <script>\n",
              "        const buttonEl =\n",
              "          document.querySelector('#df-5374bd97-34d2-47b7-bc8c-1d090467d0a4 button.colab-df-convert');\n",
              "        buttonEl.style.display =\n",
              "          google.colab.kernel.accessAllowed ? 'block' : 'none';\n",
              "\n",
              "        async function convertToInteractive(key) {\n",
              "          const element = document.querySelector('#df-5374bd97-34d2-47b7-bc8c-1d090467d0a4');\n",
              "          const dataTable =\n",
              "            await google.colab.kernel.invokeFunction('convertToInteractive',\n",
              "                                                     [key], {});\n",
              "          if (!dataTable) return;\n",
              "\n",
              "          const docLinkHtml = 'Like what you see? Visit the ' +\n",
              "            '<a target=\"_blank\" href=https://colab.research.google.com/notebooks/data_table.ipynb>data table notebook</a>'\n",
              "            + ' to learn more about interactive tables.';\n",
              "          element.innerHTML = '';\n",
              "          dataTable['output_type'] = 'display_data';\n",
              "          await google.colab.output.renderOutput(dataTable, element);\n",
              "          const docLink = document.createElement('div');\n",
              "          docLink.innerHTML = docLinkHtml;\n",
              "          element.appendChild(docLink);\n",
              "        }\n",
              "      </script>\n",
              "    </div>\n",
              "  </div>\n",
              "  "
            ]
          },
          "metadata": {},
          "execution_count": 17
        }
      ],
      "source": [
        "# Comprobación si los documentos tienen abstract\n",
        "df_merged[df_merged['abstract_y'].apply(lambda x: len(str(x)) <= 10)]"
      ]
    },
    {
      "cell_type": "code",
      "execution_count": null,
      "metadata": {
        "id": "Wj2p5AlJRsE2"
      },
      "outputs": [],
      "source": [
        "# Sustituimos abstract_x (columna de metadatos) por abstract_y (pdf_json) valor donde abstract_x es null\n",
        "df_merged.loc[df_merged.abstract_x.isnull() & (df_merged.abstract_y != 'na'),'abstract_x'] = df_merged[df_merged.abstract_x.isnull() & (df_merged.abstract_y != 'na')].abstract_y"
      ]
    },
    {
      "cell_type": "code",
      "execution_count": null,
      "metadata": {
        "colab": {
          "base_uri": "https://localhost:8080/"
        },
        "id": "aQ43DgHbRsE2",
        "outputId": "1246cdb3-b06c-4a03-aff2-145960917574"
      },
      "outputs": [
        {
          "output_type": "execute_result",
          "data": {
            "text/plain": [
              "6416"
            ]
          },
          "metadata": {},
          "execution_count": 19
        }
      ],
      "source": [
        "# Los valores nulos se han reducido que es lo que esperábamos, 6924 anteriormente\n",
        "df_merged.abstract_x.isnull().sum()\n"
      ]
    },
    {
      "cell_type": "code",
      "execution_count": null,
      "metadata": {
        "colab": {
          "base_uri": "https://localhost:8080/"
        },
        "id": "B0oRzA45RsE3",
        "outputId": "2e38d5d5-c668-4112-9c3c-073fc1d3d2ed"
      },
      "outputs": [
        {
          "output_type": "execute_result",
          "data": {
            "text/plain": [
              "Index(['cord_uid', 'sha', 'source_x', 'title', 'doi', 'pmcid', 'pubmed_id',\n",
              "       'license', 'abstract', 'publish_time', 'authors', 'journal', 'mag_id',\n",
              "       'who_covidence_id', 'arxiv_id', 'pdf_json_files', 'pmc_json_files',\n",
              "       'url', 's2_id', 'body_text_x', 'body_text_y'],\n",
              "      dtype='object')"
            ]
          },
          "metadata": {},
          "execution_count": 20
        }
      ],
      "source": [
        "# Eliminamos la columna pdf_json abstract y cambiamos el nombre de la columna metadata abstract\n",
        "df_merged.rename(columns = {'abstract_x' : 'abstract'}, inplace = True)\n",
        "df_merged.drop('abstract_y',axis=1,inplace = True)\n",
        "df_merged.columns"
      ]
    },
    {
      "cell_type": "code",
      "execution_count": null,
      "metadata": {
        "colab": {
          "base_uri": "https://localhost:8080/"
        },
        "id": "Z2Ch1xpIRsE3",
        "outputId": "09c201f2-0f20-4b63-86db-8931bac5d2f6"
      },
      "outputs": [
        {
          "output_type": "execute_result",
          "data": {
            "text/plain": [
              "50000"
            ]
          },
          "metadata": {},
          "execution_count": 21
        }
      ],
      "source": [
        "# Se suman los cuerpos de textos si son distintos de las carpetas pdf y pmc\n",
        "(df_merged.body_text_x != df_merged.body_text_y).sum()"
      ]
    },
    {
      "cell_type": "code",
      "execution_count": null,
      "metadata": {
        "colab": {
          "base_uri": "https://localhost:8080/"
        },
        "id": "dary8YASRsE3",
        "outputId": "f8676376-f6eb-42b5-9faa-d06a5d776cfe"
      },
      "outputs": [
        {
          "output_type": "execute_result",
          "data": {
            "text/plain": [
              "(50000, 0)"
            ]
          },
          "metadata": {},
          "execution_count": 22
        }
      ],
      "source": [
        "# Suma los textos que contengan el campo body_text nulo y los vacios\n",
        "df_merged.body_text_x.isnull().sum(),(df_merged.body_text_y == '').sum()"
      ]
    },
    {
      "cell_type": "code",
      "execution_count": null,
      "metadata": {
        "colab": {
          "base_uri": "https://localhost:8080/"
        },
        "id": "R-6_JAX3RsE4",
        "outputId": "a3f4cc3d-9f3b-4196-df0d-88b75549dbcf"
      },
      "outputs": [
        {
          "output_type": "execute_result",
          "data": {
            "text/plain": [
              "9934"
            ]
          },
          "metadata": {},
          "execution_count": 23
        }
      ],
      "source": [
        "#  Suma los textos que contengan el campo body_text nulo\n",
        "# Se espera esa cantidad porque hay menos documentos en json_pmc\n",
        "df_merged.body_text_y.isnull().sum()"
      ]
    },
    {
      "cell_type": "code",
      "execution_count": null,
      "metadata": {
        "colab": {
          "base_uri": "https://localhost:8080/"
        },
        "id": "nGU4LFIqRsE5",
        "outputId": "d9feaa80-6023-4a1d-efd6-15c1044a60cf"
      },
      "outputs": [
        {
          "output_type": "execute_result",
          "data": {
            "text/plain": [
              "(50000, 9934)"
            ]
          },
          "metadata": {},
          "execution_count": 24
        }
      ],
      "source": [
        "# Suma los textos que contengan el campo body_text nulo para body_text_x y body_text_y\n",
        "df_merged.body_text_x.isnull().sum(),(df_merged.body_text_y.isnull()).sum()"
      ]
    },
    {
      "cell_type": "code",
      "execution_count": null,
      "metadata": {
        "colab": {
          "base_uri": "https://localhost:8080/",
          "height": 1000
        },
        "id": "ChT6FjLcRsE5",
        "outputId": "58e5efd2-679e-4863-e72e-ecf794443f14"
      },
      "outputs": [
        {
          "output_type": "execute_result",
          "data": {
            "text/plain": [
              "       cord_uid                                                sha  \\\n",
              "0      yskxbzer           5b33034f7b37a76557b4d2db72be64720e73ec15   \n",
              "1      7gp82nrd           5d6362d3f64ce969e40ba76226a21f6927d586d0   \n",
              "2      dopbfxz4           250c64fdfd47d83e3f38f20e216ccecbd98e6b08   \n",
              "4      f9q86tw7           f07fbe58ac649450ba759225e97dffbf00b48e36   \n",
              "5      eqlcltk7           ab24aa831b3e9ab444faad74ff72f3425df1612c   \n",
              "...         ...                                                ...   \n",
              "49994  u67euiat  a6bdc2f381253edbbde62e906e727e2e2af6e35f; e9b5...   \n",
              "49995  71fub3qt           bf96de1e846e0cde4a82c3be6b9c6e8de41b4f97   \n",
              "49996  d3o07fw7           eeaa65a25dfde55b096829214e4d3739d75c64cd   \n",
              "49997  e61e6gc6           1b16ebadba4374aeff32f4b7876151531d0cd0f2   \n",
              "49998  pnrwf8av           c74adad841f58b3c1434d3027611da71a78f2a48   \n",
              "\n",
              "                     source_x  \\\n",
              "0                         PMC   \n",
              "1                Medline; PMC   \n",
              "2                Medline; PMC   \n",
              "4                Medline; PMC   \n",
              "5                Medline; PMC   \n",
              "...                       ...   \n",
              "49994  Elsevier; Medline; PMC   \n",
              "49995            Medline; PMC   \n",
              "49996  Elsevier; Medline; PMC   \n",
              "49997       Medline; PMC; WHO   \n",
              "49998            Medline; PMC   \n",
              "\n",
              "                                                   title  \\\n",
              "0      Is an infectious trigger always required for p...   \n",
              "1      A diagnostic testing for people with appendici...   \n",
              "2      Potent Neutralization of SARS-CoV-2 by Hetero-...   \n",
              "4      School Nursing in a Pandemic: Striving for Exc...   \n",
              "5      Weaning management of newly received beef calv...   \n",
              "...                                                  ...   \n",
              "49994              Neurological associations of COVID-19   \n",
              "49995  Lessons from a successful public health respon...   \n",
              "49996  Love in the Time of COVID-19: Sexual Function ...   \n",
              "49997  Network Analysis of Outpatients to Identify Pr...   \n",
              "49998  Toxicological Aspects of Increased Use of Surf...   \n",
              "\n",
              "                                 doi       pmcid pubmed_id      license  \\\n",
              "0                  10.1002/pbc.27344  PMC7168068  30070073        no-cc   \n",
              "1         10.1007/s11042-022-11939-8  PMC8785023  35095329        no-cc   \n",
              "2               10.1128/jvi.02438-20  PMC8139655  33658349        cc-by   \n",
              "4          10.1177/1942602x211005166  PMC8047512  33847191        cc-by   \n",
              "5              10.2527/jas.2011-4077  PMC7110029  22648754        no-cc   \n",
              "...                              ...         ...       ...          ...   \n",
              "49994  10.1016/s1474-4422(20)30221-0  PMC7332267  32622375        no-cc   \n",
              "49995        10.1111/1753-6405.13077  PMC8013354  33522665  cc-by-nc-nd   \n",
              "49996     10.1016/j.jsxm.2020.06.006  PMC7342024  32653391        no-cc   \n",
              "49997       10.3389/fmed.2021.685124  PMC8329357  34355004        cc-by   \n",
              "49998      10.2478/aiht-2020-71-3470  PMC7968494  33074170  cc-by-nc-nd   \n",
              "\n",
              "                                                abstract publish_time  ...  \\\n",
              "0      In this report, we evaluate the hypothesis tha...   2018-08-01  ...   \n",
              "1      Appendicitis is a common disease that occurs p...   2022-01-24  ...   \n",
              "2      Cellular entry of SARS-CoV-2 requires the bind...   2021-04-26  ...   \n",
              "4      When the COVID-19 (coronavirus disease 2019) p...   2021-04-13  ...   \n",
              "5      Exposure to animals persistently infected (PI)...   2012-06-03  ...   \n",
              "...                                                  ...          ...  ...   \n",
              "49994  BACKGROUND: The COVID-19 pandemic, caused by s...   2020-07-02  ...   \n",
              "49995                                                NaN   2021-02-01  ...   \n",
              "49996  BACKGROUND: The beginning of 2020 was characte...   2020-07-08  ...   \n",
              "49997  Background: Limited data exist on early predic...   2021-07-20  ...   \n",
              "49998  All COVID-19 prevention strategies include reg...   2020-10-06  ...   \n",
              "\n",
              "                        journal mag_id  who_covidence_id arxiv_id  \\\n",
              "0          Pediatr Blood Cancer    NaN               NaN      NaN   \n",
              "1           Multimed Tools Appl    NaN               NaN      NaN   \n",
              "2                       J Virol    NaN               NaN      NaN   \n",
              "4                NASN Sch Nurse    NaN               NaN      NaN   \n",
              "5                    J Anim Sci    NaN               NaN      NaN   \n",
              "...                         ...    ...               ...      ...   \n",
              "49994             Lancet Neurol    NaN               NaN      NaN   \n",
              "49995  Aust N Z J Public Health    NaN               NaN      NaN   \n",
              "49996                 J Sex Med    NaN               NaN      NaN   \n",
              "49997      Front Med (Lausanne)    NaN               NaN      NaN   \n",
              "49998     Arh Hig Rada Toksikol    NaN               NaN      NaN   \n",
              "\n",
              "                                          pdf_json_files  \\\n",
              "0      document_parses/pdf_json/5b33034f7b37a76557b4d...   \n",
              "1      document_parses/pdf_json/5d6362d3f64ce969e40ba...   \n",
              "2      document_parses/pdf_json/250c64fdfd47d83e3f38f...   \n",
              "4      document_parses/pdf_json/f07fbe58ac649450ba759...   \n",
              "5      document_parses/pdf_json/ab24aa831b3e9ab444faa...   \n",
              "...                                                  ...   \n",
              "49994  document_parses/pdf_json/a6bdc2f381253edbbde62...   \n",
              "49995  document_parses/pdf_json/bf96de1e846e0cde4a82c...   \n",
              "49996  document_parses/pdf_json/eeaa65a25dfde55b09682...   \n",
              "49997  document_parses/pdf_json/1b16ebadba4374aeff32f...   \n",
              "49998  document_parses/pdf_json/c74adad841f58b3c1434d...   \n",
              "\n",
              "                                     pmc_json_files  \\\n",
              "0      document_parses/pmc_json/PMC7168068.xml.json   \n",
              "1      document_parses/pmc_json/PMC8785023.xml.json   \n",
              "2      document_parses/pmc_json/PMC8139655.xml.json   \n",
              "4      document_parses/pmc_json/PMC8047512.xml.json   \n",
              "5      document_parses/pmc_json/PMC7110029.xml.json   \n",
              "...                                             ...   \n",
              "49994  document_parses/pmc_json/PMC7332267.xml.json   \n",
              "49995  document_parses/pmc_json/PMC8013354.xml.json   \n",
              "49996  document_parses/pmc_json/PMC7342024.xml.json   \n",
              "49997  document_parses/pmc_json/PMC8329357.xml.json   \n",
              "49998  document_parses/pmc_json/PMC7968494.xml.json   \n",
              "\n",
              "                                                     url        s2_id  \\\n",
              "0      https://www.ncbi.nlm.nih.gov/pmc/articles/PMC7...          NaN   \n",
              "1      https://www.ncbi.nlm.nih.gov/pubmed/35095329/;...  246276378.0   \n",
              "2      https://www.ncbi.nlm.nih.gov/pubmed/33658349/;...  232113365.0   \n",
              "4      https://www.ncbi.nlm.nih.gov/pubmed/33847191/;...  233223031.0   \n",
              "5      https://doi.org/10.2527/jas.2011-4077; https:/...     890306.0   \n",
              "...                                                  ...          ...   \n",
              "49994  https://doi.org/10.1016/s1474-4422(20)30221-0;...  220303061.0   \n",
              "49995  https://doi.org/10.1111/1753-6405.13077; https...  231761872.0   \n",
              "49996  https://api.elsevier.com/content/article/pii/S...  220404840.0   \n",
              "49997  https://doi.org/10.3389/fmed.2021.685124; http...  236095506.0   \n",
              "49998  https://doi.org/10.2478/aiht-2020-71-3470; htt...  222316883.0   \n",
              "\n",
              "       body_text_x                                        body_text_y  \n",
              "0              NaN  Hemophagocytic lymphohistiocytosis (HLH) is a ...  \n",
              "1              NaN  Appendicitis is an infection of the appendix [...  \n",
              "2              NaN  Coronavirus disease 2019 (COVID-19) caused by ...  \n",
              "4              NaN  SFPS is a Vaccines for Children (VFC) provider...  \n",
              "5              NaN  Bovine respiratory disease (BRD) is a multifac...  \n",
              "...            ...                                                ...  \n",
              "49994          NaN  As of May 19, 2020, the COVID-19 pandemic, cau...  \n",
              "49995          NaN  In April 2020, a HCW (hereafter ‘the case’), w...  \n",
              "49996          NaN  The coronavirus-2019 (COVID-19) represents the...  \n",
              "49997          NaN  On January 12, 2020, several severe pneumonia ...  \n",
              "49998          NaN  Data were analysed with descriptive statistics...  \n",
              "\n",
              "[40066 rows x 21 columns]"
            ],
            "text/html": [
              "\n",
              "  <div id=\"df-e19f7145-0d86-439e-aac9-87b539178559\">\n",
              "    <div class=\"colab-df-container\">\n",
              "      <div>\n",
              "<style scoped>\n",
              "    .dataframe tbody tr th:only-of-type {\n",
              "        vertical-align: middle;\n",
              "    }\n",
              "\n",
              "    .dataframe tbody tr th {\n",
              "        vertical-align: top;\n",
              "    }\n",
              "\n",
              "    .dataframe thead th {\n",
              "        text-align: right;\n",
              "    }\n",
              "</style>\n",
              "<table border=\"1\" class=\"dataframe\">\n",
              "  <thead>\n",
              "    <tr style=\"text-align: right;\">\n",
              "      <th></th>\n",
              "      <th>cord_uid</th>\n",
              "      <th>sha</th>\n",
              "      <th>source_x</th>\n",
              "      <th>title</th>\n",
              "      <th>doi</th>\n",
              "      <th>pmcid</th>\n",
              "      <th>pubmed_id</th>\n",
              "      <th>license</th>\n",
              "      <th>abstract</th>\n",
              "      <th>publish_time</th>\n",
              "      <th>...</th>\n",
              "      <th>journal</th>\n",
              "      <th>mag_id</th>\n",
              "      <th>who_covidence_id</th>\n",
              "      <th>arxiv_id</th>\n",
              "      <th>pdf_json_files</th>\n",
              "      <th>pmc_json_files</th>\n",
              "      <th>url</th>\n",
              "      <th>s2_id</th>\n",
              "      <th>body_text_x</th>\n",
              "      <th>body_text_y</th>\n",
              "    </tr>\n",
              "  </thead>\n",
              "  <tbody>\n",
              "    <tr>\n",
              "      <th>0</th>\n",
              "      <td>yskxbzer</td>\n",
              "      <td>5b33034f7b37a76557b4d2db72be64720e73ec15</td>\n",
              "      <td>PMC</td>\n",
              "      <td>Is an infectious trigger always required for p...</td>\n",
              "      <td>10.1002/pbc.27344</td>\n",
              "      <td>PMC7168068</td>\n",
              "      <td>30070073</td>\n",
              "      <td>no-cc</td>\n",
              "      <td>In this report, we evaluate the hypothesis tha...</td>\n",
              "      <td>2018-08-01</td>\n",
              "      <td>...</td>\n",
              "      <td>Pediatr Blood Cancer</td>\n",
              "      <td>NaN</td>\n",
              "      <td>NaN</td>\n",
              "      <td>NaN</td>\n",
              "      <td>document_parses/pdf_json/5b33034f7b37a76557b4d...</td>\n",
              "      <td>document_parses/pmc_json/PMC7168068.xml.json</td>\n",
              "      <td>https://www.ncbi.nlm.nih.gov/pmc/articles/PMC7...</td>\n",
              "      <td>NaN</td>\n",
              "      <td>NaN</td>\n",
              "      <td>Hemophagocytic lymphohistiocytosis (HLH) is a ...</td>\n",
              "    </tr>\n",
              "    <tr>\n",
              "      <th>1</th>\n",
              "      <td>7gp82nrd</td>\n",
              "      <td>5d6362d3f64ce969e40ba76226a21f6927d586d0</td>\n",
              "      <td>Medline; PMC</td>\n",
              "      <td>A diagnostic testing for people with appendici...</td>\n",
              "      <td>10.1007/s11042-022-11939-8</td>\n",
              "      <td>PMC8785023</td>\n",
              "      <td>35095329</td>\n",
              "      <td>no-cc</td>\n",
              "      <td>Appendicitis is a common disease that occurs p...</td>\n",
              "      <td>2022-01-24</td>\n",
              "      <td>...</td>\n",
              "      <td>Multimed Tools Appl</td>\n",
              "      <td>NaN</td>\n",
              "      <td>NaN</td>\n",
              "      <td>NaN</td>\n",
              "      <td>document_parses/pdf_json/5d6362d3f64ce969e40ba...</td>\n",
              "      <td>document_parses/pmc_json/PMC8785023.xml.json</td>\n",
              "      <td>https://www.ncbi.nlm.nih.gov/pubmed/35095329/;...</td>\n",
              "      <td>246276378.0</td>\n",
              "      <td>NaN</td>\n",
              "      <td>Appendicitis is an infection of the appendix [...</td>\n",
              "    </tr>\n",
              "    <tr>\n",
              "      <th>2</th>\n",
              "      <td>dopbfxz4</td>\n",
              "      <td>250c64fdfd47d83e3f38f20e216ccecbd98e6b08</td>\n",
              "      <td>Medline; PMC</td>\n",
              "      <td>Potent Neutralization of SARS-CoV-2 by Hetero-...</td>\n",
              "      <td>10.1128/jvi.02438-20</td>\n",
              "      <td>PMC8139655</td>\n",
              "      <td>33658349</td>\n",
              "      <td>cc-by</td>\n",
              "      <td>Cellular entry of SARS-CoV-2 requires the bind...</td>\n",
              "      <td>2021-04-26</td>\n",
              "      <td>...</td>\n",
              "      <td>J Virol</td>\n",
              "      <td>NaN</td>\n",
              "      <td>NaN</td>\n",
              "      <td>NaN</td>\n",
              "      <td>document_parses/pdf_json/250c64fdfd47d83e3f38f...</td>\n",
              "      <td>document_parses/pmc_json/PMC8139655.xml.json</td>\n",
              "      <td>https://www.ncbi.nlm.nih.gov/pubmed/33658349/;...</td>\n",
              "      <td>232113365.0</td>\n",
              "      <td>NaN</td>\n",
              "      <td>Coronavirus disease 2019 (COVID-19) caused by ...</td>\n",
              "    </tr>\n",
              "    <tr>\n",
              "      <th>4</th>\n",
              "      <td>f9q86tw7</td>\n",
              "      <td>f07fbe58ac649450ba759225e97dffbf00b48e36</td>\n",
              "      <td>Medline; PMC</td>\n",
              "      <td>School Nursing in a Pandemic: Striving for Exc...</td>\n",
              "      <td>10.1177/1942602x211005166</td>\n",
              "      <td>PMC8047512</td>\n",
              "      <td>33847191</td>\n",
              "      <td>cc-by</td>\n",
              "      <td>When the COVID-19 (coronavirus disease 2019) p...</td>\n",
              "      <td>2021-04-13</td>\n",
              "      <td>...</td>\n",
              "      <td>NASN Sch Nurse</td>\n",
              "      <td>NaN</td>\n",
              "      <td>NaN</td>\n",
              "      <td>NaN</td>\n",
              "      <td>document_parses/pdf_json/f07fbe58ac649450ba759...</td>\n",
              "      <td>document_parses/pmc_json/PMC8047512.xml.json</td>\n",
              "      <td>https://www.ncbi.nlm.nih.gov/pubmed/33847191/;...</td>\n",
              "      <td>233223031.0</td>\n",
              "      <td>NaN</td>\n",
              "      <td>SFPS is a Vaccines for Children (VFC) provider...</td>\n",
              "    </tr>\n",
              "    <tr>\n",
              "      <th>5</th>\n",
              "      <td>eqlcltk7</td>\n",
              "      <td>ab24aa831b3e9ab444faad74ff72f3425df1612c</td>\n",
              "      <td>Medline; PMC</td>\n",
              "      <td>Weaning management of newly received beef calv...</td>\n",
              "      <td>10.2527/jas.2011-4077</td>\n",
              "      <td>PMC7110029</td>\n",
              "      <td>22648754</td>\n",
              "      <td>no-cc</td>\n",
              "      <td>Exposure to animals persistently infected (PI)...</td>\n",
              "      <td>2012-06-03</td>\n",
              "      <td>...</td>\n",
              "      <td>J Anim Sci</td>\n",
              "      <td>NaN</td>\n",
              "      <td>NaN</td>\n",
              "      <td>NaN</td>\n",
              "      <td>document_parses/pdf_json/ab24aa831b3e9ab444faa...</td>\n",
              "      <td>document_parses/pmc_json/PMC7110029.xml.json</td>\n",
              "      <td>https://doi.org/10.2527/jas.2011-4077; https:/...</td>\n",
              "      <td>890306.0</td>\n",
              "      <td>NaN</td>\n",
              "      <td>Bovine respiratory disease (BRD) is a multifac...</td>\n",
              "    </tr>\n",
              "    <tr>\n",
              "      <th>...</th>\n",
              "      <td>...</td>\n",
              "      <td>...</td>\n",
              "      <td>...</td>\n",
              "      <td>...</td>\n",
              "      <td>...</td>\n",
              "      <td>...</td>\n",
              "      <td>...</td>\n",
              "      <td>...</td>\n",
              "      <td>...</td>\n",
              "      <td>...</td>\n",
              "      <td>...</td>\n",
              "      <td>...</td>\n",
              "      <td>...</td>\n",
              "      <td>...</td>\n",
              "      <td>...</td>\n",
              "      <td>...</td>\n",
              "      <td>...</td>\n",
              "      <td>...</td>\n",
              "      <td>...</td>\n",
              "      <td>...</td>\n",
              "      <td>...</td>\n",
              "    </tr>\n",
              "    <tr>\n",
              "      <th>49994</th>\n",
              "      <td>u67euiat</td>\n",
              "      <td>a6bdc2f381253edbbde62e906e727e2e2af6e35f; e9b5...</td>\n",
              "      <td>Elsevier; Medline; PMC</td>\n",
              "      <td>Neurological associations of COVID-19</td>\n",
              "      <td>10.1016/s1474-4422(20)30221-0</td>\n",
              "      <td>PMC7332267</td>\n",
              "      <td>32622375</td>\n",
              "      <td>no-cc</td>\n",
              "      <td>BACKGROUND: The COVID-19 pandemic, caused by s...</td>\n",
              "      <td>2020-07-02</td>\n",
              "      <td>...</td>\n",
              "      <td>Lancet Neurol</td>\n",
              "      <td>NaN</td>\n",
              "      <td>NaN</td>\n",
              "      <td>NaN</td>\n",
              "      <td>document_parses/pdf_json/a6bdc2f381253edbbde62...</td>\n",
              "      <td>document_parses/pmc_json/PMC7332267.xml.json</td>\n",
              "      <td>https://doi.org/10.1016/s1474-4422(20)30221-0;...</td>\n",
              "      <td>220303061.0</td>\n",
              "      <td>NaN</td>\n",
              "      <td>As of May 19, 2020, the COVID-19 pandemic, cau...</td>\n",
              "    </tr>\n",
              "    <tr>\n",
              "      <th>49995</th>\n",
              "      <td>71fub3qt</td>\n",
              "      <td>bf96de1e846e0cde4a82c3be6b9c6e8de41b4f97</td>\n",
              "      <td>Medline; PMC</td>\n",
              "      <td>Lessons from a successful public health respon...</td>\n",
              "      <td>10.1111/1753-6405.13077</td>\n",
              "      <td>PMC8013354</td>\n",
              "      <td>33522665</td>\n",
              "      <td>cc-by-nc-nd</td>\n",
              "      <td>NaN</td>\n",
              "      <td>2021-02-01</td>\n",
              "      <td>...</td>\n",
              "      <td>Aust N Z J Public Health</td>\n",
              "      <td>NaN</td>\n",
              "      <td>NaN</td>\n",
              "      <td>NaN</td>\n",
              "      <td>document_parses/pdf_json/bf96de1e846e0cde4a82c...</td>\n",
              "      <td>document_parses/pmc_json/PMC8013354.xml.json</td>\n",
              "      <td>https://doi.org/10.1111/1753-6405.13077; https...</td>\n",
              "      <td>231761872.0</td>\n",
              "      <td>NaN</td>\n",
              "      <td>In April 2020, a HCW (hereafter ‘the case’), w...</td>\n",
              "    </tr>\n",
              "    <tr>\n",
              "      <th>49996</th>\n",
              "      <td>d3o07fw7</td>\n",
              "      <td>eeaa65a25dfde55b096829214e4d3739d75c64cd</td>\n",
              "      <td>Elsevier; Medline; PMC</td>\n",
              "      <td>Love in the Time of COVID-19: Sexual Function ...</td>\n",
              "      <td>10.1016/j.jsxm.2020.06.006</td>\n",
              "      <td>PMC7342024</td>\n",
              "      <td>32653391</td>\n",
              "      <td>no-cc</td>\n",
              "      <td>BACKGROUND: The beginning of 2020 was characte...</td>\n",
              "      <td>2020-07-08</td>\n",
              "      <td>...</td>\n",
              "      <td>J Sex Med</td>\n",
              "      <td>NaN</td>\n",
              "      <td>NaN</td>\n",
              "      <td>NaN</td>\n",
              "      <td>document_parses/pdf_json/eeaa65a25dfde55b09682...</td>\n",
              "      <td>document_parses/pmc_json/PMC7342024.xml.json</td>\n",
              "      <td>https://api.elsevier.com/content/article/pii/S...</td>\n",
              "      <td>220404840.0</td>\n",
              "      <td>NaN</td>\n",
              "      <td>The coronavirus-2019 (COVID-19) represents the...</td>\n",
              "    </tr>\n",
              "    <tr>\n",
              "      <th>49997</th>\n",
              "      <td>e61e6gc6</td>\n",
              "      <td>1b16ebadba4374aeff32f4b7876151531d0cd0f2</td>\n",
              "      <td>Medline; PMC; WHO</td>\n",
              "      <td>Network Analysis of Outpatients to Identify Pr...</td>\n",
              "      <td>10.3389/fmed.2021.685124</td>\n",
              "      <td>PMC8329357</td>\n",
              "      <td>34355004</td>\n",
              "      <td>cc-by</td>\n",
              "      <td>Background: Limited data exist on early predic...</td>\n",
              "      <td>2021-07-20</td>\n",
              "      <td>...</td>\n",
              "      <td>Front Med (Lausanne)</td>\n",
              "      <td>NaN</td>\n",
              "      <td>NaN</td>\n",
              "      <td>NaN</td>\n",
              "      <td>document_parses/pdf_json/1b16ebadba4374aeff32f...</td>\n",
              "      <td>document_parses/pmc_json/PMC8329357.xml.json</td>\n",
              "      <td>https://doi.org/10.3389/fmed.2021.685124; http...</td>\n",
              "      <td>236095506.0</td>\n",
              "      <td>NaN</td>\n",
              "      <td>On January 12, 2020, several severe pneumonia ...</td>\n",
              "    </tr>\n",
              "    <tr>\n",
              "      <th>49998</th>\n",
              "      <td>pnrwf8av</td>\n",
              "      <td>c74adad841f58b3c1434d3027611da71a78f2a48</td>\n",
              "      <td>Medline; PMC</td>\n",
              "      <td>Toxicological Aspects of Increased Use of Surf...</td>\n",
              "      <td>10.2478/aiht-2020-71-3470</td>\n",
              "      <td>PMC7968494</td>\n",
              "      <td>33074170</td>\n",
              "      <td>cc-by-nc-nd</td>\n",
              "      <td>All COVID-19 prevention strategies include reg...</td>\n",
              "      <td>2020-10-06</td>\n",
              "      <td>...</td>\n",
              "      <td>Arh Hig Rada Toksikol</td>\n",
              "      <td>NaN</td>\n",
              "      <td>NaN</td>\n",
              "      <td>NaN</td>\n",
              "      <td>document_parses/pdf_json/c74adad841f58b3c1434d...</td>\n",
              "      <td>document_parses/pmc_json/PMC7968494.xml.json</td>\n",
              "      <td>https://doi.org/10.2478/aiht-2020-71-3470; htt...</td>\n",
              "      <td>222316883.0</td>\n",
              "      <td>NaN</td>\n",
              "      <td>Data were analysed with descriptive statistics...</td>\n",
              "    </tr>\n",
              "  </tbody>\n",
              "</table>\n",
              "<p>40066 rows × 21 columns</p>\n",
              "</div>\n",
              "      <button class=\"colab-df-convert\" onclick=\"convertToInteractive('df-e19f7145-0d86-439e-aac9-87b539178559')\"\n",
              "              title=\"Convert this dataframe to an interactive table.\"\n",
              "              style=\"display:none;\">\n",
              "        \n",
              "  <svg xmlns=\"http://www.w3.org/2000/svg\" height=\"24px\"viewBox=\"0 0 24 24\"\n",
              "       width=\"24px\">\n",
              "    <path d=\"M0 0h24v24H0V0z\" fill=\"none\"/>\n",
              "    <path d=\"M18.56 5.44l.94 2.06.94-2.06 2.06-.94-2.06-.94-.94-2.06-.94 2.06-2.06.94zm-11 1L8.5 8.5l.94-2.06 2.06-.94-2.06-.94L8.5 2.5l-.94 2.06-2.06.94zm10 10l.94 2.06.94-2.06 2.06-.94-2.06-.94-.94-2.06-.94 2.06-2.06.94z\"/><path d=\"M17.41 7.96l-1.37-1.37c-.4-.4-.92-.59-1.43-.59-.52 0-1.04.2-1.43.59L10.3 9.45l-7.72 7.72c-.78.78-.78 2.05 0 2.83L4 21.41c.39.39.9.59 1.41.59.51 0 1.02-.2 1.41-.59l7.78-7.78 2.81-2.81c.8-.78.8-2.07 0-2.86zM5.41 20L4 18.59l7.72-7.72 1.47 1.35L5.41 20z\"/>\n",
              "  </svg>\n",
              "      </button>\n",
              "      \n",
              "  <style>\n",
              "    .colab-df-container {\n",
              "      display:flex;\n",
              "      flex-wrap:wrap;\n",
              "      gap: 12px;\n",
              "    }\n",
              "\n",
              "    .colab-df-convert {\n",
              "      background-color: #E8F0FE;\n",
              "      border: none;\n",
              "      border-radius: 50%;\n",
              "      cursor: pointer;\n",
              "      display: none;\n",
              "      fill: #1967D2;\n",
              "      height: 32px;\n",
              "      padding: 0 0 0 0;\n",
              "      width: 32px;\n",
              "    }\n",
              "\n",
              "    .colab-df-convert:hover {\n",
              "      background-color: #E2EBFA;\n",
              "      box-shadow: 0px 1px 2px rgba(60, 64, 67, 0.3), 0px 1px 3px 1px rgba(60, 64, 67, 0.15);\n",
              "      fill: #174EA6;\n",
              "    }\n",
              "\n",
              "    [theme=dark] .colab-df-convert {\n",
              "      background-color: #3B4455;\n",
              "      fill: #D2E3FC;\n",
              "    }\n",
              "\n",
              "    [theme=dark] .colab-df-convert:hover {\n",
              "      background-color: #434B5C;\n",
              "      box-shadow: 0px 1px 3px 1px rgba(0, 0, 0, 0.15);\n",
              "      filter: drop-shadow(0px 1px 2px rgba(0, 0, 0, 0.3));\n",
              "      fill: #FFFFFF;\n",
              "    }\n",
              "  </style>\n",
              "\n",
              "      <script>\n",
              "        const buttonEl =\n",
              "          document.querySelector('#df-e19f7145-0d86-439e-aac9-87b539178559 button.colab-df-convert');\n",
              "        buttonEl.style.display =\n",
              "          google.colab.kernel.accessAllowed ? 'block' : 'none';\n",
              "\n",
              "        async function convertToInteractive(key) {\n",
              "          const element = document.querySelector('#df-e19f7145-0d86-439e-aac9-87b539178559');\n",
              "          const dataTable =\n",
              "            await google.colab.kernel.invokeFunction('convertToInteractive',\n",
              "                                                     [key], {});\n",
              "          if (!dataTable) return;\n",
              "\n",
              "          const docLinkHtml = 'Like what you see? Visit the ' +\n",
              "            '<a target=\"_blank\" href=https://colab.research.google.com/notebooks/data_table.ipynb>data table notebook</a>'\n",
              "            + ' to learn more about interactive tables.';\n",
              "          element.innerHTML = '';\n",
              "          dataTable['output_type'] = 'display_data';\n",
              "          await google.colab.output.renderOutput(dataTable, element);\n",
              "          const docLink = document.createElement('div');\n",
              "          docLink.innerHTML = docLinkHtml;\n",
              "          element.appendChild(docLink);\n",
              "        }\n",
              "      </script>\n",
              "    </div>\n",
              "  </div>\n",
              "  "
            ]
          },
          "metadata": {},
          "execution_count": 25
        }
      ],
      "source": [
        "# Hay ~13k filas en las que body_text_x es null pero body_text_y no es null# Hay ~13k filas en las que body_text_x es null pero body_text_y no es null\n",
        "df_merged.loc[df_merged.body_text_x.isnull() & df_merged.body_text_y.notnull()]"
      ]
    },
    {
      "cell_type": "code",
      "execution_count": null,
      "metadata": {
        "id": "BiWlak1vRsE5"
      },
      "outputs": [],
      "source": [
        "# Confiamos en que el texto de la carpeta pmc sea de mayor calidad ya que contiene el texto completo. \n",
        "# Por lo tanto, vamos a reemplazar con body_text_x con body_text_y donde body_text_y existe\n",
        "df_merged.loc[df_merged.body_text_y.notnull(),'body_text_x'] = df_merged.loc[df_merged.body_text_y.notnull(), 'body_text_y']"
      ]
    },
    {
      "cell_type": "code",
      "execution_count": null,
      "metadata": {
        "colab": {
          "base_uri": "https://localhost:8080/"
        },
        "id": "DL6DRtOvRsE6",
        "outputId": "6a2113d5-117f-45ce-8105-4749c45bf313"
      },
      "outputs": [
        {
          "output_type": "execute_result",
          "data": {
            "text/plain": [
              "Index(['cord_uid', 'sha', 'source_x', 'title', 'doi', 'pmcid', 'pubmed_id',\n",
              "       'license', 'abstract', 'publish_time', 'authors', 'journal', 'mag_id',\n",
              "       'who_covidence_id', 'arxiv_id', 'pdf_json_files', 'pmc_json_files',\n",
              "       'url', 's2_id', 'body_text'],\n",
              "      dtype='object')"
            ]
          },
          "metadata": {},
          "execution_count": 27
        }
      ],
      "source": [
        "# Eliminamos la columna pdf_pmc body text y cambiamos el nombre de la columna body textdf_merged.rename(columns = {'body_text_x' : 'body_text'}, inplace = True)\n",
        "df_merged.rename(columns = {'body_text_x' : 'body_text'}, inplace = True)\n",
        "df_merged.drop('body_text_y',axis=1,inplace = True)\n",
        "df_merged.columns"
      ]
    },
    {
      "cell_type": "code",
      "execution_count": null,
      "metadata": {
        "colab": {
          "base_uri": "https://localhost:8080/"
        },
        "id": "GowYLIlxRsE6",
        "outputId": "84e25894-27b3-4cd8-8418-63cfdbcbab57"
      },
      "outputs": [
        {
          "output_type": "execute_result",
          "data": {
            "text/plain": [
              "9934"
            ]
          },
          "metadata": {},
          "execution_count": 28
        }
      ],
      "source": [
        "# Los valores nulos del cuerpo del texto (body_text) ahora han disminuido. \n",
        "df_merged.body_text.isnull().sum()"
      ]
    },
    {
      "cell_type": "code",
      "execution_count": null,
      "metadata": {
        "colab": {
          "base_uri": "https://localhost:8080/"
        },
        "id": "bbigwfhRRsE6",
        "outputId": "3e1bf0d0-a297-40d9-ae21-7b2f80a90ea2"
      },
      "outputs": [
        {
          "output_type": "execute_result",
          "data": {
            "text/plain": [
              "Index(['cord_uid', 'sha', 'source_x', 'title', 'doi', 'pmcid', 'pubmed_id',\n",
              "       'license', 'abstract', 'publish_time', 'authors', 'journal', 'mag_id',\n",
              "       'who_covidence_id', 'arxiv_id', 'pdf_json_files', 'pmc_json_files',\n",
              "       'url', 's2_id', 'body_text'],\n",
              "      dtype='object')"
            ]
          },
          "metadata": {},
          "execution_count": 29
        }
      ],
      "source": [
        "# Indica los campos que forman la columna\n",
        "df_merged.columns"
      ]
    },
    {
      "cell_type": "code",
      "execution_count": null,
      "metadata": {
        "id": "V7Rgm2TIRsE7"
      },
      "outputs": [],
      "source": [
        "# Selección de los campos que se van a utilizar y guardar\n",
        "df_final = df_merged[['sha', 'title', 'abstract', 'publish_time', 'authors', 'url', 'body_text']]\n",
        "df_finalfiltro = df_final"
      ]
    },
    {
      "cell_type": "code",
      "execution_count": null,
      "metadata": {
        "colab": {
          "base_uri": "https://localhost:8080/",
          "height": 687
        },
        "id": "HF6W0y_-RsE7",
        "outputId": "2d6c980c-4f10-455b-9b51-a06c41844f27"
      },
      "outputs": [
        {
          "output_type": "execute_result",
          "data": {
            "text/plain": [
              "                                        sha  \\\n",
              "0  5b33034f7b37a76557b4d2db72be64720e73ec15   \n",
              "1  5d6362d3f64ce969e40ba76226a21f6927d586d0   \n",
              "2  250c64fdfd47d83e3f38f20e216ccecbd98e6b08   \n",
              "3  64a525555bee106a7423b92f685020b0e338561d   \n",
              "4  f07fbe58ac649450ba759225e97dffbf00b48e36   \n",
              "\n",
              "                                               title  \\\n",
              "0  Is an infectious trigger always required for p...   \n",
              "1  A diagnostic testing for people with appendici...   \n",
              "2  Potent Neutralization of SARS-CoV-2 by Hetero-...   \n",
              "3         Chapter 542 Hepatitis A Virus Picornain 3C   \n",
              "4  School Nursing in a Pandemic: Striving for Exc...   \n",
              "\n",
              "                                            abstract publish_time  \\\n",
              "0  In this report, we evaluate the hypothesis tha...   2018-08-01   \n",
              "1  Appendicitis is a common disease that occurs p...   2022-01-24   \n",
              "2  Cellular entry of SARS-CoV-2 requires the bind...   2021-04-26   \n",
              "3  The third edition of the Handbook of Proteolyt...   2013-12-31   \n",
              "4  When the COVID-19 (coronavirus disease 2019) p...   2021-04-13   \n",
              "\n",
              "                                             authors  \\\n",
              "0  Heeg, Maximilian; Ammann, Sandra; Klemann, Chr...   \n",
              "1                   Mijwil, Maad M.; Aggarwal, Karan   \n",
              "2  Ma, Huan; Zeng, Weihong; Meng, Xiangzhi; Huang...   \n",
              "3                     Yin, Jiang; Bergmann, Ernst M.   \n",
              "4  Barbee-Lee, Myrna; Seymour, Kimber; Hett, Anit...   \n",
              "\n",
              "                                                 url  \\\n",
              "0  https://www.ncbi.nlm.nih.gov/pmc/articles/PMC7...   \n",
              "1  https://www.ncbi.nlm.nih.gov/pubmed/35095329/;...   \n",
              "2  https://www.ncbi.nlm.nih.gov/pubmed/33658349/;...   \n",
              "3  https://www.sciencedirect.com/science/article/...   \n",
              "4  https://www.ncbi.nlm.nih.gov/pubmed/33847191/;...   \n",
              "\n",
              "                                           body_text  \n",
              "0  Hemophagocytic lymphohistiocytosis (HLH) is a ...  \n",
              "1  Appendicitis is an infection of the appendix [...  \n",
              "2  Coronavirus disease 2019 (COVID-19) caused by ...  \n",
              "3                                                NaN  \n",
              "4  SFPS is a Vaccines for Children (VFC) provider...  "
            ],
            "text/html": [
              "\n",
              "  <div id=\"df-e6eefe2b-b25f-4e03-b19f-e898c9a59be8\">\n",
              "    <div class=\"colab-df-container\">\n",
              "      <div>\n",
              "<style scoped>\n",
              "    .dataframe tbody tr th:only-of-type {\n",
              "        vertical-align: middle;\n",
              "    }\n",
              "\n",
              "    .dataframe tbody tr th {\n",
              "        vertical-align: top;\n",
              "    }\n",
              "\n",
              "    .dataframe thead th {\n",
              "        text-align: right;\n",
              "    }\n",
              "</style>\n",
              "<table border=\"1\" class=\"dataframe\">\n",
              "  <thead>\n",
              "    <tr style=\"text-align: right;\">\n",
              "      <th></th>\n",
              "      <th>sha</th>\n",
              "      <th>title</th>\n",
              "      <th>abstract</th>\n",
              "      <th>publish_time</th>\n",
              "      <th>authors</th>\n",
              "      <th>url</th>\n",
              "      <th>body_text</th>\n",
              "    </tr>\n",
              "  </thead>\n",
              "  <tbody>\n",
              "    <tr>\n",
              "      <th>0</th>\n",
              "      <td>5b33034f7b37a76557b4d2db72be64720e73ec15</td>\n",
              "      <td>Is an infectious trigger always required for p...</td>\n",
              "      <td>In this report, we evaluate the hypothesis tha...</td>\n",
              "      <td>2018-08-01</td>\n",
              "      <td>Heeg, Maximilian; Ammann, Sandra; Klemann, Chr...</td>\n",
              "      <td>https://www.ncbi.nlm.nih.gov/pmc/articles/PMC7...</td>\n",
              "      <td>Hemophagocytic lymphohistiocytosis (HLH) is a ...</td>\n",
              "    </tr>\n",
              "    <tr>\n",
              "      <th>1</th>\n",
              "      <td>5d6362d3f64ce969e40ba76226a21f6927d586d0</td>\n",
              "      <td>A diagnostic testing for people with appendici...</td>\n",
              "      <td>Appendicitis is a common disease that occurs p...</td>\n",
              "      <td>2022-01-24</td>\n",
              "      <td>Mijwil, Maad M.; Aggarwal, Karan</td>\n",
              "      <td>https://www.ncbi.nlm.nih.gov/pubmed/35095329/;...</td>\n",
              "      <td>Appendicitis is an infection of the appendix [...</td>\n",
              "    </tr>\n",
              "    <tr>\n",
              "      <th>2</th>\n",
              "      <td>250c64fdfd47d83e3f38f20e216ccecbd98e6b08</td>\n",
              "      <td>Potent Neutralization of SARS-CoV-2 by Hetero-...</td>\n",
              "      <td>Cellular entry of SARS-CoV-2 requires the bind...</td>\n",
              "      <td>2021-04-26</td>\n",
              "      <td>Ma, Huan; Zeng, Weihong; Meng, Xiangzhi; Huang...</td>\n",
              "      <td>https://www.ncbi.nlm.nih.gov/pubmed/33658349/;...</td>\n",
              "      <td>Coronavirus disease 2019 (COVID-19) caused by ...</td>\n",
              "    </tr>\n",
              "    <tr>\n",
              "      <th>3</th>\n",
              "      <td>64a525555bee106a7423b92f685020b0e338561d</td>\n",
              "      <td>Chapter 542 Hepatitis A Virus Picornain 3C</td>\n",
              "      <td>The third edition of the Handbook of Proteolyt...</td>\n",
              "      <td>2013-12-31</td>\n",
              "      <td>Yin, Jiang; Bergmann, Ernst M.</td>\n",
              "      <td>https://www.sciencedirect.com/science/article/...</td>\n",
              "      <td>NaN</td>\n",
              "    </tr>\n",
              "    <tr>\n",
              "      <th>4</th>\n",
              "      <td>f07fbe58ac649450ba759225e97dffbf00b48e36</td>\n",
              "      <td>School Nursing in a Pandemic: Striving for Exc...</td>\n",
              "      <td>When the COVID-19 (coronavirus disease 2019) p...</td>\n",
              "      <td>2021-04-13</td>\n",
              "      <td>Barbee-Lee, Myrna; Seymour, Kimber; Hett, Anit...</td>\n",
              "      <td>https://www.ncbi.nlm.nih.gov/pubmed/33847191/;...</td>\n",
              "      <td>SFPS is a Vaccines for Children (VFC) provider...</td>\n",
              "    </tr>\n",
              "  </tbody>\n",
              "</table>\n",
              "</div>\n",
              "      <button class=\"colab-df-convert\" onclick=\"convertToInteractive('df-e6eefe2b-b25f-4e03-b19f-e898c9a59be8')\"\n",
              "              title=\"Convert this dataframe to an interactive table.\"\n",
              "              style=\"display:none;\">\n",
              "        \n",
              "  <svg xmlns=\"http://www.w3.org/2000/svg\" height=\"24px\"viewBox=\"0 0 24 24\"\n",
              "       width=\"24px\">\n",
              "    <path d=\"M0 0h24v24H0V0z\" fill=\"none\"/>\n",
              "    <path d=\"M18.56 5.44l.94 2.06.94-2.06 2.06-.94-2.06-.94-.94-2.06-.94 2.06-2.06.94zm-11 1L8.5 8.5l.94-2.06 2.06-.94-2.06-.94L8.5 2.5l-.94 2.06-2.06.94zm10 10l.94 2.06.94-2.06 2.06-.94-2.06-.94-.94-2.06-.94 2.06-2.06.94z\"/><path d=\"M17.41 7.96l-1.37-1.37c-.4-.4-.92-.59-1.43-.59-.52 0-1.04.2-1.43.59L10.3 9.45l-7.72 7.72c-.78.78-.78 2.05 0 2.83L4 21.41c.39.39.9.59 1.41.59.51 0 1.02-.2 1.41-.59l7.78-7.78 2.81-2.81c.8-.78.8-2.07 0-2.86zM5.41 20L4 18.59l7.72-7.72 1.47 1.35L5.41 20z\"/>\n",
              "  </svg>\n",
              "      </button>\n",
              "      \n",
              "  <style>\n",
              "    .colab-df-container {\n",
              "      display:flex;\n",
              "      flex-wrap:wrap;\n",
              "      gap: 12px;\n",
              "    }\n",
              "\n",
              "    .colab-df-convert {\n",
              "      background-color: #E8F0FE;\n",
              "      border: none;\n",
              "      border-radius: 50%;\n",
              "      cursor: pointer;\n",
              "      display: none;\n",
              "      fill: #1967D2;\n",
              "      height: 32px;\n",
              "      padding: 0 0 0 0;\n",
              "      width: 32px;\n",
              "    }\n",
              "\n",
              "    .colab-df-convert:hover {\n",
              "      background-color: #E2EBFA;\n",
              "      box-shadow: 0px 1px 2px rgba(60, 64, 67, 0.3), 0px 1px 3px 1px rgba(60, 64, 67, 0.15);\n",
              "      fill: #174EA6;\n",
              "    }\n",
              "\n",
              "    [theme=dark] .colab-df-convert {\n",
              "      background-color: #3B4455;\n",
              "      fill: #D2E3FC;\n",
              "    }\n",
              "\n",
              "    [theme=dark] .colab-df-convert:hover {\n",
              "      background-color: #434B5C;\n",
              "      box-shadow: 0px 1px 3px 1px rgba(0, 0, 0, 0.15);\n",
              "      filter: drop-shadow(0px 1px 2px rgba(0, 0, 0, 0.3));\n",
              "      fill: #FFFFFF;\n",
              "    }\n",
              "  </style>\n",
              "\n",
              "      <script>\n",
              "        const buttonEl =\n",
              "          document.querySelector('#df-e6eefe2b-b25f-4e03-b19f-e898c9a59be8 button.colab-df-convert');\n",
              "        buttonEl.style.display =\n",
              "          google.colab.kernel.accessAllowed ? 'block' : 'none';\n",
              "\n",
              "        async function convertToInteractive(key) {\n",
              "          const element = document.querySelector('#df-e6eefe2b-b25f-4e03-b19f-e898c9a59be8');\n",
              "          const dataTable =\n",
              "            await google.colab.kernel.invokeFunction('convertToInteractive',\n",
              "                                                     [key], {});\n",
              "          if (!dataTable) return;\n",
              "\n",
              "          const docLinkHtml = 'Like what you see? Visit the ' +\n",
              "            '<a target=\"_blank\" href=https://colab.research.google.com/notebooks/data_table.ipynb>data table notebook</a>'\n",
              "            + ' to learn more about interactive tables.';\n",
              "          element.innerHTML = '';\n",
              "          dataTable['output_type'] = 'display_data';\n",
              "          await google.colab.output.renderOutput(dataTable, element);\n",
              "          const docLink = document.createElement('div');\n",
              "          docLink.innerHTML = docLinkHtml;\n",
              "          element.appendChild(docLink);\n",
              "        }\n",
              "      </script>\n",
              "    </div>\n",
              "  </div>\n",
              "  "
            ]
          },
          "metadata": {},
          "execution_count": 31
        }
      ],
      "source": [
        "df_final.head()"
      ]
    },
    {
      "cell_type": "markdown",
      "source": [
        "FILTROS PARA SELECCIONAR DOCUMENTOS POR SU \"title\" Y \"body_text\" (QUE CONTIENE TODO EL DOCUMENTO)"
      ],
      "metadata": {
        "id": "5jvQz9r4SyRS"
      }
    },
    {
      "cell_type": "code",
      "source": [
        "# Filtro para seleccionar los articulos en fechas determinadas\n",
        "df_finalfiltro=df_finalfiltro.loc[df_finalfiltro[\"publish_time\"].between('2020-03-01', '2022-12-31')] # 13855 docs\n",
        "len(df_finalfiltro)"
      ],
      "metadata": {
        "colab": {
          "base_uri": "https://localhost:8080/"
        },
        "id": "l8NmBYR6SSzr",
        "outputId": "7b10d6af-97fd-49db-f06a-d2600da2a5a4"
      },
      "execution_count": null,
      "outputs": [
        {
          "output_type": "execute_result",
          "data": {
            "text/plain": [
              "43756"
            ]
          },
          "metadata": {},
          "execution_count": 32
        }
      ]
    },
    {
      "cell_type": "code",
      "source": [
        "# Filtro para seleccionar los articulos por su titulo y cuerpo de texto.\n",
        "# De aqui se filtraron por palabras claves\n",
        "import numpy as np\n",
        "mask = np.column_stack([df_finalfiltro['title'].astype(str).str.contains(\"surfaces remain\" and \"remain\", na=False, case=False) for col in df_final])\n",
        "filtro = df_finalfiltro.loc[mask.any(axis=1)]"
      ],
      "metadata": {
        "id": "QRV4E6qnSxRa"
      },
      "execution_count": null,
      "outputs": []
    },
    {
      "cell_type": "code",
      "source": [
        "print(\"DOCS ENCONTRADOS: \", len(filtro))\n",
        "print(filtro['url'])\n"
      ],
      "metadata": {
        "colab": {
          "base_uri": "https://localhost:8080/"
        },
        "id": "DR-Bvp7sTIdx",
        "outputId": "d6c271bd-0155-4d6c-91fc-f5e528788a1f"
      },
      "execution_count": null,
      "outputs": [
        {
          "output_type": "stream",
          "name": "stdout",
          "text": [
            "DOCS ENCONTRADOS:  26\n",
            "1608     https://doi.org/10.1007/s10803-021-05083-9; ht...\n",
            "2453     https://www.ncbi.nlm.nih.gov/pmc/articles/PMC7...\n",
            "4299     https://doi.org/10.1111/1440-1630.12672; https...\n",
            "9905     https://www.ncbi.nlm.nih.gov/pubmed/34625170/;...\n",
            "10994    https://www.ncbi.nlm.nih.gov/pmc/articles/PMC8...\n",
            "13729    https://www.ncbi.nlm.nih.gov/pubmed/34041821/;...\n",
            "14590    https://doi.org/10.1007/s00134-021-06402-5; ht...\n",
            "14820    https://www.sciencedirect.com/science/article/...\n",
            "18659    https://www.ncbi.nlm.nih.gov/pubmed/33748793/;...\n",
            "18769    https://www.sciencedirect.com/science/article/...\n",
            "21243    https://doi.org/10.1002/ams2.623; https://www....\n",
            "24904    https://www.ncbi.nlm.nih.gov/pmc/articles/PMC8...\n",
            "25643    https://www.ncbi.nlm.nih.gov/pmc/articles/PMC8...\n",
            "25975    https://www.ncbi.nlm.nih.gov/pubmed/35407571/;...\n",
            "29062    https://www.ncbi.nlm.nih.gov/pubmed/34704256/;...\n",
            "30039    https://www.ncbi.nlm.nih.gov/pubmed/34982628/;...\n",
            "31441    https://www.ncbi.nlm.nih.gov/pubmed/32909060/;...\n",
            "32294    https://doi.org/10.1016/j.jmii.2020.06.015; ht...\n",
            "32608    https://www.ncbi.nlm.nih.gov/pubmed/33602376/;...\n",
            "33086    https://doi.org/10.3389/fmed.2021.666554; http...\n",
            "34906    https://www.sciencedirect.com/science/article/...\n",
            "35584    http://medrxiv.org/cgi/content/short/2020.08.2...\n",
            "43598    https://doi.org/10.1111/resp.14067; https://ww...\n",
            "46438    https://doi.org/10.1007/s11046-021-00531-7; ht...\n",
            "48617    https://www.ncbi.nlm.nih.gov/pmc/articles/PMC8...\n",
            "49350    https://www.ncbi.nlm.nih.gov/pubmed/34239269/;...\n",
            "Name: url, dtype: object\n"
          ]
        }
      ]
    },
    {
      "cell_type": "code",
      "execution_count": null,
      "metadata": {
        "colab": {
          "base_uri": "https://localhost:8080/"
        },
        "id": "udkJRQ75RsE7",
        "outputId": "a1ccf5c9-148a-4142-b0fa-927cab08d5ef"
      },
      "outputs": [
        {
          "output_type": "execute_result",
          "data": {
            "text/plain": [
              "sha                0\n",
              "title              0\n",
              "abstract        4897\n",
              "publish_time       0\n",
              "authors          121\n",
              "url                0\n",
              "body_text          0\n",
              "dtype: int64"
            ]
          },
          "metadata": {},
          "execution_count": 35
        }
      ],
      "source": [
        "# Conteo de los campos nulos\n",
        "df_final = df_final.dropna(axis=0,subset=['body_text', 'title'])\n",
        "df_final.isnull().sum()"
      ]
    },
    {
      "cell_type": "code",
      "execution_count": null,
      "metadata": {
        "colab": {
          "base_uri": "https://localhost:8080/"
        },
        "id": "yJrYTx-qRsE7",
        "outputId": "b84090d3-0b9d-4c33-9cd0-8353e97da11e"
      },
      "outputs": [
        {
          "output_type": "execute_result",
          "data": {
            "text/plain": [
              "(40066, 7)"
            ]
          },
          "metadata": {},
          "execution_count": 36
        }
      ],
      "source": [
        "# Se muestran las longitudes de la dimensión de la matriz\n",
        "# 49805 filas y 7 columnas\n",
        "df_final.shape"
      ]
    },
    {
      "cell_type": "markdown",
      "metadata": {
        "id": "PzPrnVubRsE8"
      },
      "source": [
        "# GUARDANDO DATOS FILTRADOS"
      ]
    },
    {
      "cell_type": "code",
      "execution_count": null,
      "metadata": {
        "id": "2WaveQjLRsE8"
      },
      "outputs": [],
      "source": [
        "# Se guardan en formato CSV los datos que filtramos previamente\n",
        "# Se creó un documento csv para cada busqueda filtrada y se unieron posteriormente\n",
        "df_final.to_csv('/content/drive/MyDrive/BASE_CONOCIMIENTO/FINAL_CORD_DATA.csv', index=False)\n",
        "df_finalfiltro.to_csv('Filtro_Surfaces.csv', index=False)"
      ]
    },
    {
      "cell_type": "markdown",
      "metadata": {
        "id": "GakzEe4fRsE8"
      },
      "source": [
        " # Análisis Exploratorio de Datos - Data Analysis (EDA) "
      ]
    },
    {
      "cell_type": "code",
      "source": [
        "from google.colab import drive\n",
        "drive.mount('/content/drive')"
      ],
      "metadata": {
        "colab": {
          "base_uri": "https://localhost:8080/"
        },
        "id": "trCVttgLa9Cu",
        "outputId": "b755590a-eaa6-4676-e845-20ce6c6fbd52"
      },
      "execution_count": null,
      "outputs": [
        {
          "output_type": "stream",
          "name": "stdout",
          "text": [
            "Mounted at /content/drive\n"
          ]
        }
      ]
    },
    {
      "cell_type": "code",
      "execution_count": null,
      "metadata": {
        "colab": {
          "base_uri": "https://localhost:8080/",
          "height": 884
        },
        "id": "rhmrJ_sYRsE8",
        "outputId": "320b2a77-3fe1-437c-a1d9-05c377c7edb5"
      },
      "outputs": [
        {
          "output_type": "stream",
          "name": "stdout",
          "text": [
            "Looking in indexes: https://pypi.org/simple, https://us-python.pkg.dev/colab-wheels/public/simple/\n",
            "Collecting pandas==1.3.1\n",
            "  Downloading pandas-1.3.1-cp37-cp37m-manylinux_2_17_x86_64.manylinux2014_x86_64.whl (11.5 MB)\n",
            "\u001b[K     |████████████████████████████████| 11.5 MB 15.2 MB/s \n",
            "\u001b[?25hRequirement already satisfied: python-dateutil>=2.7.3 in /usr/local/lib/python3.7/dist-packages (from pandas==1.3.1) (2.8.2)\n",
            "Requirement already satisfied: numpy>=1.17.3 in /usr/local/lib/python3.7/dist-packages (from pandas==1.3.1) (1.21.6)\n",
            "Requirement already satisfied: pytz>=2017.3 in /usr/local/lib/python3.7/dist-packages (from pandas==1.3.1) (2022.2.1)\n",
            "Requirement already satisfied: six>=1.5 in /usr/local/lib/python3.7/dist-packages (from python-dateutil>=2.7.3->pandas==1.3.1) (1.15.0)\n",
            "Installing collected packages: pandas\n",
            "  Attempting uninstall: pandas\n",
            "    Found existing installation: pandas 1.3.5\n",
            "    Uninstalling pandas-1.3.5:\n",
            "      Successfully uninstalled pandas-1.3.5\n",
            "Successfully installed pandas-1.3.1\n",
            "Looking in indexes: https://pypi.org/simple, https://us-python.pkg.dev/colab-wheels/public/simple/\n",
            "Collecting numpy==1.21.1\n",
            "  Downloading numpy-1.21.1-cp37-cp37m-manylinux_2_12_x86_64.manylinux2010_x86_64.whl (15.7 MB)\n",
            "\u001b[K     |████████████████████████████████| 15.7 MB 15.2 MB/s \n",
            "\u001b[?25hInstalling collected packages: numpy\n",
            "  Attempting uninstall: numpy\n",
            "    Found existing installation: numpy 1.21.6\n",
            "    Uninstalling numpy-1.21.6:\n",
            "      Successfully uninstalled numpy-1.21.6\n",
            "Successfully installed numpy-1.21.1\n"
          ]
        },
        {
          "output_type": "display_data",
          "data": {
            "application/vnd.colab-display-data+json": {
              "pip_warning": {
                "packages": [
                  "numpy"
                ]
              }
            }
          },
          "metadata": {}
        },
        {
          "output_type": "stream",
          "name": "stdout",
          "text": [
            "Looking in indexes: https://pypi.org/simple, https://us-python.pkg.dev/colab-wheels/public/simple/\n",
            "Collecting seaborn==0.11.1\n",
            "  Downloading seaborn-0.11.1-py3-none-any.whl (285 kB)\n",
            "\u001b[K     |████████████████████████████████| 285 kB 15.9 MB/s \n",
            "\u001b[?25hRequirement already satisfied: numpy>=1.15 in /usr/local/lib/python3.7/dist-packages (from seaborn==0.11.1) (1.21.1)\n",
            "Requirement already satisfied: matplotlib>=2.2 in /usr/local/lib/python3.7/dist-packages (from seaborn==0.11.1) (3.2.2)\n",
            "Requirement already satisfied: pandas>=0.23 in /usr/local/lib/python3.7/dist-packages (from seaborn==0.11.1) (1.3.1)\n",
            "Requirement already satisfied: scipy>=1.0 in /usr/local/lib/python3.7/dist-packages (from seaborn==0.11.1) (1.7.3)\n",
            "Requirement already satisfied: python-dateutil>=2.1 in /usr/local/lib/python3.7/dist-packages (from matplotlib>=2.2->seaborn==0.11.1) (2.8.2)\n",
            "Requirement already satisfied: pyparsing!=2.0.4,!=2.1.2,!=2.1.6,>=2.0.1 in /usr/local/lib/python3.7/dist-packages (from matplotlib>=2.2->seaborn==0.11.1) (3.0.9)\n",
            "Requirement already satisfied: cycler>=0.10 in /usr/local/lib/python3.7/dist-packages (from matplotlib>=2.2->seaborn==0.11.1) (0.11.0)\n",
            "Requirement already satisfied: kiwisolver>=1.0.1 in /usr/local/lib/python3.7/dist-packages (from matplotlib>=2.2->seaborn==0.11.1) (1.4.4)\n",
            "Requirement already satisfied: typing-extensions in /usr/local/lib/python3.7/dist-packages (from kiwisolver>=1.0.1->matplotlib>=2.2->seaborn==0.11.1) (4.1.1)\n",
            "Requirement already satisfied: pytz>=2017.3 in /usr/local/lib/python3.7/dist-packages (from pandas>=0.23->seaborn==0.11.1) (2022.2.1)\n",
            "Requirement already satisfied: six>=1.5 in /usr/local/lib/python3.7/dist-packages (from python-dateutil>=2.1->matplotlib>=2.2->seaborn==0.11.1) (1.15.0)\n",
            "Installing collected packages: seaborn\n",
            "  Attempting uninstall: seaborn\n",
            "    Found existing installation: seaborn 0.11.2\n",
            "    Uninstalling seaborn-0.11.2:\n",
            "      Successfully uninstalled seaborn-0.11.2\n",
            "Successfully installed seaborn-0.11.1\n"
          ]
        }
      ],
      "source": [
        "# Instalación de paquetes necesarios\n",
        "!pip3 install pandas==1.3.1\n",
        "!pip3 install numpy==1.21.1\n",
        "!pip install seaborn==0.11.1"
      ]
    },
    {
      "cell_type": "code",
      "execution_count": null,
      "metadata": {
        "id": "uNemAx3wRsE9"
      },
      "outputs": [],
      "source": [
        "# Importación de paquetes\n",
        "import seaborn as sns\n",
        "sns.set_theme(style=\"darkgrid\")\n",
        "import calendar\n",
        "import pandas as pd\n",
        "import numpy as np"
      ]
    },
    {
      "cell_type": "markdown",
      "metadata": {
        "id": "3AYInRLFRsE9"
      },
      "source": [
        "Revisión de los datos finales "
      ]
    },
    {
      "cell_type": "code",
      "source": [
        "df_final = pd.read_csv('/content/drive/MyDrive/BASE_CONOCIMIENTO/Dataset_DatosFiltrados.csv')"
      ],
      "metadata": {
        "id": "g55kaRhQbroI"
      },
      "execution_count": null,
      "outputs": []
    },
    {
      "cell_type": "code",
      "execution_count": null,
      "metadata": {
        "id": "druWYMnhRsE9"
      },
      "outputs": [],
      "source": [
        "# Inspección de los datos\n",
        "def inspect_data(data):\n",
        "    return pd.DataFrame(\n",
        "        {\n",
        "            \"Data Type\": data.dtypes,\n",
        "            \"No of levels\": data.apply(lambda x:len(x.unique()), axis=0),\n",
        "            \"levels\": data.apply(lambda x:x.unique(), axis=0),\n",
        "            \"qtd_null\": data.apply(lambda x: x.isnull().sum(), axis=0),\n",
        "            \"pct_null\": data.apply(lambda x: x.isnull().sum() * 100 / len(x))\n",
        "        }\n",
        "    )"
      ]
    },
    {
      "cell_type": "code",
      "execution_count": null,
      "metadata": {
        "id": "RmZJeBY_RsE9",
        "colab": {
          "base_uri": "https://localhost:8080/",
          "height": 269
        },
        "outputId": "594463cd-6d6a-4533-9153-5e747b9a1e27"
      },
      "outputs": [
        {
          "output_type": "execute_result",
          "data": {
            "text/plain": [
              "             Data Type  No of levels  \\\n",
              "sha             object           347   \n",
              "title           object           347   \n",
              "abstract        object           329   \n",
              "publish_time    object           265   \n",
              "authors         object           347   \n",
              "url             object           347   \n",
              "body_text       object           348   \n",
              "\n",
              "                                                         levels  qtd_null  \\\n",
              "sha           [PMC8093949, PMC7595075, 9889b28b9f498c810cbf3...         0   \n",
              "title         [Post-COVID Syndrome: Incidence, Clinical Spec...         0   \n",
              "abstract      [The clinical manifestations of COVID-19 range...        19   \n",
              "publish_time  [2021-05-04, 2020-10-06, 2021-01-20, 2020-09-2...         0   \n",
              "authors       [Pavli A, Theodoridou M, Maltezou HC., Alimoha...         0   \n",
              "url           [https://www.ncbi.nlm.nih.gov/pmc/articles/PMC...         0   \n",
              "body_text     [The clinical manifestations of COVID-19 range...         0   \n",
              "\n",
              "              pct_null  \n",
              "sha           0.000000  \n",
              "title         0.000000  \n",
              "abstract      5.382436  \n",
              "publish_time  0.000000  \n",
              "authors       0.000000  \n",
              "url           0.000000  \n",
              "body_text     0.000000  "
            ],
            "text/html": [
              "\n",
              "  <div id=\"df-f7fb3a36-e9ac-46ba-882d-700f5d0c276a\">\n",
              "    <div class=\"colab-df-container\">\n",
              "      <div>\n",
              "<style scoped>\n",
              "    .dataframe tbody tr th:only-of-type {\n",
              "        vertical-align: middle;\n",
              "    }\n",
              "\n",
              "    .dataframe tbody tr th {\n",
              "        vertical-align: top;\n",
              "    }\n",
              "\n",
              "    .dataframe thead th {\n",
              "        text-align: right;\n",
              "    }\n",
              "</style>\n",
              "<table border=\"1\" class=\"dataframe\">\n",
              "  <thead>\n",
              "    <tr style=\"text-align: right;\">\n",
              "      <th></th>\n",
              "      <th>Data Type</th>\n",
              "      <th>No of levels</th>\n",
              "      <th>levels</th>\n",
              "      <th>qtd_null</th>\n",
              "      <th>pct_null</th>\n",
              "    </tr>\n",
              "  </thead>\n",
              "  <tbody>\n",
              "    <tr>\n",
              "      <th>sha</th>\n",
              "      <td>object</td>\n",
              "      <td>347</td>\n",
              "      <td>[PMC8093949, PMC7595075, 9889b28b9f498c810cbf3...</td>\n",
              "      <td>0</td>\n",
              "      <td>0.000000</td>\n",
              "    </tr>\n",
              "    <tr>\n",
              "      <th>title</th>\n",
              "      <td>object</td>\n",
              "      <td>347</td>\n",
              "      <td>[Post-COVID Syndrome: Incidence, Clinical Spec...</td>\n",
              "      <td>0</td>\n",
              "      <td>0.000000</td>\n",
              "    </tr>\n",
              "    <tr>\n",
              "      <th>abstract</th>\n",
              "      <td>object</td>\n",
              "      <td>329</td>\n",
              "      <td>[The clinical manifestations of COVID-19 range...</td>\n",
              "      <td>19</td>\n",
              "      <td>5.382436</td>\n",
              "    </tr>\n",
              "    <tr>\n",
              "      <th>publish_time</th>\n",
              "      <td>object</td>\n",
              "      <td>265</td>\n",
              "      <td>[2021-05-04, 2020-10-06, 2021-01-20, 2020-09-2...</td>\n",
              "      <td>0</td>\n",
              "      <td>0.000000</td>\n",
              "    </tr>\n",
              "    <tr>\n",
              "      <th>authors</th>\n",
              "      <td>object</td>\n",
              "      <td>347</td>\n",
              "      <td>[Pavli A, Theodoridou M, Maltezou HC., Alimoha...</td>\n",
              "      <td>0</td>\n",
              "      <td>0.000000</td>\n",
              "    </tr>\n",
              "    <tr>\n",
              "      <th>url</th>\n",
              "      <td>object</td>\n",
              "      <td>347</td>\n",
              "      <td>[https://www.ncbi.nlm.nih.gov/pmc/articles/PMC...</td>\n",
              "      <td>0</td>\n",
              "      <td>0.000000</td>\n",
              "    </tr>\n",
              "    <tr>\n",
              "      <th>body_text</th>\n",
              "      <td>object</td>\n",
              "      <td>348</td>\n",
              "      <td>[The clinical manifestations of COVID-19 range...</td>\n",
              "      <td>0</td>\n",
              "      <td>0.000000</td>\n",
              "    </tr>\n",
              "  </tbody>\n",
              "</table>\n",
              "</div>\n",
              "      <button class=\"colab-df-convert\" onclick=\"convertToInteractive('df-f7fb3a36-e9ac-46ba-882d-700f5d0c276a')\"\n",
              "              title=\"Convert this dataframe to an interactive table.\"\n",
              "              style=\"display:none;\">\n",
              "        \n",
              "  <svg xmlns=\"http://www.w3.org/2000/svg\" height=\"24px\"viewBox=\"0 0 24 24\"\n",
              "       width=\"24px\">\n",
              "    <path d=\"M0 0h24v24H0V0z\" fill=\"none\"/>\n",
              "    <path d=\"M18.56 5.44l.94 2.06.94-2.06 2.06-.94-2.06-.94-.94-2.06-.94 2.06-2.06.94zm-11 1L8.5 8.5l.94-2.06 2.06-.94-2.06-.94L8.5 2.5l-.94 2.06-2.06.94zm10 10l.94 2.06.94-2.06 2.06-.94-2.06-.94-.94-2.06-.94 2.06-2.06.94z\"/><path d=\"M17.41 7.96l-1.37-1.37c-.4-.4-.92-.59-1.43-.59-.52 0-1.04.2-1.43.59L10.3 9.45l-7.72 7.72c-.78.78-.78 2.05 0 2.83L4 21.41c.39.39.9.59 1.41.59.51 0 1.02-.2 1.41-.59l7.78-7.78 2.81-2.81c.8-.78.8-2.07 0-2.86zM5.41 20L4 18.59l7.72-7.72 1.47 1.35L5.41 20z\"/>\n",
              "  </svg>\n",
              "      </button>\n",
              "      \n",
              "  <style>\n",
              "    .colab-df-container {\n",
              "      display:flex;\n",
              "      flex-wrap:wrap;\n",
              "      gap: 12px;\n",
              "    }\n",
              "\n",
              "    .colab-df-convert {\n",
              "      background-color: #E8F0FE;\n",
              "      border: none;\n",
              "      border-radius: 50%;\n",
              "      cursor: pointer;\n",
              "      display: none;\n",
              "      fill: #1967D2;\n",
              "      height: 32px;\n",
              "      padding: 0 0 0 0;\n",
              "      width: 32px;\n",
              "    }\n",
              "\n",
              "    .colab-df-convert:hover {\n",
              "      background-color: #E2EBFA;\n",
              "      box-shadow: 0px 1px 2px rgba(60, 64, 67, 0.3), 0px 1px 3px 1px rgba(60, 64, 67, 0.15);\n",
              "      fill: #174EA6;\n",
              "    }\n",
              "\n",
              "    [theme=dark] .colab-df-convert {\n",
              "      background-color: #3B4455;\n",
              "      fill: #D2E3FC;\n",
              "    }\n",
              "\n",
              "    [theme=dark] .colab-df-convert:hover {\n",
              "      background-color: #434B5C;\n",
              "      box-shadow: 0px 1px 3px 1px rgba(0, 0, 0, 0.15);\n",
              "      filter: drop-shadow(0px 1px 2px rgba(0, 0, 0, 0.3));\n",
              "      fill: #FFFFFF;\n",
              "    }\n",
              "  </style>\n",
              "\n",
              "      <script>\n",
              "        const buttonEl =\n",
              "          document.querySelector('#df-f7fb3a36-e9ac-46ba-882d-700f5d0c276a button.colab-df-convert');\n",
              "        buttonEl.style.display =\n",
              "          google.colab.kernel.accessAllowed ? 'block' : 'none';\n",
              "\n",
              "        async function convertToInteractive(key) {\n",
              "          const element = document.querySelector('#df-f7fb3a36-e9ac-46ba-882d-700f5d0c276a');\n",
              "          const dataTable =\n",
              "            await google.colab.kernel.invokeFunction('convertToInteractive',\n",
              "                                                     [key], {});\n",
              "          if (!dataTable) return;\n",
              "\n",
              "          const docLinkHtml = 'Like what you see? Visit the ' +\n",
              "            '<a target=\"_blank\" href=https://colab.research.google.com/notebooks/data_table.ipynb>data table notebook</a>'\n",
              "            + ' to learn more about interactive tables.';\n",
              "          element.innerHTML = '';\n",
              "          dataTable['output_type'] = 'display_data';\n",
              "          await google.colab.output.renderOutput(dataTable, element);\n",
              "          const docLink = document.createElement('div');\n",
              "          docLink.innerHTML = docLinkHtml;\n",
              "          element.appendChild(docLink);\n",
              "        }\n",
              "      </script>\n",
              "    </div>\n",
              "  </div>\n",
              "  "
            ]
          },
          "metadata": {},
          "execution_count": 60
        }
      ],
      "source": [
        "inspect_data(df_final)"
      ]
    },
    {
      "cell_type": "code",
      "execution_count": null,
      "metadata": {
        "id": "1BR9aLUQRsE-"
      },
      "outputs": [],
      "source": [
        "# Cambio de tipo de dato a datetime\n",
        "df_final['publish_time'] = pd.to_datetime(df_final['publish_time'])"
      ]
    },
    {
      "cell_type": "code",
      "execution_count": null,
      "metadata": {
        "id": "65MT0dDqRsE-"
      },
      "outputs": [],
      "source": [
        "# Cambio de tipo de dato a datetime\n",
        "df_final['publish_year'] =  df_final['publish_time'].dt.year\n",
        "df_final['publish_month'] =  df_final['publish_time'].dt.month\n",
        "df_final['publish_day'] =  df_final['publish_time'].dt.day"
      ]
    },
    {
      "cell_type": "code",
      "execution_count": null,
      "metadata": {
        "id": "XdOxbx8lRsE-",
        "colab": {
          "base_uri": "https://localhost:8080/"
        },
        "outputId": "6528dfe7-2120-49a3-a663-01c2982ae6b4"
      },
      "outputs": [
        {
          "output_type": "execute_result",
          "data": {
            "text/plain": [
              "4"
            ]
          },
          "metadata": {},
          "execution_count": 63
        }
      ],
      "source": [
        "# Muestra el número de valores únicos para cada columna\n",
        "df_final['publish_year'].nunique()"
      ]
    },
    {
      "cell_type": "code",
      "execution_count": null,
      "metadata": {
        "id": "7K0HSg3VRsE-",
        "colab": {
          "base_uri": "https://localhost:8080/"
        },
        "outputId": "4970ebf3-21b8-4582-fdca-f0858a3dc668"
      },
      "outputs": [
        {
          "output_type": "execute_result",
          "data": {
            "text/plain": [
              "2019"
            ]
          },
          "metadata": {},
          "execution_count": 64
        }
      ],
      "source": [
        "# Muestra la fecha de publicación más antigua (menor)\n",
        "df_final['publish_year'].min()"
      ]
    },
    {
      "cell_type": "code",
      "execution_count": null,
      "metadata": {
        "id": "_RgScJq7RsE_",
        "colab": {
          "base_uri": "https://localhost:8080/"
        },
        "outputId": "2b4b62e7-48bb-4bdf-ec19-847f95d3a4e3"
      },
      "outputs": [
        {
          "output_type": "execute_result",
          "data": {
            "text/plain": [
              "2022"
            ]
          },
          "metadata": {},
          "execution_count": 65
        }
      ],
      "source": [
        "# Muestra la fecha de publicación más nueva (mayor)\n",
        "df_final['publish_year'].max()"
      ]
    },
    {
      "cell_type": "code",
      "execution_count": null,
      "metadata": {
        "id": "Si4eQbClRsE_",
        "colab": {
          "base_uri": "https://localhost:8080/",
          "height": 302
        },
        "outputId": "7578e886-6970-46be-e89c-e8c0c57c8e0b"
      },
      "outputs": [
        {
          "output_type": "execute_result",
          "data": {
            "text/plain": [
              "[Text(0, 0.5, 'Cantidad'), Text(0.5, 0, 'Año de Publicación')]"
            ]
          },
          "metadata": {},
          "execution_count": 66
        },
        {
          "output_type": "display_data",
          "data": {
            "text/plain": [
              "<Figure size 432x288 with 1 Axes>"
            ],
            "image/png": "[encoded data removed]"
          },
          "metadata": {}
        }
      ],
      "source": [
        "# Nº de artículos publicados en los últimos años\n",
        "publicaciones = sns.countplot(x=\"publish_year\", data=df_final[df_final['publish_year'].isin([2019, 2020, 2021, 2022])])\n",
        "publicaciones.set(xlabel=\"Año de Publicación\", ylabel = \"Cantidad\")"
      ]
    },
    {
      "cell_type": "code",
      "execution_count": null,
      "metadata": {
        "id": "8qsTuSEoRsE_",
        "colab": {
          "base_uri": "https://localhost:8080/",
          "height": 302
        },
        "outputId": "70e85caf-48ac-4579-ada5-ccf8d53be36b"
      },
      "outputs": [
        {
          "output_type": "execute_result",
          "data": {
            "text/plain": [
              "[Text(0, 0.5, 'Cantidad'), Text(0.5, 0, 'Año 2020-22 - Meses de Publicación')]"
            ]
          },
          "metadata": {},
          "execution_count": 109
        },
        {
          "output_type": "display_data",
          "data": {
            "text/plain": [
              "<Figure size 432x288 with 1 Axes>"
            ],
            "image/png": "[encoded data removed]"
          },
          "metadata": {
            "needs_background": "light"
          }
        }
      ],
      "source": [
        "#Distribución por meses de los trabajos publicados\n",
        "distr_meses = sns.countplot(x=\"publish_month\", data=df_final[df_final['publish_year'].isin([2020, 2021, 2022])])\n",
        "distr_meses.set(xlabel=\"Año 2020-22 - Meses de Publicación\", ylabel = \"Cantidad\")"
      ]
    },
    {
      "cell_type": "code",
      "execution_count": null,
      "metadata": {
        "id": "iWcFSOOVRsFA"
      },
      "outputs": [],
      "source": [
        "df_final['publish_month'] = df_final['publish_month'].apply(lambda x : calendar.month_abbr[x])"
      ]
    },
    {
      "cell_type": "code",
      "execution_count": null,
      "metadata": {
        "id": "Um0vMiehRsFA"
      },
      "outputs": [],
      "source": [
        "# sns.countplot(x=\"publish_month\", data=df_final)"
      ]
    },
    {
      "cell_type": "code",
      "execution_count": null,
      "metadata": {
        "id": "AefhYOvNRsFA",
        "colab": {
          "base_uri": "https://localhost:8080/",
          "height": 357
        },
        "outputId": "b075f030-e815-4954-954a-259cbdd5b541"
      },
      "outputs": [
        {
          "output_type": "stream",
          "name": "stderr",
          "text": [
            "/usr/local/lib/python3.7/dist-packages/seaborn/_decorators.py:43: FutureWarning: Pass the following variable as a keyword arg: x. From version 0.12, the only valid positional argument will be `data`, and passing other arguments without an explicit keyword will result in an error or misinterpretation.\n",
            "  FutureWarning\n"
          ]
        },
        {
          "output_type": "execute_result",
          "data": {
            "text/plain": [
              "<matplotlib.axes._subplots.AxesSubplot at 0x7fa83b67a4d0>"
            ]
          },
          "metadata": {},
          "execution_count": 72
        },
        {
          "output_type": "display_data",
          "data": {
            "text/plain": [
              "<Figure size 432x288 with 1 Axes>"
            ],
            "image/png": "[encoded data removed]"
          },
          "metadata": {}
        }
      ],
      "source": [
        "#Comprobación del % de trabajos publicados en tiempos recientes frente a años anteriores\n",
        "df_final['En tiempo de Covid-19'] = np.where(df_final['publish_year'].isin([2020,2021,2022]), 1, 0)\n",
        "sns.countplot(df_final['En tiempo de Covid-19'])"
      ]
    },
    {
      "cell_type": "markdown",
      "metadata": {
        "id": "fY8tXfoLRsFA"
      },
      "source": [
        "**Revisión de nubes del palabras**"
      ]
    },
    {
      "cell_type": "code",
      "execution_count": null,
      "metadata": {
        "id": "Z0Kp-kXaRsFB",
        "colab": {
          "base_uri": "https://localhost:8080/"
        },
        "outputId": "2bcde98f-524a-40fe-df47-761db8188301"
      },
      "outputs": [
        {
          "output_type": "stream",
          "name": "stdout",
          "text": [
            "Looking in indexes: https://pypi.org/simple, https://us-python.pkg.dev/colab-wheels/public/simple/\n",
            "Requirement already satisfied: wordcloud in /usr/local/lib/python3.7/dist-packages (1.8.2.2)\n",
            "Requirement already satisfied: pillow in /usr/local/lib/python3.7/dist-packages (from wordcloud) (7.1.2)\n",
            "Requirement already satisfied: matplotlib in /usr/local/lib/python3.7/dist-packages (from wordcloud) (3.2.2)\n",
            "Requirement already satisfied: numpy>=1.6.1 in /usr/local/lib/python3.7/dist-packages (from wordcloud) (1.21.1)\n",
            "Requirement already satisfied: cycler>=0.10 in /usr/local/lib/python3.7/dist-packages (from matplotlib->wordcloud) (0.11.0)\n",
            "Requirement already satisfied: kiwisolver>=1.0.1 in /usr/local/lib/python3.7/dist-packages (from matplotlib->wordcloud) (1.4.4)\n",
            "Requirement already satisfied: python-dateutil>=2.1 in /usr/local/lib/python3.7/dist-packages (from matplotlib->wordcloud) (2.8.2)\n",
            "Requirement already satisfied: pyparsing!=2.0.4,!=2.1.2,!=2.1.6,>=2.0.1 in /usr/local/lib/python3.7/dist-packages (from matplotlib->wordcloud) (3.0.9)\n",
            "Requirement already satisfied: typing-extensions in /usr/local/lib/python3.7/dist-packages (from kiwisolver>=1.0.1->matplotlib->wordcloud) (4.1.1)\n",
            "Requirement already satisfied: six>=1.5 in /usr/local/lib/python3.7/dist-packages (from python-dateutil>=2.1->matplotlib->wordcloud) (1.15.0)\n"
          ]
        }
      ],
      "source": [
        "# Instalación de paquetes necesarios\n",
        "!pip3 install wordcloud"
      ]
    },
    {
      "cell_type": "code",
      "execution_count": null,
      "metadata": {
        "id": "pejfKDNwRsFB"
      },
      "outputs": [],
      "source": [
        "# Importación de paquetes\n",
        "from wordcloud import WordCloud, STOPWORDS \n",
        "import re\n",
        "import string\n",
        "import matplotlib.pyplot as plt\n",
        "%matplotlib inline"
      ]
    },
    {
      "cell_type": "code",
      "execution_count": null,
      "metadata": {
        "id": "TbPNrzkZRsFB"
      },
      "outputs": [],
      "source": [
        "# Define una funcion para presentar una gráfica sin ejes.\n",
        "def plot_word_cloud(wordcloud):\n",
        "    plt.figure(figsize=(10, 10))\n",
        "    plt.imshow(wordcloud) \n",
        "    plt.axis(\"off\");"
      ]
    },
    {
      "cell_type": "code",
      "execution_count": null,
      "metadata": {
        "id": "l9Pi6ZxnRsFB"
      },
      "outputs": [],
      "source": [
        "# Función para eliminar caracteres especiales y puntucaciones\n",
        "def remove_special_charac_and_punctuations(text) :\n",
        "# define el patrón a mantener\n",
        "  pattern = r'[^a-zA-z0-9\\'\\s]' \n",
        "  txt = re.sub(pattern, '', text)\n",
        "  txt = ''.join([c for c in txt if c not in string.punctuation])\n",
        "  return  txt"
      ]
    },
    {
      "cell_type": "code",
      "execution_count": null,
      "metadata": {
        "id": "G32A83wtRsFB"
      },
      "outputs": [],
      "source": [
        "# Función para concatenar las sentencias\n",
        "def concat_all_sentences(sents):\n",
        "   all_tokens = ''\n",
        "   for text in sents:\n",
        "        tx = str(text).lower().strip()\n",
        "        tx = \" \".join(tx.split())\n",
        "        all_tokens += tx + \" \"\n",
        "   return all_tokens  "
      ]
    },
    {
      "cell_type": "code",
      "execution_count": null,
      "metadata": {
        "id": "scCROYUJRsFC"
      },
      "outputs": [],
      "source": [
        "# Limpieza de valores en el titulo\n",
        "cleaned_titles = df_final.loc[df_final.title.notnull(), 'title'].apply(remove_special_charac_and_punctuations)"
      ]
    },
    {
      "cell_type": "code",
      "execution_count": null,
      "metadata": {
        "id": "lBZI8_pORsFC"
      },
      "outputs": [],
      "source": [
        "# Limpieza de valores en el abstract\n",
        "cleaned_abstracts = df_final.loc[df_final.abstract.notnull(), 'abstract'].apply(remove_special_charac_and_punctuations)"
      ]
    },
    {
      "cell_type": "code",
      "execution_count": null,
      "metadata": {
        "id": "sRCni49QRsFC"
      },
      "outputs": [],
      "source": [
        "# Aplica la función en los titulos para eliminar \n",
        "title_tokens = concat_all_sentences(cleaned_titles)"
      ]
    },
    {
      "cell_type": "code",
      "execution_count": null,
      "metadata": {
        "id": "FJrmCpd2RsFC"
      },
      "outputs": [],
      "source": [
        "# Aplica la función en los abstracts para eliminar \n",
        "abstract_tokens = concat_all_sentences(cleaned_abstracts)"
      ]
    },
    {
      "cell_type": "code",
      "execution_count": null,
      "metadata": {
        "id": "5KOYFyeHRsFD"
      },
      "outputs": [],
      "source": [
        "# title_tokens"
      ]
    },
    {
      "cell_type": "code",
      "execution_count": null,
      "metadata": {
        "id": "ed74OrHdRsFD"
      },
      "outputs": [],
      "source": [
        "# abstract_tokens"
      ]
    },
    {
      "cell_type": "code",
      "execution_count": null,
      "metadata": {
        "id": "UKD1o_cgRsFD",
        "colab": {
          "base_uri": "https://localhost:8080/",
          "height": 575
        },
        "outputId": "f6707533-57c1-4c9a-b442-eac3c8a35eff"
      },
      "outputs": [
        {
          "output_type": "display_data",
          "data": {
            "text/plain": [
              "<Figure size 720x720 with 1 Axes>"
            ],
            "image/png": "[encoded data removed]"
          },
          "metadata": {
            "needs_background": "light"
          }
        }
      ],
      "source": [
        "# Observando la nube de palabras de los tokens del título\n",
        "title_wordcloud = WordCloud(width = 500, height = 500,random_state=10).generate(title_tokens)\n",
        "plot_word_cloud(title_wordcloud)"
      ]
    },
    {
      "cell_type": "markdown",
      "metadata": {
        "id": "mvKIARiuRsFE"
      },
      "source": [
        "## Modelización de temas"
      ]
    },
    {
      "cell_type": "code",
      "execution_count": null,
      "metadata": {
        "id": "4U47Cko-RsFE",
        "colab": {
          "base_uri": "https://localhost:8080/"
        },
        "outputId": "f3a8e3b2-d88f-4958-9338-a672dc923dcb"
      },
      "outputs": [
        {
          "output_type": "stream",
          "name": "stdout",
          "text": [
            "Looking in indexes: https://pypi.org/simple, https://us-python.pkg.dev/colab-wheels/public/simple/\n",
            "Requirement already satisfied: gensim==3.8.3 in /usr/local/lib/python3.7/dist-packages (3.8.3)\n",
            "Requirement already satisfied: six>=1.5.0 in /usr/local/lib/python3.7/dist-packages (from gensim==3.8.3) (1.15.0)\n",
            "Requirement already satisfied: scipy>=0.18.1 in /usr/local/lib/python3.7/dist-packages (from gensim==3.8.3) (1.7.3)\n",
            "Requirement already satisfied: smart-open>=1.8.1 in /usr/local/lib/python3.7/dist-packages (from gensim==3.8.3) (5.2.1)\n",
            "Requirement already satisfied: numpy>=1.11.3 in /usr/local/lib/python3.7/dist-packages (from gensim==3.8.3) (1.21.1)\n"
          ]
        }
      ],
      "source": [
        "!pip install gensim==3.8.3"
      ]
    },
    {
      "cell_type": "code",
      "execution_count": null,
      "metadata": {
        "id": "5Mc9scV8RsFE",
        "colab": {
          "base_uri": "https://localhost:8080/"
        },
        "outputId": "800897fb-0a72-45b5-fc4c-42aebda73644"
      },
      "outputs": [
        {
          "output_type": "stream",
          "name": "stdout",
          "text": [
            "Looking in indexes: https://pypi.org/simple, https://us-python.pkg.dev/colab-wheels/public/simple/\n",
            "Requirement already satisfied: spacy in /usr/local/lib/python3.7/dist-packages (3.4.1)\n",
            "Requirement already satisfied: typer<0.5.0,>=0.3.0 in /usr/local/lib/python3.7/dist-packages (from spacy) (0.4.2)\n",
            "Requirement already satisfied: setuptools in /usr/local/lib/python3.7/dist-packages (from spacy) (57.4.0)\n",
            "Requirement already satisfied: langcodes<4.0.0,>=3.2.0 in /usr/local/lib/python3.7/dist-packages (from spacy) (3.3.0)\n",
            "Requirement already satisfied: tqdm<5.0.0,>=4.38.0 in /usr/local/lib/python3.7/dist-packages (from spacy) (4.64.0)\n",
            "Requirement already satisfied: srsly<3.0.0,>=2.4.3 in /usr/local/lib/python3.7/dist-packages (from spacy) (2.4.4)\n",
            "Requirement already satisfied: spacy-loggers<2.0.0,>=1.0.0 in /usr/local/lib/python3.7/dist-packages (from spacy) (1.0.3)\n",
            "Requirement already satisfied: spacy-legacy<3.1.0,>=3.0.9 in /usr/local/lib/python3.7/dist-packages (from spacy) (3.0.10)\n",
            "Requirement already satisfied: pydantic!=1.8,!=1.8.1,<1.10.0,>=1.7.4 in /usr/local/lib/python3.7/dist-packages (from spacy) (1.9.2)\n",
            "Requirement already satisfied: jinja2 in /usr/local/lib/python3.7/dist-packages (from spacy) (2.11.3)\n",
            "Requirement already satisfied: packaging>=20.0 in /usr/local/lib/python3.7/dist-packages (from spacy) (21.3)\n",
            "Requirement already satisfied: thinc<8.2.0,>=8.1.0 in /usr/local/lib/python3.7/dist-packages (from spacy) (8.1.0)\n",
            "Requirement already satisfied: typing-extensions<4.2.0,>=3.7.4 in /usr/local/lib/python3.7/dist-packages (from spacy) (4.1.1)\n",
            "Requirement already satisfied: murmurhash<1.1.0,>=0.28.0 in /usr/local/lib/python3.7/dist-packages (from spacy) (1.0.8)\n",
            "Requirement already satisfied: preshed<3.1.0,>=3.0.2 in /usr/local/lib/python3.7/dist-packages (from spacy) (3.0.7)\n",
            "Requirement already satisfied: pathy>=0.3.5 in /usr/local/lib/python3.7/dist-packages (from spacy) (0.6.2)\n",
            "Requirement already satisfied: cymem<2.1.0,>=2.0.2 in /usr/local/lib/python3.7/dist-packages (from spacy) (2.0.6)\n",
            "Requirement already satisfied: catalogue<2.1.0,>=2.0.6 in /usr/local/lib/python3.7/dist-packages (from spacy) (2.0.8)\n",
            "Requirement already satisfied: wasabi<1.1.0,>=0.9.1 in /usr/local/lib/python3.7/dist-packages (from spacy) (0.10.1)\n",
            "Requirement already satisfied: numpy>=1.15.0 in /usr/local/lib/python3.7/dist-packages (from spacy) (1.21.1)\n",
            "Requirement already satisfied: requests<3.0.0,>=2.13.0 in /usr/local/lib/python3.7/dist-packages (from spacy) (2.23.0)\n",
            "Requirement already satisfied: zipp>=0.5 in /usr/local/lib/python3.7/dist-packages (from catalogue<2.1.0,>=2.0.6->spacy) (3.8.1)\n",
            "Requirement already satisfied: pyparsing!=3.0.5,>=2.0.2 in /usr/local/lib/python3.7/dist-packages (from packaging>=20.0->spacy) (3.0.9)\n",
            "Requirement already satisfied: smart-open<6.0.0,>=5.2.1 in /usr/local/lib/python3.7/dist-packages (from pathy>=0.3.5->spacy) (5.2.1)\n",
            "Requirement already satisfied: certifi>=2017.4.17 in /usr/local/lib/python3.7/dist-packages (from requests<3.0.0,>=2.13.0->spacy) (2022.6.15)\n",
            "Requirement already satisfied: chardet<4,>=3.0.2 in /usr/local/lib/python3.7/dist-packages (from requests<3.0.0,>=2.13.0->spacy) (3.0.4)\n",
            "Requirement already satisfied: idna<3,>=2.5 in /usr/local/lib/python3.7/dist-packages (from requests<3.0.0,>=2.13.0->spacy) (2.10)\n",
            "Requirement already satisfied: urllib3!=1.25.0,!=1.25.1,<1.26,>=1.21.1 in /usr/local/lib/python3.7/dist-packages (from requests<3.0.0,>=2.13.0->spacy) (1.24.3)\n",
            "Requirement already satisfied: blis<0.8.0,>=0.7.8 in /usr/local/lib/python3.7/dist-packages (from thinc<8.2.0,>=8.1.0->spacy) (0.7.8)\n",
            "Requirement already satisfied: click<9.0.0,>=7.1.1 in /usr/local/lib/python3.7/dist-packages (from typer<0.5.0,>=0.3.0->spacy) (7.1.2)\n",
            "Requirement already satisfied: MarkupSafe>=0.23 in /usr/local/lib/python3.7/dist-packages (from jinja2->spacy) (2.0.1)\n"
          ]
        }
      ],
      "source": [
        "!pip install spacy"
      ]
    },
    {
      "cell_type": "code",
      "execution_count": null,
      "metadata": {
        "id": "_bIaogzNRsFE",
        "colab": {
          "base_uri": "https://localhost:8080/"
        },
        "outputId": "a3ef42fe-7545-47f4-c80d-b0c328fcabcb"
      },
      "outputs": [
        {
          "output_type": "stream",
          "name": "stdout",
          "text": [
            "2022-09-05 22:09:23.466148: E tensorflow/stream_executor/cuda/cuda_driver.cc:271] failed call to cuInit: CUDA_ERROR_NO_DEVICE: no CUDA-capable device is detected\n",
            "Looking in indexes: https://pypi.org/simple, https://us-python.pkg.dev/colab-wheels/public/simple/\n",
            "Collecting en-core-web-sm==3.4.0\n",
            "  Downloading https://github.com/explosion/spacy-models/releases/download/en_core_web_sm-3.4.0/en_core_web_sm-3.4.0-py3-none-any.whl (12.8 MB)\n",
            "\u001b[K     |████████████████████████████████| 12.8 MB 19.0 MB/s \n",
            "\u001b[?25hRequirement already satisfied: spacy<3.5.0,>=3.4.0 in /usr/local/lib/python3.7/dist-packages (from en-core-web-sm==3.4.0) (3.4.1)\n",
            "Requirement already satisfied: numpy>=1.15.0 in /usr/local/lib/python3.7/dist-packages (from spacy<3.5.0,>=3.4.0->en-core-web-sm==3.4.0) (1.21.1)\n",
            "Requirement already satisfied: pydantic!=1.8,!=1.8.1,<1.10.0,>=1.7.4 in /usr/local/lib/python3.7/dist-packages (from spacy<3.5.0,>=3.4.0->en-core-web-sm==3.4.0) (1.9.2)\n",
            "Requirement already satisfied: spacy-loggers<2.0.0,>=1.0.0 in /usr/local/lib/python3.7/dist-packages (from spacy<3.5.0,>=3.4.0->en-core-web-sm==3.4.0) (1.0.3)\n",
            "Requirement already satisfied: cymem<2.1.0,>=2.0.2 in /usr/local/lib/python3.7/dist-packages (from spacy<3.5.0,>=3.4.0->en-core-web-sm==3.4.0) (2.0.6)\n",
            "Requirement already satisfied: requests<3.0.0,>=2.13.0 in /usr/local/lib/python3.7/dist-packages (from spacy<3.5.0,>=3.4.0->en-core-web-sm==3.4.0) (2.23.0)\n",
            "Requirement already satisfied: typing-extensions<4.2.0,>=3.7.4 in /usr/local/lib/python3.7/dist-packages (from spacy<3.5.0,>=3.4.0->en-core-web-sm==3.4.0) (4.1.1)\n",
            "Requirement already satisfied: catalogue<2.1.0,>=2.0.6 in /usr/local/lib/python3.7/dist-packages (from spacy<3.5.0,>=3.4.0->en-core-web-sm==3.4.0) (2.0.8)\n",
            "Requirement already satisfied: wasabi<1.1.0,>=0.9.1 in /usr/local/lib/python3.7/dist-packages (from spacy<3.5.0,>=3.4.0->en-core-web-sm==3.4.0) (0.10.1)\n",
            "Requirement already satisfied: murmurhash<1.1.0,>=0.28.0 in /usr/local/lib/python3.7/dist-packages (from spacy<3.5.0,>=3.4.0->en-core-web-sm==3.4.0) (1.0.8)\n",
            "Requirement already satisfied: langcodes<4.0.0,>=3.2.0 in /usr/local/lib/python3.7/dist-packages (from spacy<3.5.0,>=3.4.0->en-core-web-sm==3.4.0) (3.3.0)\n",
            "Requirement already satisfied: tqdm<5.0.0,>=4.38.0 in /usr/local/lib/python3.7/dist-packages (from spacy<3.5.0,>=3.4.0->en-core-web-sm==3.4.0) (4.64.0)\n",
            "Requirement already satisfied: packaging>=20.0 in /usr/local/lib/python3.7/dist-packages (from spacy<3.5.0,>=3.4.0->en-core-web-sm==3.4.0) (21.3)\n",
            "Requirement already satisfied: preshed<3.1.0,>=3.0.2 in /usr/local/lib/python3.7/dist-packages (from spacy<3.5.0,>=3.4.0->en-core-web-sm==3.4.0) (3.0.7)\n",
            "Requirement already satisfied: srsly<3.0.0,>=2.4.3 in /usr/local/lib/python3.7/dist-packages (from spacy<3.5.0,>=3.4.0->en-core-web-sm==3.4.0) (2.4.4)\n",
            "Requirement already satisfied: setuptools in /usr/local/lib/python3.7/dist-packages (from spacy<3.5.0,>=3.4.0->en-core-web-sm==3.4.0) (57.4.0)\n",
            "Requirement already satisfied: jinja2 in /usr/local/lib/python3.7/dist-packages (from spacy<3.5.0,>=3.4.0->en-core-web-sm==3.4.0) (2.11.3)\n",
            "Requirement already satisfied: thinc<8.2.0,>=8.1.0 in /usr/local/lib/python3.7/dist-packages (from spacy<3.5.0,>=3.4.0->en-core-web-sm==3.4.0) (8.1.0)\n",
            "Requirement already satisfied: pathy>=0.3.5 in /usr/local/lib/python3.7/dist-packages (from spacy<3.5.0,>=3.4.0->en-core-web-sm==3.4.0) (0.6.2)\n",
            "Requirement already satisfied: spacy-legacy<3.1.0,>=3.0.9 in /usr/local/lib/python3.7/dist-packages (from spacy<3.5.0,>=3.4.0->en-core-web-sm==3.4.0) (3.0.10)\n",
            "Requirement already satisfied: typer<0.5.0,>=0.3.0 in /usr/local/lib/python3.7/dist-packages (from spacy<3.5.0,>=3.4.0->en-core-web-sm==3.4.0) (0.4.2)\n",
            "Requirement already satisfied: zipp>=0.5 in /usr/local/lib/python3.7/dist-packages (from catalogue<2.1.0,>=2.0.6->spacy<3.5.0,>=3.4.0->en-core-web-sm==3.4.0) (3.8.1)\n",
            "Requirement already satisfied: pyparsing!=3.0.5,>=2.0.2 in /usr/local/lib/python3.7/dist-packages (from packaging>=20.0->spacy<3.5.0,>=3.4.0->en-core-web-sm==3.4.0) (3.0.9)\n",
            "Requirement already satisfied: smart-open<6.0.0,>=5.2.1 in /usr/local/lib/python3.7/dist-packages (from pathy>=0.3.5->spacy<3.5.0,>=3.4.0->en-core-web-sm==3.4.0) (5.2.1)\n",
            "Requirement already satisfied: urllib3!=1.25.0,!=1.25.1,<1.26,>=1.21.1 in /usr/local/lib/python3.7/dist-packages (from requests<3.0.0,>=2.13.0->spacy<3.5.0,>=3.4.0->en-core-web-sm==3.4.0) (1.24.3)\n",
            "Requirement already satisfied: idna<3,>=2.5 in /usr/local/lib/python3.7/dist-packages (from requests<3.0.0,>=2.13.0->spacy<3.5.0,>=3.4.0->en-core-web-sm==3.4.0) (2.10)\n",
            "Requirement already satisfied: certifi>=2017.4.17 in /usr/local/lib/python3.7/dist-packages (from requests<3.0.0,>=2.13.0->spacy<3.5.0,>=3.4.0->en-core-web-sm==3.4.0) (2022.6.15)\n",
            "Requirement already satisfied: chardet<4,>=3.0.2 in /usr/local/lib/python3.7/dist-packages (from requests<3.0.0,>=2.13.0->spacy<3.5.0,>=3.4.0->en-core-web-sm==3.4.0) (3.0.4)\n",
            "Requirement already satisfied: blis<0.8.0,>=0.7.8 in /usr/local/lib/python3.7/dist-packages (from thinc<8.2.0,>=8.1.0->spacy<3.5.0,>=3.4.0->en-core-web-sm==3.4.0) (0.7.8)\n",
            "Requirement already satisfied: click<9.0.0,>=7.1.1 in /usr/local/lib/python3.7/dist-packages (from typer<0.5.0,>=0.3.0->spacy<3.5.0,>=3.4.0->en-core-web-sm==3.4.0) (7.1.2)\n",
            "Requirement already satisfied: MarkupSafe>=0.23 in /usr/local/lib/python3.7/dist-packages (from jinja2->spacy<3.5.0,>=3.4.0->en-core-web-sm==3.4.0) (2.0.1)\n",
            "\u001b[38;5;2m✔ Download and installation successful\u001b[0m\n",
            "You can now load the package via spacy.load('en_core_web_sm')\n"
          ]
        }
      ],
      "source": [
        "!python -m spacy download en_core_web_sm"
      ]
    },
    {
      "cell_type": "code",
      "execution_count": null,
      "metadata": {
        "id": "LoDVUVmxRsFF"
      },
      "outputs": [],
      "source": [
        "import gensim, spacy, logging, warnings\n",
        "import gensim.corpora as corpora\n",
        "from gensim.utils import lemmatize, simple_preprocess\n",
        "from gensim.models import CoherenceModel"
      ]
    },
    {
      "cell_type": "code",
      "execution_count": null,
      "metadata": {
        "id": "6XJAvr7vRsFF"
      },
      "outputs": [],
      "source": [
        "abstracts = cleaned_abstracts.values.tolist()"
      ]
    },
    {
      "cell_type": "code",
      "execution_count": null,
      "metadata": {
        "id": "kG-_8b8ARsFF",
        "colab": {
          "base_uri": "https://localhost:8080/"
        },
        "outputId": "d13cf555-49d8-4183-e84f-741a6576737c"
      },
      "outputs": [
        {
          "output_type": "execute_result",
          "data": {
            "text/plain": [
              "['happy', 'today']"
            ]
          },
          "metadata": {},
          "execution_count": 90
        }
      ],
      "source": [
        "# simple_preprocess of genism: elimina los caracteres especiales, los números y los convierte en minúsculas\n",
        "gensim.utils.simple_preprocess(\"12 happy today @# '' '\\n'\", deacc=True) "
      ]
    },
    {
      "cell_type": "code",
      "execution_count": null,
      "metadata": {
        "id": "fikDvlhkRsFF"
      },
      "outputs": [],
      "source": [
        "# Construcción de tokens abstractos\n",
        "def token_builder(sentences) :\n",
        "   for sent in sentences:     \n",
        "        sent = gensim.utils.simple_preprocess(str(sent), deacc=True) \n",
        "        yield(sent)  \n"
      ]
    },
    {
      "cell_type": "code",
      "execution_count": null,
      "metadata": {
        "id": "EPdod6emRsFF"
      },
      "outputs": [],
      "source": [
        "# Construcción de tokens abstractos usando token_builder\n",
        "abstract_tokens = list(token_builder(abstracts))"
      ]
    },
    {
      "cell_type": "code",
      "execution_count": null,
      "metadata": {
        "id": "lF4TCPEWRsFG"
      },
      "outputs": [],
      "source": [
        "# Construcción de los modelos de bigramas y trigramas\n",
        "bigram = gensim.models.Phrases(abstract_tokens, min_count=3, threshold=50) # higher threshold fewer phrases.\n",
        "trigram = gensim.models.Phrases(bigram[abstract_tokens], threshold=50)  \n",
        "bigram_mod = gensim.models.phrases.Phraser(bigram)\n",
        "trigram_mod = gensim.models.phrases.Phraser(trigram)"
      ]
    },
    {
      "cell_type": "code",
      "execution_count": null,
      "metadata": {
        "id": "s1HCdyaiRsFG",
        "colab": {
          "base_uri": "https://localhost:8080/"
        },
        "outputId": "9ad7da10-ab12-46dc-84f4-2a0dbab37b14"
      },
      "outputs": [
        {
          "output_type": "stream",
          "name": "stdout",
          "text": [
            "Looking in indexes: https://pypi.org/simple, https://us-python.pkg.dev/colab-wheels/public/simple/\n",
            "Requirement already satisfied: nltk in /usr/local/lib/python3.7/dist-packages (3.7)\n",
            "Requirement already satisfied: regex>=2021.8.3 in /usr/local/lib/python3.7/dist-packages (from nltk) (2022.6.2)\n",
            "Requirement already satisfied: tqdm in /usr/local/lib/python3.7/dist-packages (from nltk) (4.64.0)\n",
            "Requirement already satisfied: click in /usr/local/lib/python3.7/dist-packages (from nltk) (7.1.2)\n",
            "Requirement already satisfied: joblib in /usr/local/lib/python3.7/dist-packages (from nltk) (1.1.0)\n"
          ]
        }
      ],
      "source": [
        "!pip install nltk"
      ]
    },
    {
      "cell_type": "code",
      "execution_count": null,
      "metadata": {
        "id": "Z_brv0PORsFG",
        "colab": {
          "base_uri": "https://localhost:8080/"
        },
        "outputId": "7556dc8d-b74f-4ea3-e5b6-2c92e14b39b9"
      },
      "outputs": [
        {
          "output_type": "stream",
          "name": "stderr",
          "text": [
            "[nltk_data] Downloading package stopwords to /root/nltk_data...\n",
            "[nltk_data]   Package stopwords is already up-to-date!\n",
            "[nltk_data] Downloading package punkt to /root/nltk_data...\n",
            "[nltk_data]   Package punkt is already up-to-date!\n"
          ]
        }
      ],
      "source": [
        "import nltk as nltk\n",
        "nltk.download('stopwords')\n",
        "nltk.download('punkt')\n",
        "from nltk.corpus import stopwords"
      ]
    },
    {
      "cell_type": "code",
      "execution_count": null,
      "metadata": {
        "id": "O9JdhospRsFG"
      },
      "outputs": [],
      "source": [
        "# Palabras para tener en cuenta e ignorar\n",
        "stop_words = stopwords.words('english')\n",
        "stop_words.extend(['from', 'subject', 're', 'edu', 'use', 'not', 'would', 'say', 'could', '_', 'be', 'know', 'good', 'go', 'get', 'do', 'done', 'try', 'many', 'some', 'nice', 'thank', 'think', 'see', 'rather', 'easy', 'easily', 'lot', 'lack', 'make', 'want', 'seem', 'run', 'need', 'even', 'right', 'line', 'even', 'also', 'may', 'take', 'come'])"
      ]
    },
    {
      "cell_type": "code",
      "execution_count": null,
      "metadata": {
        "id": "6dGVai1ZRsFH"
      },
      "outputs": [],
      "source": [
        "def process_docs(texts, stop_words=stop_words, allowed_postags=['NOUN', 'ADJ', 'VERB', 'ADV']):\n",
        "    texts = [[word for word in simple_preprocess(str(doc)) if word not in stop_words] for doc in texts]\n",
        "    texts = [bigram_mod[doc] for doc in texts]\n",
        "    texts = [trigram_mod[bigram_mod[doc]] for doc in texts]\n",
        "    texts_out = []\n",
        "    # nlp = spacy.load('en', disable=['parser', 'ner'])\n",
        "    nlp = spacy.load(\"en_core_web_sm\")\n",
        "    for sent in texts:\n",
        "        doc = nlp(\" \".join(sent)) \n",
        "        texts_out.append([token.lemma_ for token in doc if token.pos_ in allowed_postags])\n",
        "    # Eliminar las palabras de parada una vez más después de la lematización   \n",
        "    texts_out = [[word for word in simple_preprocess(str(doc)) if word not in stop_words] for doc in texts_out] \n",
        "    return texts_out"
      ]
    },
    {
      "cell_type": "code",
      "execution_count": null,
      "metadata": {
        "id": "2V2Q_GpnRsFI"
      },
      "outputs": [],
      "source": [
        "abstracts_data = process_docs(abstract_tokens)"
      ]
    },
    {
      "cell_type": "code",
      "execution_count": null,
      "metadata": {
        "id": "IiHoSW13RsFI"
      },
      "outputs": [],
      "source": [
        "# Creación de un Diccionario de datos\n",
        "id2word = corpora.Dictionary(abstracts_data)"
      ]
    },
    {
      "cell_type": "code",
      "execution_count": null,
      "metadata": {
        "id": "K3REhH7HRsFI",
        "colab": {
          "base_uri": "https://localhost:8080/"
        },
        "outputId": "2d188ab9-fe12-45a0-8e44-5d0c11f34781"
      },
      "outputs": [
        {
          "output_type": "stream",
          "name": "stdout",
          "text": [
            "Dictionary(4529 unique tokens: ['chest', 'covid', 'damage', 'datum', 'especially']...)\n"
          ]
        }
      ],
      "source": [
        "print(id2word)"
      ]
    },
    {
      "cell_type": "code",
      "execution_count": null,
      "metadata": {
        "id": "HReNqXHHRsFJ",
        "colab": {
          "base_uri": "https://localhost:8080/"
        },
        "outputId": "5cbe4d9e-bc48-4804-b491-b89f29b02b45"
      },
      "outputs": [
        {
          "output_type": "stream",
          "name": "stdout",
          "text": [
            "{'chest': 0, 'covid': 1, 'damage': 2, 'datum': 3, 'especially': 4, 'evaluate': 5, 'far': 6, 'initial': 7, 'mild': 8, 'organ': 9, 'pain': 10, 'patient': 11, 'pneumonia': 12, 'range': 13, 'rate': 14, 'severe': 15, 'show': 16, 'specifically': 17, 'symptom': 18, 'vary': 19, 'consider': 20, 'detection': 21, 'disease': 22, 'dyspnea': 23, 'early': 24, 'fatigue': 25, 'key': 26, 'main': 27, 'people': 28, 'prevent': 29, 'role': 30, 'transmission': 31, 'additive': 32, 'badly': 33, 'bane': 34, 'case': 35, 'chain': 36, 'club': 37, 'community': 38, 'country': 39, 'cure': 40, 'desire': 41, 'development': 42, 'device': 43, 'discuss': 44, 'emerge': 45, 'emergence': 46, 'essential': 47, 'global': 48, 'great': 49, 'hit': 50, 'human': 51, 'impact': 52, 'increase': 53, 'initially': 54, 'large': 55, 'lead': 56, 'manufacturing': 57, 'medical': 58, 'medication': 59, 'meeting': 60, 'mortality': 61, 'note': 62, 'number': 63, 'positive': 64, 'prescribed': 65, 'primary': 66, 'product': 67, 'race': 68, 'response': 69, 'sector': 70, 'slowly': 71, 'society': 72, 'source': 73, 'span': 74, 'spread': 75, 'supply': 76, 'time': 77, 'wuhan_china': 78, 'age': 79, 'cause': 80, 'city': 81, 'common': 82, 'depend': 83, 'detect': 84, 'fever_cough': 85, 'health': 86, 'infect': 87, 'manifestation': 88, 'activity': 89, 'affect': 90, 'claim': 91, 'daytoday': 92, 'deadly': 93, 'develop': 94, 'disrupt': 95, 'economy': 96, 'effort': 97, 'healthcare': 98, 'hundred': 99, 'infection': 100, 'learn': 101, 'life': 102, 'local': 103, 'professional': 104, 'prove': 105, 'reduce': 106, 'scientist': 107, 'still': 108, 'test': 109, 'therefore': 110, 'thousand': 111, 'vaccine': 112, 'virus': 113, 'world': 114, 'abstract': 115, 'accordingly': 116, 'accuracy': 117, 'achieve': 118, 'additional': 119, 'adjuvant': 120, 'analysis': 121, 'artificial': 122, 'atypical': 123, 'auc': 124, 'base': 125, 'become': 126, 'characterize': 127, 'condition': 128, 'convolutional': 129, 'cost': 130, 'current': 131, 'department': 132, 'diagnose': 133, 'diagnosis': 134, 'diagnostic': 135, 'distinguish': 136, 'fast': 137, 'group': 138, 'high': 139, 'however': 140, 'impose': 141, 'improve': 142, 'include': 143, 'intelligence': 144, 'investigation': 145, 'laboratory': 146, 'manage': 147, 'method': 148, 'model': 149, 'moderate': 150, 'network': 151, 'neural': 152, 'pandemic': 153, 'performance': 154, 'physician': 155, 'radiologist': 156, 'radiology': 157, 'rapid': 158, 'require': 159, 'resnet': 160, 'routine': 161, 'sensitivity': 162, 'slice': 163, 'specificity': 164, 'study': 165, 'suggest': 166, 'technique': 167, 'thus': 168, 'timeconsume': 169, 'tool': 170, 'valid': 171, 'viral': 172, 'well': 173, 'wellequippe': 174, 'wellknown': 175, 'workload': 176, 'xception': 177, 'antiviral': 178, 'atribuido': 179, 'benefit': 180, 'clinical': 181, 'evidente': 182, 'fueron': 183, 'improvement': 184, 'inflamatorio': 185, 'inform': 186, 'receive': 187, 'reveal': 188, 'several': 189, 'severe_form': 190, 'shortening': 191, 'treatment': 192, 'attention': 193, 'attract': 194, 'authorisation': 195, 'control': 196, 'effect': 197, 'emergency': 198, 'evidence': 199, 'inhibit': 200, 'medicine': 201, 'medium': 202, 'property': 203, 'randomised': 204, 'rct': 205, 'regard': 206, 'remdesivir': 207, 'replication': 208, 'result': 209, 'sarscov': 210, 'thorough': 211, 'trial': 212, 'understand': 213, 'available': 214, 'collate': 215, 'parameter': 216, 'admission': 217, 'antagonist': 218, 'confer': 219, 'hospital': 220, 'important': 221, 'inhibitor': 222, 'interleukin': 223, 'kinase': 224, 'nonsevere': 225, 'probably': 226, 'receptor': 227, 'aerosol': 228, 'assume': 229, 'cavity': 230, 'contact': 231, 'contaminate': 232, 'contaminated': 233, 'direct': 234, 'drink': 235, 'droplet': 236, 'glass': 237, 'low': 238, 'mouth': 239, 'nevertheless': 240, 'oral': 241, 'overall': 242, 'pose': 243, 'possible': 244, 'primarily': 245, 'risk': 246, 'route': 247, 'surface': 248, 'transmit': 249, 'type': 250, 'appear': 251, 'appropriate': 252, 'clinical_trial': 253, 'conclusion': 254, 'contagion': 255, 'decrease': 256, 'design': 257, 'determine': 258, 'effective': 259, 'evidencebased': 260, 'intervention': 261, 'modality': 262, 'propose': 263, 'quarantine': 264, 'randomized': 265, 'respiratory': 266, 'therapy': 267, 'treat': 268, 'alpha': 269, 'cold': 270, 'compare': 271, 'conduct': 272, 'day': 273, 'decay': 274, 'delta': 275, 'delta_variant': 276, 'environment': 277, 'experimental': 278, 'finding': 279, 'first': 280, 'fomite': 281, 'industrial': 282, 'investigate': 283, 'least': 284, 'limit': 285, 'log': 286, 'month': 287, 'observe': 288, 'persistence': 289, 'potential': 290, 'rapidly': 291, 'recover': 292, 'reduction': 293, 'refrigerate': 294, 'region': 295, 'remain': 296, 'respectively': 297, 'situ': 298, 'stability': 299, 'stainless': 300, 'steel': 301, 'support': 302, 'survival': 303, 'survive': 304, 'temperature': 305, 'variant': 306, 'viable': 307, 'week': 308, 'winter': 309, 'worldwide': 310, 'consumption': 311, 'demand': 312, 'globalization': 313, 'grow': 314, 'link': 315, 'logistic': 316, 'objecttohuman': 317, 'production': 318, 'report': 319, 'sale': 320, 'storage': 321, 'transnational': 322, 'transportation': 323, 'concern': 324, 'contagious': 325, 'containment': 326, 'crucial': 327, 'highly': 328, 'identify': 329, 'immunization': 330, 'measure': 331, 'modify': 332, 'numerous': 333, 'onset': 334, 'pharmacological': 335, 'physical': 336, 'raise': 337, 'reuse': 338, 'serious': 339, 'surveillance': 340, 'voc': 341, 'vocs': 342, 'booster': 343, 'considerably': 344, 'employ': 345, 'failure': 346, 'find': 347, 'give': 348, 'individual': 349, 'last': 350, 'much': 351, 'offer': 352, 'previous': 353, 'protect': 354, 'protection': 355, 'sgene': 356, 'similar': 357, 'target': 358, 'testnegative': 359, 'vaccination': 360, 'assess': 361, 'computational': 362, 'infectivity': 363, 'mutation': 364, 'omicron': 365, 'pathogenicity': 366, 'peak': 367, 'share': 368, 'subvariant': 369, 'administer': 370, 'chadox': 371, 'currently': 372, 'death': 373, 'hospitalization': 374, 'namely': 375, 'united_kingdom': 376, 'adverse': 377, 'coronavac': 378, 'demonstrate': 379, 'event': 380, 'interest': 381, 'outcome': 382, 'period': 383, 'safe': 384, 'special': 385, 'associate': 386, 'continue': 387, 'defect': 388, 'delivery': 389, 'developmental': 390, 'fetal': 391, 'growth': 392, 'indicate': 393, 'intrauterine': 394, 'newborn': 395, 'pregnancy': 396, 'preterm': 397, 'restriction': 398, 'third': 399, 'year': 400, 'different': 401, 'disappear': 402, 'follow': 403, 'ill': 404, 'median': 405, 'morbidity': 406, 'negative': 407, 'predictor': 408, 'recovery': 409, 'setting': 410, 'severely': 411, 'sign': 412, 'status': 413, 'study_aime': 414, 'tigray': 415, 'alimentos': 416, 'desinfectante': 417, 'en': 418, 'characteristic': 419, 'circulate': 420, 'confluence': 421, 'demographic': 422, 'diabete': 423, 'epidemic': 424, 'factor': 425, 'genetic': 426, 'hypertension': 427, 'level': 428, 'population': 429, 'relate': 430, 'risk_factor': 431, 'attribute': 432, 'behavior': 433, 'comorbiditie': 434, 'genome': 435, 'sex': 436, 'socioeconomic': 437, 'variation': 438, 'account': 439, 'breath': 440, 'care': 441, 'copd': 442, 'critical': 443, 'elderly': 444, 'female': 445, 'gender': 446, 'incidence': 447, 'long': 448, 'male': 449, 'mean': 450, 'nonsurvivor': 451, 'prevention': 452, 'pvalue': 453, 'short': 454, 'shortness': 455, 'significantly': 456, 'stay': 457, 'survivor': 458, 'symptom_onset': 459, 'young': 460, 'conflicting': 461, 'describe': 462, 'dysfunction': 463, 'frequency': 464, 'involvement': 465, 'mainly': 466, 'new': 467, 'relationship': 468, 'severity': 469, 'system': 470, 'thyroid': 471, 'unclear': 472, 'family': 473, 'name': 474, 'one': 475, 'organization': 476, 'outbreak': 477, 'sarssevere': 478, 'syndrome': 479, 'analyze': 480, 'body': 481, 'candidate': 482, 'close': 483, 'coronaviruse': 484, 'drug': 485, 'epidemiology': 486, 'examine': 487, 'fatal': 488, 'fever': 489, 'genomic': 490, 'inhalation': 491, 'interaction': 492, 'midst': 493, 'mode': 494, 'overview': 495, 'procedure': 496, 'progress': 497, 'prophylaxis': 498, 'provide': 499, 'sar': 500, 'similarity': 501, 'testing': 502, 'throw': 503, 'underway': 504, 'united_state': 505, 'various': 506, 'virology': 507, 'vulnerable': 508, 'administrator': 509, 'adopt': 510, 'arbidol': 511, 'article': 512, 'carry': 513, 'cell': 514, 'comply': 515, 'comprehensive': 516, 'concept': 517, 'coronavirus': 518, 'cough': 519, 'diarrhoea': 520, 'drugstreatment': 521, 'enhancer': 522, 'fever_dry': 523, 'focus': 524, 'globally': 525, 'globe': 526, 'government': 527, 'guide': 528, 'help': 529, 'immunity': 530, 'integrate': 531, 'literature': 532, 'major': 533, 'mesenchymal': 534, 'million': 535, 'mitigation': 536, 'nutrition': 537, 'objective': 538, 'officer': 539, 'optimal': 540, 'origin': 541, 'parallelship': 542, 'plan': 543, 'public': 544, 'recommend': 545, 'research': 546, 'researcher': 547, 'review': 548, 'serve': 549, 'sputum': 550, 'stem': 551, 'strategy': 552, 'theme': 553, 'traumatization': 554, 'visualize': 555, 'cardiovascular': 556, 'central': 557, 'flulike': 558, 'manifest': 559, 'mucosa': 560, 'multiple': 561, 'nervous': 562, 'responsible': 563, 'skin': 564, 'abdominal': 565, 'belong': 566, 'betacoronavirus': 567, 'chill': 568, 'complication': 569, 'coronaviridae': 570, 'envelop': 571, 'genus': 572, 'lifethreatening': 573, 'loss': 574, 'myriad': 575, 'nausea': 576, 'positivesense': 577, 'present': 578, 'problem': 579, 'ribonucleic': 580, 'singlestrande': 581, 'smell': 582, 'subsequently': 583, 'taste': 584, 'ultimately': 585, 'unusual': 586, 'vomiting': 587, 'wuhan_city': 588, 'real': 589, 'rtpcr': 590, 'advantage': 591, 'delay': 592, 'inexpensive': 593, 'less': 594, 'mix': 595, 'pointofcare': 596, 'rat': 597, 'relative': 598, 'relatively': 599, 'return': 600, 'sensitive': 601, 'vitiate': 602, 'antigen': 603, 'antigen_test': 604, 'approach': 605, 'assay': 606, 'asymptomatic': 607, 'cohort': 608, 'commercially': 609, 'decision': 610, 'deliver': 611, 'effectiveness': 612, 'highest': 613, 'illness': 614, 'immediate': 615, 'independent': 616, 'laboratorybase': 617, 'load': 618, 'manner': 619, 'mass': 620, 'meet': 621, 'paucity': 622, 'programme': 623, 'question': 624, 'rapid_antigen': 625, 'repeat': 626, 'replace': 627, 'school': 628, 'screen': 629, 'screening': 630, 'set': 631, 'standard': 632, 'suitable': 633, 'testbased': 634, 'timely': 635, 'traveller': 636, 'triage': 637, 'validation': 638, 'variable': 639, 'agreement': 640, 'analytical': 641, 'arrival': 642, 'compute': 643, 'derive': 644, 'expression': 645, 'percent': 646, 'perform': 647, 'postarrival': 648, 'propagate': 649, 'specified': 650, 'assessment': 651, 'cardiac': 652, 'collaboration': 653, 'dedicated': 654, 'expert': 655, 'involve': 656, 'neuromuscular': 657, 'order': 658, 'process': 659, 'quality': 660, 'rehabilitation': 661, 'rehabilitative': 662, 'swallow': 663, 'team': 664, 'accord': 665, 'alternative': 666, 'antibody': 667, 'confirm': 668, 'expect': 669, 'gradual': 670, 'rapid_test': 671, 'realtime': 672, 'second': 673, 'serological': 674, 'suppose': 675, 'unavailable': 676, 'address': 677, 'adequate': 678, 'avoid': 679, 'breathe': 680, 'breathing': 681, 'chamber': 682, 'change': 683, 'concomitantly': 684, 'cotton': 685, 'crowd': 686, 'duration': 687, 'engineering': 688, 'exhale': 689, 'exhaled': 690, 'exposure': 691, 'fine': 692, 'implement': 693, 'indoor': 694, 'infectious': 695, 'influence': 696, 'isolation': 697, 'layered': 698, 'maintain': 699, 'mask': 700, 'masking': 701, 'mitigating': 702, 'often': 703, 'particle': 704, 'personal': 705, 'place': 706, 'ply': 707, 'potentially': 708, 'recipient': 709, 'simulator': 710, 'space': 711, 'universal': 712, 'unmasked': 713, 'ventilation': 714, 'action': 715, 'approve': 716, 'cytokine_storm': 717, 'destroy': 718, 'disorder': 719, 'heavy': 720, 'lung': 721, 'person': 722, 'phylogeny': 723, 'repurpose': 724, 'specific': 725, 'viral_load': 726, 'antibodie': 727, 'antibody_level': 728, 'antispike': 729, 'comparison': 730, 'contract': 731, 'domain': 732, 'dose': 733, 'dynamic': 734, 'exception': 735, 'first_dose': 736, 'igg_antibodie': 737, 'immune': 738, 'markedly': 739, 'memory': 740, 'natural': 741, 'naturally': 742, 'nave': 743, 'neutralize': 744, 'notably': 745, 'persist': 746, 'preexist': 747, 'previously': 748, 'progressively': 749, 'rbd': 750, 'receptorbinde': 751, 'side_effect': 752, 'sustained': 753, 'titer': 754, 'tolerate': 755, 'blood_sample': 756, 'calculate': 757, 'collect': 758, 'draw': 759, 'estimate': 760, 'mathematical': 761, 'mostly': 762, 'positivity': 763, 'presence': 764, 'sample': 765, 'start': 766, 'subsequent': 767, 'total': 768, 'participant': 769, 'percentage': 770, 'seronegative': 771, 'seropositive': 772, 'symptomatic': 773, 'add': 774, 'adherence': 775, 'avert': 776, 'capacity': 777, 'comparable': 778, 'confirmation': 779, 'contact_trace': 780, 'costeffective': 781, 'date': 782, 'difficult': 783, 'efficiency': 784, 'equivalently': 785, 'evolution': 786, 'full': 787, 'infectiousness': 788, 'isolate': 789, 'lateral_flow': 790, 'lfa': 791, 'limited': 792, 'lower': 793, 'minimize': 794, 'mitigate': 795, 'pcr': 796, 'perception': 797, 'policy': 798, 'postexposure': 799, 'reach': 800, 'robust': 801, 'rule': 802, 'secondary': 803, 'sequential': 804, 'simple': 805, 'simulation': 806, 'timing': 807, 'vaccinate': 808, 'vital': 809, 'academic': 810, 'african': 811, 'american': 812, 'andor': 813, 'asian': 814, 'association': 815, 'basis': 816, 'bathroom': 817, 'black': 818, 'center': 819, 'ci': 820, 'classification': 821, 'designate': 822, 'empirical': 823, 'ethnicity': 824, 'followup': 825, 'frequently': 826, 'guidance': 827, 'hispanic': 828, 'household': 829, 'housing': 830, 'importance': 831, 'intend': 832, 'iqr': 833, 'latinx': 834, 'length': 835, 'meal': 836, 'member': 837, 'multiethnic': 838, 'multiracial': 839, 'nonstrict': 840, 'ongoing': 841, 'owe': 842, 'part': 843, 'postquarantine': 844, 'private': 845, 'quantitative': 846, 'release': 847, 'relevance': 848, 'room': 849, 'selfreporte': 850, 'staff': 851, 'strictness': 852, 'testbase': 853, 'tested_positive': 854, 'university': 855, 'weekly': 856, 'white': 857, 'appropriately': 858, 'challenge': 859, 'covidrelate': 860, 'deepen': 861, 'deploy': 862, 'disable': 863, 'disruption': 864, 'economic': 865, 'effectively': 866, 'employee': 867, 'entry': 868, 'equally': 869, 'exit': 870, 'formulate': 871, 'furthermore': 872, 'highlight': 873, 'initiate': 874, 'integrity': 875, 'molecular': 876, 'moreover': 877, 'obtain': 878, 'offshore': 879, 'oil': 880, 'operational': 881, 'principle': 882, 'probability': 883, 'prolonged': 884, 'protocol': 885, 'quantify': 886, 'quarter': 887, 'realworld': 888, 'recommendation': 889, 'rig': 890, 'riskbase': 891, 'sars_cov': 892, 'scenario': 893, 'shorten': 894, 'significant': 895, 'stayathome': 896, 'successful': 897, 'successfully': 898, 'thereby': 899, 'trace': 900, 'travel': 901, 'unknown': 902, 'varied': 903, 'woe': 904, 'admit': 905, 'aim': 906, 'allcause': 907, 'antibiotic': 908, 'background': 909, 'bacterial': 910, 'coinfection': 911, 'data': 912, 'due': 913, 'empiric': 914, 'endpoint': 915, 'generate': 916, 'hospitalize': 917, 'infiltrate': 918, 'initiative': 919, 'insufficient': 920, 'kind': 921, 'knowledge': 922, 'macrolide': 923, 'promise': 924, 'transfer': 925, 'uncommon': 926, 'unit': 927, 'widespread': 928, 'work': 929, 'xray': 930, 'yet': 931, 'active': 932, 'antimicrobial': 933, 'broadspectrum': 934, 'ceftriaxone': 935, 'chart': 936, 'choice': 937, 'concurrent': 938, 'database': 939, 'drive': 940, 'electronic': 941, 'empirically': 942, 'enterprise': 943, 'indication': 944, 'infrequent': 945, 'interpretation': 946, 'likely': 947, 'little': 948, 'microbiological': 949, 'multidrug': 950, 'nonrespiratory': 951, 'observational': 952, 'organism': 953, 'pattern': 954, 'prescribe': 955, 'prescribing': 956, 'prescription': 957, 'prospective': 958, 'pulmonary': 959, 'record': 960, 'regardless': 961, 'resistant': 962, 'stewardship': 963, 'tuberculosis': 964, 'unnecessary': 965, 'addition': 966, 'antiviral_drug': 967, 'autoimmune': 968, 'chloroquine': 969, 'combination': 970, 'crisprbase': 971, 'culture': 972, 'enzyme': 973, 'evolve': 974, 'extensive': 975, 'generally': 976, 'hypoxaemia': 977, 'innate': 978, 'intravenously': 979, 'malarial': 980, 'mer': 981, 'ncov': 982, 'neuraminidase': 983, 'option': 984, 'orally': 985, 'pathogenic': 986, 'peptide': 987, 'potent': 988, 'protein': 989, 'recently': 990, 'resistance': 991, 'season': 992, 'serology': 993, 'spike': 994, 'step': 995, 'therapeutic': 996, 'class': 997, 'detailed': 998, 'efficacy': 999, 'half': 1000, 'information': 1001, 'latter': 1002, 'occurrence': 1003, 'ovid': 1004, 'pool': 1005, 'practice': 1006, 'relevant': 1007, 'rise': 1008, 'search': 1009, 'select': 1010, 'usage': 1011, 'view': 1012, 'ace': 1013, 'affinity': 1014, 'algorithm': 1015, 'bind': 1016, 'colon': 1017, 'detectable': 1018, 'diarrhea': 1019, 'document': 1020, 'embase': 1021, 'esophagus': 1022, 'express': 1023, 'fecal': 1024, 'frequent': 1025, 'infected': 1026, 'inflammation': 1027, 'intensive': 1028, 'intestinal': 1029, 'liver': 1030, 'management': 1031, 'mechanism': 1032, 'modification': 1033, 'precede': 1034, 'presentation': 1035, 'prime': 1036, 'pubmed': 1037, 'science': 1038, 'serine': 1039, 'shed': 1040, 'small': 1041, 'stool': 1042, 'supportive': 1043, 'tmprss': 1044, 'trail': 1045, 'upper': 1046, 'viral_rna': 1047, 'web': 1048, 'air': 1049, 'airborne': 1050, 'authority': 1051, 'begin': 1052, 'building': 1053, 'comprehensively': 1054, 'debate': 1055, 'disinfection': 1056, 'distance': 1057, 'eligible': 1058, 'elucidate': 1059, 'end': 1060, 'exact': 1061, 'finally': 1062, 'indoor_air': 1063, 'interpersonal': 1064, 'official': 1065, 'pay': 1066, 'personnel': 1067, 'persontoperson': 1068, 'possibility': 1069, 'situation': 1070, 'social_distance': 1071, 'aid': 1072, 'anticontagion': 1073, 'antispread': 1074, 'certainly': 1075, 'component': 1076, 'dental': 1077, 'fear': 1078, 'feature': 1079, 'guideline': 1080, 'insecurity': 1081, 'move': 1082, 'psychological': 1083, 'purpose': 1084, 'scientific': 1085, 'stage': 1086, 'summarize': 1087, 'underestimate': 1088, 'agent': 1089, 'animate': 1090, 'apply': 1091, 'attack': 1092, 'authorie': 1093, 'conclude': 1094, 'consent': 1095, 'contain': 1096, 'contracting': 1097, 'counting': 1098, 'disinfect': 1099, 'efficiently': 1100, 'equipment': 1101, 'exploit': 1102, 'exponentially': 1103, 'external': 1104, 'host': 1105, 'hour': 1106, 'infectuousness': 1107, 'international': 1108, 'matrix': 1109, 'matter': 1110, 'membrane': 1111, 'monitor': 1112, 'national': 1113, 'optimize': 1114, 'organic': 1115, 'pathogen': 1116, 'represent': 1117, 'unanimate': 1118, 'viral_shedde': 1119, 'vitro': 1120, 'water': 1121, 'weak': 1122, 'absorb': 1123, 'adenovirus': 1124, 'adverse_effect': 1125, 'amount': 1126, 'antisarscov': 1127, 'average': 1128, 'beta': 1129, 'blue': 1130, 'breastfe': 1131, 'breastfeed': 1132, 'breastmilk': 1133, 'cansino': 1134, 'coating': 1135, 'comprise': 1136, 'concentration': 1137, 'cycle': 1138, 'difference': 1139, 'digestion': 1140, 'discoloration': 1141, 'double': 1142, 'experience': 1143, 'gastric': 1144, 'glycol': 1145, 'governmental': 1146, 'halflife': 1147, 'harmful': 1148, 'inactivate': 1149, 'infant': 1150, 'lactate': 1151, 'lactation': 1152, 'mark': 1153, 'maternal': 1154, 'mcgl': 1155, 'mense': 1156, 'menstrual': 1157, 'milk': 1158, 'minimal': 1159, 'moderna': 1160, 'mother': 1161, 'mrna': 1162, 'mrna_vaccine': 1163, 'nonlive': 1164, 'nursing': 1165, 'occur': 1166, 'online_survey': 1167, 'original': 1168, 'outweigh': 1169, 'peg': 1170, 'pfizerbiontech': 1171, 'polyethylene': 1172, 'preservative': 1173, 'prevaccination': 1174, 'primate': 1175, 'regularity': 1176, 'saliva': 1177, 'serum': 1178, 'slow': 1179, 'sputnikv': 1180, 'strain': 1181, 'sufficient': 1182, 'theoretical': 1183, 'thirtysix': 1184, 'tiny': 1185, 'variably': 1186, 'vector': 1187, 'volume': 1188, 'woman': 1189, 'ability': 1190, 'able': 1191, 'accumulation': 1192, 'acquire': 1193, 'animal': 1194, 'antibodiesbased': 1195, 'appearance': 1196, 'continuously': 1197, 'degree': 1198, 'epizootic': 1199, 'evade': 1200, 'explain': 1201, 'facility': 1202, 'gamma': 1203, 'gather': 1204, 'handle': 1205, 'havoc': 1206, 'hybrid': 1207, 'immunotherapy': 1208, 'implementation': 1209, 'introduction': 1210, 'late': 1211, 'later': 1212, 'lethality': 1213, 'live': 1214, 'multifacete': 1215, 'multivalent': 1216, 'mutate': 1217, 'mutating': 1218, 'newly': 1219, 'overpower': 1220, 'pressure': 1221, 'priority': 1222, 'ramp': 1223, 'reintroduce': 1224, 'strict': 1225, 'subgroup': 1226, 'theory': 1227, 'update': 1228, 'upgradation': 1229, 'wreak': 1230, 'astrazeneca': 1231, 'azd': 1232, 'declare': 1233, 'difficulty': 1234, 'element': 1235, 'immune_response': 1236, 'induce': 1237, 'play': 1238, 'reason': 1239, 'recognize': 1240, 'strong': 1241, 'abnormality': 1242, 'acute': 1243, 'ageadjuste': 1244, 'aged_year': 1245, 'anticoagulant': 1246, 'approximately': 1247, 'aspect': 1248, 'basic': 1249, 'best_practice': 1250, 'carrier': 1251, 'casefatality': 1252, 'dependent': 1253, 'dexamethasone': 1254, 'elevate': 1255, 'face': 1256, 'facetoface': 1257, 'falsenegative': 1258, 'fulminant': 1259, 'hypoxic': 1260, 'lymphopenia': 1261, 'monoclonal': 1262, 'necessitate': 1263, 'nonspecific': 1264, 'novel': 1265, 'observation': 1266, 'old': 1267, 'pathophysiology': 1268, 'presymptomatic': 1269, 'preventive': 1270, 'radiographic': 1271, 'randomize': 1272, 'ratio': 1273, 'requirement': 1274, 'reverse': 1275, 'sepsis': 1276, 'substantial': 1277, 'sudden': 1278, 'transcription': 1279, 'usual': 1280, 'ard': 1281, 'checklist': 1282, 'client': 1283, 'contribute': 1284, 'diabetes': 1285, 'diabetic': 1286, 'disability': 1287, 'extraction': 1288, 'hcq': 1289, 'instance': 1290, 'metaanalysis': 1291, 'paper': 1292, 'poor': 1293, 'prisma': 1294, 'prognosis': 1295, 'pubme': 1296, 'scopus': 1297, 'study_aim': 1298, 'suffer': 1299, 'useful': 1300, 'attenuate': 1301, 'bacillus': 1302, 'calmettegurin': 1303, 'clarity': 1304, 'consideration': 1305, 'european': 1306, 'explore': 1307, 'hope': 1308, 'introduce': 1309, 'keep': 1310, 'measle': 1311, 'mobilize': 1312, 'offtarget': 1313, 'phase': 1314, 'precaution': 1315, 'presume': 1316, 'protective': 1317, 'proteinbase': 1318, 'vectorbase': 1319, 'adult': 1320, 'biontech': 1321, 'female_gender': 1322, 'history': 1323, 'homebase': 1324, 'inactive': 1325, 'interview': 1326, 'nature': 1327, 'odd': 1328, 'pfizer': 1329, 'platform': 1330, 'rare': 1331, 'safety': 1332, 'sinopharm': 1333, 'site': 1334, 'survey': 1335, 'telephonic': 1336, 'agree': 1337, 'centre': 1338, 'choose': 1339, 'clear': 1340, 'communication': 1341, 'consistent': 1342, 'content': 1343, 'dissemination': 1344, 'ethiopia': 1345, 'extensively': 1346, 'hence': 1347, 'hesitancy': 1348, 'hesitant': 1349, 'hesitate': 1350, 'inadequate': 1351, 'indepth': 1352, 'longterm': 1353, 'mention': 1354, 'midwive': 1355, 'misinformation': 1356, 'nurse': 1357, 'openended': 1358, 'perceive': 1359, 'perspective': 1360, 'pharmacist': 1361, 'profile': 1362, 'purposively': 1363, 'qualitative': 1364, 'regulatory': 1365, 'religious': 1366, 'semistructure': 1367, 'technologist': 1368, 'threat': 1369, 'top': 1370, 'transparent': 1371, 'undefined': 1372, 'vaccine_uptake': 1373, 'acceptance': 1374, 'alleviate': 1375, 'aware': 1376, 'believe': 1377, 'boostervaccine': 1378, 'cite': 1379, 'decent': 1380, 'disseminate': 1381, 'distribute': 1382, 'educational': 1383, 'encourage': 1384, 'exhibit': 1385, 'feeling': 1386, 'fraction': 1387, 'hcw': 1388, 'journal': 1389, 'mixingmatche': 1390, 'modest': 1391, 'online': 1392, 'participate': 1393, 'preferred': 1394, 'questionnaire': 1395, 'reliable': 1396, 'scale': 1397, 'social_media': 1398, 'warrant': 1399, 'willing': 1400, 'worry': 1401, 'adjusted_odd': 1402, 'aor': 1403, 'aor_ci': 1404, 'complex': 1405, 'confidence': 1406, 'depression': 1407, 'despair': 1408, 'interval': 1409, 'korean': 1410, 'phq': 1411, 'prepandemic': 1412, 'recategorize': 1413, 'sadness': 1414, 'sampling': 1415, 'score': 1416, 'term': 1417, 'value': 1418, 'weight': 1419, 'criterion': 1420, 'evaluation': 1421, 'fulfil': 1422, 'gap': 1423, 'immunogenicity': 1424, 'inclusion': 1425, 'injection': 1426, 'integrated': 1427, 'medline': 1428, 'nonrandomize': 1429, 'prevalent': 1430, 'publish': 1431, 'side': 1432, 'transcriptase': 1433, 'beforeandafter': 1434, 'case_serie': 1435, 'comparative': 1436, 'crosssectional': 1437, 'formal': 1438, 'grey': 1439, 'manual': 1440, 'methodological': 1441, 'noncomparative': 1442, 'summarise': 1443, 'systematically': 1444, 'hand_washe': 1445, 'home': 1446, 'wear': 1447, 'attitude': 1448, 'compliance': 1449, 'decade': 1450, 'engage': 1451, 'equation': 1452, 'facilitate': 1453, 'hong_kong': 1454, 'hypothesized': 1455, 'implication': 1456, 'informal': 1457, 'message': 1458, 'modeling': 1459, 'multigroup': 1460, 'preventative': 1461, 'reaction': 1462, 'related': 1463, 'selfefficacy': 1464, 'structural': 1465, 'trust': 1466, 'truthful': 1467, 'amplification': 1468, 'antibodyantigen': 1469, 'assays': 1470, 'certificate': 1471, 'crisprca': 1472, 'determination': 1473, 'duringaft': 1474, 'frame': 1475, 'general': 1476, 'heat': 1477, 'immediately': 1478, 'incubation': 1479, 'influenza': 1480, 'inpatient': 1481, 'microscopy': 1482, 'nonanalytical': 1483, 'open': 1484, 'outline': 1485, 'overlook': 1486, 'overviewe': 1487, 'reading': 1488, 'sequence': 1489, 'systembase': 1490, 'tissue': 1491, 'validity': 1492, 'viruse': 1493, 'virusinduce': 1494, 'way': 1495, 'widely': 1496, 'capitalize': 1497, 'categorize': 1498, 'collection': 1499, 'contraindicated': 1500, 'discussion': 1501, 'distribution': 1502, 'epidemiological': 1503, 'exist': 1504, 'experiment': 1505, 'fighting': 1506, 'future': 1507, 'limitation': 1508, 'normalize': 1509, 'opportunity': 1510, 'particular': 1511, 'past': 1512, 'point': 1513, 'prior': 1514, 'prone': 1515, 'prophylactic': 1516, 'repositioned': 1517, 'reside': 1518, 'resource': 1519, 'respect': 1520, 'serologic': 1521, 'spectrum': 1522, 'symptomology': 1523, 'usefulness': 1524, 'advance': 1525, 'always': 1526, 'attempt': 1527, 'careful': 1528, 'combine': 1529, 'compromise': 1530, 'conserve': 1531, 'cryptic': 1532, 'dangerous': 1533, 'delete': 1534, 'disastrous': 1535, 'encode': 1536, 'epitope': 1537, 'escape': 1538, 'fragment': 1539, 'fulllength': 1540, 'hold': 1541, 'immunogenic': 1542, 'light': 1543, 'material': 1544, 'mutant': 1545, 'nonstructural': 1546, 'pathological': 1547, 'peptide_vaccine': 1548, 'proinflammatory': 1549, 'recent': 1550, 'rnaencode': 1551, 'selection': 1552, 'true': 1553, 'utilize': 1554, 'utmost': 1555, 'viruss': 1556, 'whole': 1557, 'bring': 1558, 'cheap': 1559, 'communal': 1560, 'contextual': 1561, 'contextually': 1562, 'cope': 1563, 'enormous': 1564, 'exhaustion': 1565, 'fabric': 1566, 'form': 1567, 'frontline': 1568, 'insight': 1569, 'proper': 1570, 'qualitatively': 1571, 'reality': 1572, 'realte': 1573, 'reasonability': 1574, 'respond': 1575, 'sleep': 1576, 'social': 1577, 'stress': 1578, 'worker': 1579, 'working_hour': 1580, 'afford': 1581, 'balance': 1582, 'cancellation': 1583, 'collaborative': 1584, 'complexity': 1585, 'construct': 1586, 'consultant': 1587, 'conversation': 1588, 'doctor': 1589, 'dominate': 1590, 'elective': 1591, 'engagement': 1592, 'iteratively': 1593, 'majority': 1594, 'memoe': 1595, 'nchds': 1596, 'nonconsultant': 1597, 'operative': 1598, 'parity': 1599, 'particularly': 1600, 'proceed': 1601, 'rhetoric': 1602, 'rota': 1603, 'senior': 1604, 'service': 1605, 'shift': 1606, 'solitude': 1607, 'surgeon': 1608, 'surgery': 1609, 'surgical': 1610, 'surround': 1611, 'sustainability': 1612, 'tertiary': 1613, 'thematic': 1614, 'tip': 1615, 'trainee': 1616, 'training': 1617, 'variety': 1618, 'wellbeing': 1619, 'workforce': 1620, 'child': 1621, 'classified': 1622, 'clinician': 1623, 'closely': 1624, 'comorbidity': 1625, 'extract': 1626, 'heart_disease': 1627, 'mean_age': 1628, 'noncongenital': 1629, 'outpatient': 1630, 'pediatric': 1631, 'severe_illness': 1632, 'sixtyone': 1633, 'vs': 1634, 'access': 1635, 'associated': 1636, 'course': 1637, 'emergent': 1638, 'enrol': 1639, 'immunological': 1640, 'latinxhispanic': 1641, 'man': 1642, 'purposefully': 1643, 'serial': 1644, 'spanishspeake': 1645, 'uncertainty': 1646, 'underwent': 1647, 'variability': 1648, 'widerange': 1649, 'advocacy': 1650, 'contribution': 1651, 'coordinate': 1652, 'digital': 1653, 'ease': 1654, 'educator': 1655, 'fip': 1656, 'huge': 1657, 'institution': 1658, 'leadership': 1659, 'pharmaceutical': 1660, 'practitioner': 1661, 'produce': 1662, 'valuable': 1663, 'case_report': 1664, 'ejection': 1665, 'establish': 1666, 'etiology': 1667, 'formally': 1668, 'hemodynamic': 1669, 'image': 1670, 'imputability': 1671, 'leave': 1672, 'magnetic': 1673, 'myocarditis': 1674, 'onemonth': 1675, 'preserve': 1676, 'refer': 1677, 'resonance': 1678, 'stable': 1679, 'systemic': 1680, 'toxin': 1681, 'undetermined': 1682, 'ventricular': 1683, 'yearold_man': 1684, 'aggressively': 1685, 'gradually': 1686, 'massive': 1687, 'medical_record': 1688, 'postsymptomatic': 1689, 'threshold': 1690, 'baseline': 1691, 'clarify': 1692, 'ct_image': 1693, 'decline': 1694, 'die': 1695, 'differ': 1696, 'discharge': 1697, 'display': 1698, 'downtrend': 1699, 'fibrosis': 1700, 'firstgeneration': 1701, 'hbdh': 1702, 'higher': 1703, 'import': 1704, 'largely': 1705, 'median_age': 1706, 'retrospective': 1707, 'sharply': 1708, 'combat': 1709, 'corona': 1710, 'densely': 1711, 'disturbance': 1712, 'fight': 1713, 'hype': 1714, 'idea': 1715, 'list': 1716, 'misdiagnosis': 1717, 'nation': 1718, 'olfactory': 1719, 'populate': 1720, 'publication': 1721, 'reference': 1722, 'reverberate': 1723, 'sensation': 1724, 'statement': 1725, 'trend': 1726, 'virusinfected': 1727, 'accurately': 1728, 'circumstance': 1729, 'collective': 1730, 'consequence': 1731, 'context': 1732, 'distant': 1733, 'else': 1734, 'enhancedcontact': 1735, 'fail': 1736, 'harm': 1737, 'job': 1738, 'minority': 1739, 'moral': 1740, 'morally': 1741, 'motivation': 1742, 'noncompliance': 1743, 'obey': 1744, 'precisely': 1745, 'repeatedly': 1746, 'restrict': 1747, 'simply': 1748, 'tackle': 1749, 'tracing': 1750, 'accurate': 1751, 'administration': 1752, 'audience': 1753, 'authorization': 1754, 'comprehend': 1755, 'exclusively': 1756, 'food': 1757, 'formerly': 1758, 'gene': 1759, 'issue': 1760, 'kit': 1761, 'prerequisite': 1762, 'selftesting': 1763, 'state': 1764, 'subsection': 1765, 'activate': 1766, 'cytokine': 1767, 'dampen': 1768, 'hinge': 1769, 'inflammatory': 1770, 'interfere': 1771, 'killer': 1772, 'nk': 1773, 'uncontrolle': 1774, 'break': 1775, 'foundational': 1776, 'functional': 1777, 'intense': 1778, 'lesson': 1779, 'marginal': 1780, 'multipronged': 1781, 'news': 1782, 'peer': 1783, 'preprint': 1784, 'selfisolate': 1785, 'unable': 1786, 'unwilling': 1787, 'website': 1788, 'act': 1789, 'angiogenesis': 1790, 'characterise': 1791, 'consequent': 1792, 'dyspnoea': 1793, 'fourth': 1794, 'microangiopathy': 1795, 'thrombosis': 1796, 'tract': 1797, 'vascular': 1798, 'worsen': 1799, 'granulomatosis': 1800, 'nasal': 1801, 'quick': 1802, 'rituximab': 1803, 'swab': 1804, 'twice': 1805, 'analyse': 1806, 'calculation': 1807, 'considerable': 1808, 'definite': 1809, 'ecological': 1810, 'excess': 1811, 'figure': 1812, 'findings_sugg': 1813, 'historical': 1814, 'proportion': 1815, 'register': 1816, 'relatedexcess': 1817, 'together': 1818, 'anxiety': 1819, 'behaviour': 1820, 'complete': 1821, 'consistently': 1822, 'convenience': 1823, 'disabilitie': 1824, 'healthrelate': 1825, 'impairment': 1826, 'index': 1827, 'invite': 1828, 'loneliness': 1829, 'longitudinal': 1830, 'nonsignificant': 1831, 'put': 1832, 'recontacte': 1833, 'sleep_quality': 1834, 'timepoint': 1835, 'ucla': 1836, 'vi': 1837, 'visual': 1838, 'biophysical': 1839, 'citywide': 1840, 'completely': 1841, 'couple': 1842, 'employment': 1843, 'fact': 1844, 'food_insecurity': 1845, 'function': 1846, 'glmm': 1847, 'hcp': 1848, 'hungry': 1849, 'income': 1850, 'magnify': 1851, 'mixed': 1852, 'modelling': 1853, 'multilevel': 1854, 'negatively': 1855, 'net': 1856, 'partnership': 1857, 'preparedness': 1858, 'price': 1859, 'secure': 1860, 'security': 1861, 'shock': 1862, 'sociopolitical': 1863, 'urban': 1864, 'additionally': 1865, 'adjunct': 1866, 'adolescent': 1867, 'aetiology': 1868, 'affected': 1869, 'afflict': 1870, 'anticoagulation': 1871, 'attend': 1872, 'awareness': 1873, 'children_age': 1874, 'cluster': 1875, 'demographically': 1876, 'heparin': 1877, 'highlighting': 1878, 'immunoglobulin': 1879, 'intravenous': 1880, 'kawasaki': 1881, 'known': 1882, 'latent': 1883, 'mainstay': 1884, 'midapril': 1885, 'milder': 1886, 'mimic': 1887, 'mind': 1888, 'misc': 1889, 'multisystem': 1890, 'parent': 1891, 'persistent': 1892, 'poorly': 1893, 'postinfectious': 1894, 'rash': 1895, 'reactive': 1896, 'second_wave': 1897, 'sequelae': 1898, 'steroid': 1899, 'warfarin': 1900, 'approx': 1901, 'direction': 1902, 'domestic': 1903, 'gdp': 1904, 'gross': 1905, 'lakh': 1906, 'manuscript': 1907, 'prepare': 1908, 'territory': 1909, 'assist': 1910, 'confusion': 1911, 'daily': 1912, 'dataset': 1913, 'deduce': 1914, 'divide': 1915, 'efficient': 1916, 'expand': 1917, 'kaggle': 1918, 'normal': 1919, 'predict': 1920, 'prediction': 1921, 'repository': 1922, 'separately': 1923, 'xray_image': 1924, 'activation': 1925, 'chemokine': 1926, 'connection': 1927, 'directly': 1928, 'downregulation': 1929, 'dysregulation': 1930, 'edema': 1931, 'excessive': 1932, 'indirectly': 1933, 'jak': 1934, 'mankind': 1935, 'pathway': 1936, 'plasma': 1937, 'promote': 1938, 'secretion': 1939, 'signal': 1940, 'storm': 1941, 'air_quality': 1942, 'airport': 1943, 'area': 1944, 'bayesian': 1945, 'connectivity': 1946, 'county': 1947, 'disparity': 1948, 'environmental': 1949, 'exacerbate': 1950, 'hub': 1951, 'identification': 1952, 'locate': 1953, 'mapping': 1954, 'north': 1955, 'poverty': 1956, 'regional': 1957, 'relation': 1958, 'sixtyeight': 1959, 'southeastern': 1960, 'spatial': 1961, 'vulnerability': 1962, 'ameliorate': 1963, 'argument': 1964, 'burden': 1965, 'compound': 1966, 'contextspecific': 1967, 'cooccurrence': 1968, 'create': 1969, 'detrimental': 1970, 'energy': 1971, 'equitable': 1972, 'equity': 1973, 'financing': 1974, 'generic': 1975, 'hein': 1976, 'middleincome': 1977, 'recourse': 1978, 'resourcepoor': 1979, 'synergistic': 1980, 'uneven': 1981, 'capability': 1982, 'computer': 1983, 'ct': 1984, 'deep': 1985, 'optically': 1986, 'preferable': 1987, 'scan': 1988, 'solution': 1989, 'suspect': 1990, 'ultralow': 1991, 'characterized': 1992, 'countylevel': 1993, 'determinant': 1994, 'early_stage': 1995, 'infrastructure': 1996, 'latino': 1997, 'nonwhite': 1998, 'polluted': 1999, 'actively': 2000, 'affiliate': 2001, 'barrier': 2002, 'bolster': 2003, 'childcare': 2004, 'clinic': 2005, 'clinicbase': 2006, 'depressive': 2007, 'descriptive': 2008, 'disadvantaged': 2009, 'discrimination': 2010, 'english': 2011, 'experienced': 2012, 'farmworker': 2013, 'federally': 2014, 'fund': 2015, 'hcwps': 2016, 'helpseeke': 2017, 'highrate': 2018, 'homeless': 2019, 'immigrant': 2020, 'indicator': 2021, 'institutional': 2022, 'loose': 2023, 'mental_health': 2024, 'mentalhealth': 2025, 'occupational': 2026, 'partner': 2027, 'people_live': 2028, 'provider': 2029, 'refugee': 2030, 'safetynet': 2031, 'socially': 2032, 'spanish': 2033, 'specialized': 2034, 'stressor': 2035, 'underprivileged': 2036, 'unfold': 2037, 'working': 2038, 'workinghour': 2039, 'arm': 2040, 'connected': 2041, 'disclose': 2042, 'feel': 2043, 'guarantee': 2044, 'hygiene': 2045, 'impossible': 2046, 'lockdown': 2047, 'mandatory': 2048, 'physically': 2049, 'regularly': 2050, 'sleeve': 2051, 'sneeze': 2052, 'stop': 2053, 'strengthen': 2054, 'structure': 2055, 'transition': 2056, 'unwell': 2057, 'ventilate': 2058, 'wash': 2059, 'audio': 2060, 'code': 2061, 'coding': 2062, 'concurrently': 2063, 'constraint': 2064, 'count': 2065, 'creative': 2066, 'creativity': 2067, 'data_collection': 2068, 'ever': 2069, 'flexibility': 2070, 'funding': 2071, 'gain': 2072, 'hamper': 2073, 'interosctc': 2074, 'leader': 2075, 'leverage': 2076, 'messaging': 2077, 'multisector': 2078, 'offsite': 2079, 'osctcs': 2080, 'prioritize': 2081, 'recording': 2082, 'saturation': 2083, 'struggle': 2084, 'back': 2085, 'bivariable': 2086, 'cafeteria': 2087, 'clean': 2088, 'debre': 2089, 'education': 2090, 'enter': 2091, 'epidata': 2092, 'export': 2093, 'facebook': 2094, 'father': 2095, 'field': 2096, 'highrisk': 2097, 'multiplie': 2098, 'multistage': 2099, 'northeast': 2100, 'precautionary': 2101, 'preteste': 2102, 'properly': 2103, 'reopen': 2104, 'resumption': 2105, 'scant': 2106, 'software': 2107, 'student': 2108, 'television': 2109, 'trigger': 2110, 'version': 2111, 'basketball': 2112, 'briefly': 2113, 'competition': 2114, 'concerned': 2115, 'court': 2116, 'decisionmake': 2117, 'detrain': 2118, 'evidently': 2119, 'extend': 2120, 'fitness': 2121, 'lift': 2122, 'player': 2123, 'postlockdown': 2124, 'postpone': 2125, 'prioritization': 2126, 'program': 2127, 'radical': 2128, 'returntoplay': 2129, 'selftraining': 2130, 'sport': 2131, 'sporting': 2132, 'teamgame': 2133, 'teamscoache': 2134, 'temporarily': 2135, 'topic': 2136, 'trainer': 2137, 'alter': 2138, 'alternate': 2139, 'australian': 2140, 'childbeare': 2141, 'childbearing': 2142, 'constant': 2143, 'deal': 2144, 'disaster': 2145, 'exploratory': 2146, 'forget': 2147, 'hard': 2148, 'impersonal': 2149, 'incomplete': 2150, 'maternity': 2151, 'maximum': 2152, 'minimise': 2153, 'miss': 2154, 'navigate': 2155, 'planning': 2156, 'postpartum': 2157, 'pregnant': 2158, 'provision': 2159, 'recruit': 2160, 'respectful': 2161, 'selfnominated': 2162, 'sense': 2163, 'subtheme': 2164, 'thematically': 2165, 'twentyseven': 2166, 'unique': 2167, 'womancentred': 2168, 'women': 2169, 'adaptation': 2170, 'brief': 2171, 'buffer': 2172, 'deviation': 2173, 'diseaserelate': 2174, 'distress': 2175, 'email': 2176, 'invitation': 2177, 'item': 2178, 'longitudinally': 2179, 'midwestern': 2180, 'moderator': 2181, 'resilience': 2182, 'strength': 2183, 'actionable': 2184, 'agency': 2185, 'applicable': 2186, 'caseload': 2187, 'cent': 2188, 'cover': 2189, 'coverage': 2190, 'credible': 2191, 'depiction': 2192, 'ensure': 2193, 'indian': 2194, 'lowerincome': 2195, 'media': 2196, 'mislead': 2197, 'quote': 2198, 'reader': 2199, 'reflect': 2200, 'reporting': 2201, 'sixtyseven': 2202, 'strategic': 2203, 'suggestion': 2204, 'understanding': 2205, 'urge': 2206, 'airconditioned': 2207, 'camp': 2208, 'casecontrol': 2209, 'driver': 2210, 'enhance': 2211, 'hand': 2212, 'pcrnegative': 2213, 'pcrpositive': 2214, 'responsibility': 2215, 'sanitizer': 2216, 'telephonically': 2217, 'analysiss': 2218, 'anticipate': 2219, 'beverage': 2220, 'bow': 2221, 'canteen': 2222, 'capa': 2223, 'company': 2224, 'corrective': 2225, 'crisis': 2226, 'documentation': 2227, 'factory': 2228, 'industry': 2229, 'instant': 2230, 'labor': 2231, 'largescale': 2232, 'lose': 2233, 'operate': 2234, 'output': 2235, 'outside': 2236, 'politic': 2237, 'polyclinic': 2238, 'preparation': 2239, 'productivity': 2240, 'rpn': 2241, 'shortage': 2242, 'strive': 2243, 'tie': 2244, 'accountability': 2245, 'adoption': 2246, 'ask': 2247, 'behavioural': 2248, 'beneficial': 2249, 'bonding': 2250, 'build': 2251, 'cancer': 2252, 'communitybase': 2253, 'evident': 2254, 'feedback': 2255, 'foster': 2256, 'fully': 2257, 'groupbase': 2258, 'incorporate': 2259, 'ingroup': 2260, 'join': 2261, 'mutual': 2262, 'otherwise': 2263, 'seek': 2264, 'transcript': 2265, 'underscore': 2266, 'walk': 2267, 'walking': 2268, 'coefficient': 2269, 'compose': 2270, 'correlation': 2271, 'fill': 2272, 'food_hygiene': 2273, 'maintenance': 2274, 'marital_status': 2275, 'placing': 2276, 'resident': 2277, 'section': 2278, 'shopping': 2279, 'aged': 2280, 'collegelevel': 2281, 'consist': 2282, 'correct': 2283, 'emirate': 2284, 'marry': 2285, 'martial': 2286, 'oneway': 2287, 'pursue': 2288, 'regression': 2289, 'respondent': 2290, 'single': 2291, 'ttest': 2292, 'uae': 2293, 'unemployed': 2294, 'variance': 2295, 'campaign': 2296, 'covidrelated': 2297, 'federal': 2298, 'inmate': 2299, 'penitentiary': 2300, 'periodic': 2301, 'postinfection': 2302, 'prevalence': 2303, 'reported': 2304, 'reteste': 2305, 'biological': 2306, 'conventional': 2307, 'extent': 2308, 'hot': 2309, 'monitoring': 2310, 'pathology': 2311, 'pooling': 2312, 'pragmatic': 2313, 'pret': 2314, 'recurrent': 2315, 'throughput': 2316, 'unfavorable': 2317, 'article_contain': 2318, 'authorized_user': 2319, 'commercial': 2320, 'elisa': 2321, 'online_version': 2322, 'seroconversion': 2323, 'affordable': 2324, 'agrdt': 2325, 'attractive': 2326, 'expensive': 2327, 'gold': 2328, 'golden': 2329, 'multifacility': 2330, 'nasopharyngeal': 2331, 'nowcheck': 2332, 'nucleic_acid': 2333, 'oropharyngeal': 2334, 'pair': 2335, 'train': 2336, 'western': 2337, 'whorecommende': 2338, 'ajol': 2339, 'deployment': 2340, 'downgrade': 2341, 'feasibility': 2342, 'google_scholar': 2343, 'ineffective': 2344, 'internationally': 2345, 'internet': 2346, 'isothermal': 2347, 'lamp': 2348, 'lmic': 2349, 'loopmediate': 2350, 'lowincome': 2351, 'polymerase': 2352, 'precision': 2353, 'recombinase': 2354, 'rpa': 2355, 'shedder': 2356, 'shielding': 2357, 'underdiagnosis': 2358, 'utility': 2359, 'accessibility': 2360, 'alcoholic': 2361, 'bottle': 2362, 'brandy': 2363, 'carbonate': 2364, 'confound': 2365, 'correctly': 2366, 'deceitful': 2367, 'equal': 2368, 'false': 2369, 'mineral': 2370, 'office': 2371, 'reasonably': 2372, 'red': 2373, 'respective': 2374, 'selfteste': 2375, 'soft': 2376, 'speed': 2377, 'unreliable': 2378, 'vodka': 2379, 'whiskey': 2380, 'administrative': 2381, 'bed': 2382, 'caregiver': 2383, 'cfrs': 2384, 'collinear': 2385, 'cooperation': 2386, 'dense': 2387, 'density': 2388, 'enable': 2389, 'exclude': 2390, 'multivariable': 2391, 'obesity': 2392, 'rural': 2393, 'warn': 2394, 'webbase': 2395, 'correspond': 2396, 'crp': 2397, 'curve': 2398, 'fatality': 2399, 'ldh': 2400, 'predictive': 2401, 'procalcitonin': 2402, 'receiver': 2403, 'endocrine': 2404, 'genitourinary': 2405, 'least_one': 2406, 'metabolic': 2407, 'nutritional': 2408, 'abruption': 2409, 'adjust': 2410, 'art': 2411, 'birth': 2412, 'causality': 2413, 'cesarean': 2414, 'conception': 2415, 'exhaustively': 2416, 'favor': 2417, 'french': 2418, 'gestation': 2419, 'gestational': 2420, 'hemorrhage': 2421, 'icu': 2422, 'obstetrical': 2423, 'older_age': 2424, 'placenta': 2425, 'pmsi': 2426, 'pregnant_woman': 2427, 'primiparity': 2428, 'prospectively': 2429, 'rely': 2430, 'reproductive': 2431, 'smoking': 2432, 'spontaneous': 2433, 'statistical': 2434, 'stillbirth': 2435, 'termination': 2436, 'thromboembolic': 2437, 'venous': 2438, 'wave': 2439, 'years_old': 2440, 'attributable': 2441, 'correlate': 2442, 'episode': 2443, 'evolutionarily': 2444, 'increasingly': 2445, 'interim': 2446, 'lri': 2447, 'lris': 2448, 'resemblance': 2449, 'streptococcus': 2450, 'tendency': 2451, 'anaemia': 2452, 'antitumour': 2453, 'consolidation': 2454, 'define': 2455, 'deteriorate': 2456, 'dosage': 2457, 'hazard_ratio': 2458, 'highsensitivity': 2459, 'hr': 2460, 'intensive_care': 2461, 'largely_unknown': 2462, 'multivariate': 2463, 'patchy': 2464, 'vigorous': 2465, 'chd': 2466, 'continuation': 2467, 'era': 2468, 'hr_ci': 2469, 'match': 2470, 'matching': 2471, 'nonchd': 2472, 'obvious': 2473, 'reduced': 2474, 'reemphasize': 2475, 'retrospectively': 2476, 'statin': 2477, 'user': 2478, 'bear': 2479, 'biochemical': 2480, 'blood_cell': 2481, 'clinically': 2482, 'fece': 2483, 'lymphocyte': 2484, 'neonate': 2485, 'neonates_born': 2486, 'none': 2487, 'perinatal': 2488, 'platelet': 2489, 'radiological': 2490, 'renal': 2491, 'satisfactory': 2492, 'separate': 2493, 'severe_acute': 2494, 'throat': 2495, 'trimester': 2496, 'uncertain': 2497, 'vertical': 2498, 'ambient': 2499, 'aqi': 2500, 'contrarily': 2501, 'detailedly': 2502, 'diurnal': 2503, 'inversely': 2504, 'meteorological': 2505, 'pm': 2506, 'pollutant': 2507, 'positively': 2508, 'slope': 2509, 'tightly': 2510, 'countriesarea': 2511, 'factbook': 2512, 'illustrate': 2513, 'life_expectancy': 2514, 'airway': 2515, 'biomedical': 2516, 'coagulopathy': 2517, 'covd': 2518, 'distinct': 2519, 'endothelial': 2520, 'endotheliopathy': 2521, 'harness': 2522, 'imperative': 2523, 'implicate': 2524, 'thrombotic': 2525, 'traditional': 2526, 'age_group': 2527, 'autoregressive': 2528, 'dynamically': 2529, 'incur': 2530, 'interact': 2531, 'meanwhile': 2532, 'scrape': 2533, 'south_korea': 2534, 'unaffected': 2535, 'critically_ill': 2536, 'effusion': 2537, 'outside_hubei': 2538, 'pleural': 2539, 'prothrombin': 2540, 'province': 2541, 'rna_shedde': 2542, 'sixth': 2543, 'two_group': 2544, 'wenzhou': 2545, 'white_blood': 2546, 'wuhan': 2547, 'abnormal': 2548, 'commonly': 2549, 'crazy': 2550, 'examination': 2551, 'grasp': 2552, 'helpful': 2553, 'historie': 2554, 'imaging': 2555, 'lesion': 2556, 'lobe': 2557, 'monocyte': 2558, 'neutrophil': 2559, 'pave': 2560, 'possess': 2561, 'recapitulate': 2562, 'representative': 2563, 'severecritical': 2564, 'stratify': 2565, 'subpleural': 2566, 'thickening': 2567, 'tightnesspain': 2568, 'aborde': 2569, 'abundant': 2570, 'aki': 2571, 'angconverte': 2572, 'angiotensin': 2573, 'bioavailability': 2574, 'broad': 2575, 'coagulation': 2576, 'deplete': 2577, 'dual': 2578, 'etiological': 2579, 'injury': 2580, 'kallikreinkinin': 2581, 'kidney': 2582, 'kks': 2583, 'minor': 2584, 'nonevident': 2585, 'pathogenesis': 2586, 'physiological': 2587, 'physiology': 2588, 'regulation': 2589, 'replacement': 2590, 'triad': 2591, 'usually': 2592, 'write': 2593, 'core': 2594, 'cox': 2595, 'dementia': 2596, 'hazard': 2597, 'heart': 2598, 'kaplanmei': 2599, 'metropolitan': 2600, 'neurological': 2601, 'poor_prognosis': 2602, 'univariate': 2603, 'almost': 2604, 'branching': 2605, 'intensify': 2606, 'next': 2607, 'package': 2608, 'poisson': 2609, 'reproduction': 2610, 'shut': 2611, 'sis': 2612, 'size': 2613, 'slightly': 2614, 'stata': 2615, 'substantially': 2616, 'timedependent': 2617, 'acceptable': 2618, 'adapt': 2619, 'breast': 2620, 'chinese': 2621, 'convergent': 2622, 'cronbach': 2623, 'depressed': 2624, 'fear_scale': 2625, 'instrument': 2626, 'internal': 2627, 'itemtotal': 2628, 'mainland': 2629, 'overlap': 2630, 'psychometric': 2631, 'psychosocial': 2632, 'reliability': 2633, 'scared': 2634, 'smalltomoderate': 2635, 'standardize': 2636, 'uneasy': 2637, 'validate': 2638, 'carefully': 2639, 'confounder': 2640, 'questionnare': 2641, 'rationale': 2642, 'similarly': 2643, 'undergo': 2644, 'unstable': 2645, 'application': 2646, 'biosecurity': 2647, 'chapter': 2648, 'concentrate': 2649, 'contextualize': 2650, 'continent': 2651, 'custombuilt': 2652, 'echo': 2653, 'escalation': 2654, 'exclusion': 2655, 'exercise': 2656, 'factored': 2657, 'geographic': 2658, 'gis': 2659, 'grander': 2660, 'lurk': 2661, 'march': 2662, 'northern': 2663, 'palpable': 2664, 'passenger': 2665, 'prudent': 2666, 'regime': 2667, 'retravele': 2668, 'ruby_princess': 2669, 'ship': 2670, 'spatially': 2671, 'tasmania': 2672, 'thinking': 2673, 'transpire': 2674, 'triale': 2675, 'unforeseen': 2676, 'unprecedented': 2677, 'watch': 2678, 'business': 2679, 'continuity': 2680, 'force': 2681, 'incident': 2682, 'industrie': 2683, 'innovative': 2684, 'legal': 2685, 'look': 2686, 'manufacture': 2687, 'mixedmodel': 2688, 'organisation': 2689, 'organisational': 2690, 'polish': 2691, 'safely': 2692, 'technical': 2693, 'telephone': 2694, 'administrate': 2695, 'anonymous': 2696, 'compulsive': 2697, 'family_member': 2698, 'kap': 2699, 'nationwide': 2700, 'oradj': 2701, 'randomly': 2702, 'beginning': 2703, 'crossborder': 2704, 'dedicated_hotel': 2705, 'inevitable': 2706, 'mental': 2707, 'mixedeffect': 2708, 'quarantining': 2709, 'sds': 2710, 'selfrate': 2711, 'square': 2712, 'yearold': 2713, 'chronic': 2714, 'complain': 2715, 'dermatomal': 2716, 'dermatome': 2717, 'herpe': 2718, 'ibuprofen': 2719, 'intermittent': 2720, 'lumbar': 2721, 'mg': 2722, 'partially': 2723, 'postherpetic': 2724, 'relieve': 2725, 'resolve': 2726, 'targeted': 2727, 'zoster': 2728, 'citizen': 2729, 'countermeasure': 2730, 'crossreactivity': 2731, 'estimation': 2732, 'extremely': 2733, 'falsepositive': 2734, 'healthy': 2735, 'immunoassay': 2736, 'qrtpcr': 2737, 'rigorous': 2738, 'seroprevalence': 2739, 'amplitude': 2740, 'existence': 2741, 'expansion': 2742, 'extinction': 2743, 'instability': 2744, 'nonlinear': 2745, 'propagation': 2746, 'series': 2747, 'stationary': 2748, 'stochastic': 2749, 'ture': 2750, 'uniqueness': 2751, 'verify': 2752, 'weakly': 2753, 'arise': 2754, 'austrakka': 2755, 'border': 2756, 'branch': 2757, 'clonal': 2758, 'cornerstone': 2759, 'decisive': 2760, 'diversify': 2761, 'dominant': 2762, 'elimination': 2763, 'hotel': 2764, 'importation': 2765, 'incursion': 2766, 'interstate': 2767, 'lineage': 2768, 'locally': 2769, 'metric': 2770, 'per_year': 2771, 'phylodynamic': 2772, 'publicly': 2773, 'putative': 2774, 'recrudescence': 2775, 'sequencing': 2776, 'sharing': 2777, 'submit': 2778, 'supervised': 2779, 'upload': 2780, 'victorian': 2781, 'cabg': 2782, 'cardiothoracic': 2783, 'financial': 2784, 'perioperative': 2785, 'preoperative': 2786, 'preoperatively': 2787, 'send': 2788, 'tt': 2789, 'ward': 2790, 'afteraction': 2791, 'arrive': 2792, 'capital': 2793, 'command': 2794, 'commence': 2795, 'compulsory': 2796, 'free': 2797, 'logistical': 2798, 'mayjuly': 2799, 'operation': 2800, 'port': 2801, 'receipt': 2802, 'repatriate': 2803, 'repatriation': 2804, 'success': 2805, 'tabletop': 2806, 'vanuatu': 2807, 'alcohol': 2808, 'curfew': 2809, 'inactivity': 2810, 'isolated': 2811, 'stigma': 2812, 'suicide': 2813, 'withdrawal': 2814, 'bilateral': 2815, 'elaborate': 2816, 'final': 2817, 'highdose': 2818, 'infusion': 2819, 'opacity': 2820, 'pressor': 2821, 'radiography': 2822, 'septic': 2823, 'sick': 2824, 'specialty': 2825, 'suspicious': 2826, 'vitamin': 2827, 'alive': 2828, 'author': 2829, 'botany': 2830, 'capture': 2831, 'commitment': 2832, 'cultural': 2833, 'dialogic': 2834, 'dystopia': 2835, 'embed': 2836, 'embodied': 2837, 'enquiry': 2838, 'ethic': 2839, 'favour': 2840, 'forfeit': 2841, 'healing': 2842, 'humanist': 2843, 'identity': 2844, 'imply': 2845, 'inseparable': 2846, 'meaning': 2847, 'multivocality': 2848, 'nonbeing': 2849, 'nonetheless': 2850, 'philosophy': 2851, 'photograph': 2852, 'posthuman': 2853, 'project': 2854, 'psychology': 2855, 'push': 2856, 'reconnecte': 2857, 'reflection': 2858, 'regulate': 2859, 'reject': 2860, 'semiotic': 2861, 'specie': 2862, 'technology': 2863, 'text': 2864, 'venture': 2865, 'anosmia': 2866, 'anosmic': 2867, 'answer': 2868, 'call': 2869, 'cleft': 2870, 'conductive': 2871, 'deficit': 2872, 'definition': 2873, 'epithelium': 2874, 'explanation': 2875, 'gateway': 2876, 'hypothesis': 2877, 'immature': 2878, 'invade': 2879, 'localize': 2880, 'neuron': 2881, 'neurotropic': 2882, 'obstruction': 2883, 'outset': 2884, 'parosmia': 2885, 'perhaps': 2886, 'predominance': 2887, 'prolong': 2888, 'prompt': 2889, 'really': 2890, 'regrowth': 2891, 'resolution': 2892, 'selfisolation': 2893, 'sustentacular': 2894, 'tracheal': 2895, 'unprecendente': 2896, 'unresolved': 2897, 'check': 2898, 'discard': 2899, 'donning': 2900, 'fit': 2901, 'pass': 2902, 'respirator': 2903, 'seal': 2904, 'sealcheck': 2905, 'embolism': 2906, 'hematology': 2907, 'heparininduce': 2908, 'leg': 2909, 'od': 2910, 'optical': 2911, 'pe': 2912, 'rivaroxaban': 2913, 'suddenonset': 2914, 'thromboembolism': 2915, 'vaccineinduce': 2916, 'ad_cov': 2917, 'bcell': 2918, 'blood': 2919, 'boost': 2920, 'cll': 2921, 'disfunction': 2922, 'enrollment': 2923, 'heterologous': 2924, 'immunocompetent': 2925, 'irbapprove': 2926, 'leukemia': 2927, 'lymphocytic': 2928, 'naive': 2929, 'oncologist': 2930, 'oversee': 2931, 'post': 2932, 'rbdspecific': 2933, 'seroconvert': 2934, 'seroconverte': 2935, 'spikespecific': 2936, 'tcell': 2937, 'absence': 2938, 'cellulitis': 2939, 'left': 2940, 'mimicking': 2941, 'noninfectious': 2942, 'painful': 2943, 'panniculitis': 2944, 'septal': 2945, 'swell': 2946, 'temporal': 2947, 'vaccinerelate': 2948, 'adjusted': 2949, 'antireceptor': 2950, 'collaborator': 2951, 'second_dose': 2952, 'veteran': 2953, 'antibe': 2954, 'bnt': 2955, 'booster_dose': 2956, 'dialysis': 2957, 'gl': 2958, 'haemodialysis': 2959, 'haemodialyzed': 2960, 'humoral': 2961, 'independently': 2962, 'interventional': 2963, 'monthly': 2964, 'nonresponder': 2965, 'registration': 2966, 'responder': 2967, 'sufficiently': 2968, 'titre': 2969, 'transplantation': 2970, 'uml': 2971, 'waiting': 2972, 'contrary': 2973, 'devise': 2974, 'maverick': 2975, 'multiplex': 2976, 'singlecentere': 2977, 'anasarca': 2978, 'biopsy': 2979, 'gday': 2980, 'mcd': 2981, 'messenger_rna': 2982, 'mrnabase': 2983, 'nephrotic': 2984, 'progressive': 2985, 'proteinuria': 2986, 'remission': 2987, 'comment': 2988, 'contralateral': 2989, 'editorial': 2990, 'hemichorea': 2991, 'hyperkinetic': 2992, 'hypometabolism': 2993, 'immunemediate': 2994, 'movement': 2995, 'shortly': 2996, 'striatum': 2997, 'typically': 2998, 'unrelated': 2999, 'adolescents_age': 3000, 'cis': 3001, 'encounter': 3002, 'exceed': 3003, 'predominant': 3004, 'uc': 3005, 'wide': 3006, 'symptomatology': 3007, 'allergy': 3008, 'already': 3009, 'analgesic': 3010, 'anaphylaxis': 3011, 'detail': 3012, 'facial': 3013, 'headache': 3014, 'herd': 3015, 'joint': 3016, 'kingdom': 3017, 'modified': 3018, 'muscle': 3019, 'networking': 3020, 'paralysis': 3021, 'quite': 3022, 'redness': 3023, 'regressive': 3024, 'syncope': 3025, 'accept': 3026, 'adjusting': 3027, 'certain': 3028, 'enthusiastic': 3029, 'feat': 3030, 'hail': 3031, 'halt': 3032, 'moderaterisk': 3033, 'necessary': 3034, 'nonhispanic': 3035, 'opposition': 3036, 'proxy': 3037, 'raceethnicity': 3038, 'racialethnic': 3039, 'ramification': 3040, 'readiness': 3041, 'skepticism': 3042, 'underserved': 3043, 'absolute': 3044, 'blackwhite': 3045, 'bucket': 3046, 'calendar': 3047, 'category': 3048, 'efficacious': 3049, 'emulate': 3050, 'grant': 3051, 'greater': 3052, 'headtohead': 3053, 'ie': 3054, 'pronounce': 3055, 'wellmatched': 3056, 'continuous': 3057, 'contrast': 3058, 'degenerate': 3059, 'distal': 3060, 'extremity': 3061, 'fiber': 3062, 'glucocorticoid': 3063, 'herein': 3064, 'hydration': 3065, 'infiltration': 3066, 'macrophage': 3067, 'multifocal': 3068, 'myofiber': 3069, 'myopathy': 3070, 'myositis': 3071, 'necrosis': 3072, 'proximal': 3073, 'rhabdomyolysis': 3074, 'scatter': 3075, 'unexpected': 3076, 'erythema': 3077, 'highrisk_group': 3078, 'itching': 3079, 'matchedpair': 3080, 'nearly': 3081, 'nrs': 3082, 'numeric': 3083, 'rating': 3084, 'speak': 3085, 'tend': 3086, 'volunteer': 3087, 'adjustment': 3088, 'causespecific': 3089, 'determined': 3090, 'hsv': 3091, 'hsvpositive': 3092, 'icubsi': 3093, 'increased': 3094, 'secondarily': 3095, 'unitbloodstream': 3096, 'adpribose': 3097, 'ahr': 3098, 'atp': 3099, 'availability': 3100, 'conjunction': 3101, 'culminate': 3102, 'desirable': 3103, 'exploration': 3104, 'homologue': 3105, 'inhibition': 3106, 'mating': 3107, 'mediator': 3108, 'merit': 3109, 'modulator': 3110, 'nad': 3111, 'nadconsume': 3112, 'nuclear': 3113, 'overexpresse': 3114, 'parp': 3115, 'poly': 3116, 'qualify': 3117, 'readily': 3118, 'silent': 3119, 'sirtuin': 3120, 'syncytial': 3121, 'synthesis': 3122, 'terminal': 3123, 'advocate': 3124, 'aggravate': 3125, 'antioxidant': 3126, 'augment': 3127, 'bullet': 3128, 'capable': 3129, 'chronobiotic': 3130, 'circadian': 3131, 'cognitive': 3132, 'counteract': 3133, 'cytoprotective': 3134, 'cytoprotector': 3135, 'delirium': 3136, 'exogenous': 3137, 'impair': 3138, 'importantly': 3139, 'indirect': 3140, 'ischemic': 3141, 'melatonin': 3142, 'neuroprotective': 3143, 'nonischemic': 3144, 'sequel': 3145, 'significance': 3146, 'silver': 3147, 'wideranging': 3148, 'aphasic': 3149, 'brain': 3150, 'brainstem': 3151, 'cardinal': 3152, 'cerebral': 3153, 'cerebrospinal': 3154, 'coma': 3155, 'consciousness': 3156, 'cortical': 3157, 'corticosteroid': 3158, 'csf': 3159, 'devastating': 3160, 'encephalitis': 3161, 'encephalopathy': 3162, 'flair': 3163, 'fluid': 3164, 'fluidattenuated': 3165, 'head': 3166, 'hemiparesis': 3167, 'imbalance': 3168, 'insult': 3169, 'intracranial': 3170, 'intubated': 3171, 'invariable': 3172, 'inversion': 3173, 'ivig': 3174, 'leftside': 3175, 'location': 3176, 'modulation': 3177, 'mri': 3178, 'necrotize': 3179, 'neurotropism': 3180, 'postulate': 3181, 'rightside': 3182, 'subcortical': 3183, 'suggestive': 3184, 'symmetric': 3185, 'thalamic': 3186, 'virusassociate': 3187, 'attenuatedwhole': 3188, 'dnabase': 3189, 'eliminate': 3190, 'example': 3191, 'fatality_rate': 3192, 'fusion': 3193, 'host_cell': 3194, 'intellectual': 3195, 'ivermectin': 3196, 'preclinical': 3197, 'rnadependent': 3198, 'storminduce': 3199, 'subunit': 3200, 'alteration': 3201, 'angiotensinogen': 3202, 'apolipoprotein': 3203, 'biomarker': 3204, 'ceaseless': 3205, 'classifier': 3206, 'classify': 3207, 'differentially': 3208, 'exocytosis': 3209, 'fdaapprove': 3210, 'fibrinogen': 3211, 'labelfree': 3212, 'leukocyte': 3213, 'linear': 3214, 'machine': 3215, 'marker': 3216, 'mlderive': 3217, 'panel': 3218, 'peptidase': 3219, 'plasma_proteome': 3220, 'prognostic': 3221, 'progression': 3222, 'proteomic': 3223, 'seemingly': 3224, 'selinexor': 3225, 'serping': 3226, 'shortlist': 3227, 'silico': 3228, 'tremendous': 3229, 'accessible': 3230, 'beneficence': 3231, 'bodys': 3232, 'cancerous': 3233, 'critically': 3234, 'defense': 3235, 'definitive': 3236, 'documentary': 3237, 'dopaminergic': 3238, 'fluoxetine': 3239, 'hosttargete': 3240, 'molecule': 3241, 'protease': 3242, 'proximity': 3243, 'serotonergic': 3244, 'agonist': 3245, 'dampened': 3246, 'edge': 3247, 'genomics': 3248, 'immunology': 3249, 'modulate': 3250, 'multifaceted': 3251, 'pharmacology': 3252, 'pivotal': 3253, 'position': 3254, 'recognition': 3255, 'safeguard': 3256, 'stimulator': 3257, 'tlr': 3258, 'toll': 3259, 'track': 3260, 'unmet': 3261, 'urgently': 3262, 'bacteria': 3263, 'crscytokine': 3264, 'lysosomal': 3265, 'lysosomotropic': 3266, 'lysosomotropism': 3267, 'messenger': 3268, 'prominent': 3269, 'goldstandard': 3270, 'regimen': 3271, 'subclinical': 3272, 'undertake': 3273, 'uptodate': 3274, 'dietary': 3275, 'epithelial': 3276, 'gut_microbiota': 3277, 'metabolism': 3278, 'metabolite': 3279, 'noteworthy': 3280, 'probiotic': 3281, 'profoundly': 3282, 'alveolar': 3283, 'bloodborne': 3284, 'cellular': 3285, 'downstream': 3286, 'effector': 3287, 'formation': 3288, 'goal': 3289, 'herald': 3290, 'intracellular': 3291, 'kaktmtor': 3292, 'manipulate': 3293, 'mtor': 3294, 'precise': 3295, 'quickly': 3296, 'render': 3297, 'suppressor': 3298, 'thrombi': 3299, 'ultimate': 3300, 'consecutive': 3301, 'ecmo': 3302, 'ecmoafter_group': 3303, 'ecmobefore': 3304, 'extracorporeal': 3305, 'fullrecommende': 3306, 'hypoxemia': 3307, 'oxygenation': 3308, 'percentile': 3309, 'refractory': 3310, 'rescue': 3311, 'rest': 3312, 'threecenter': 3313, 'venovenous': 3314, 'allow': 3315, 'dedicate': 3316, 'disjoint': 3317, 'diverse': 3318, 'modern': 3319, 'principal': 3320, 'rotation': 3321, 'sensing': 3322, 'sensor': 3323, 'varimax': 3324, 'warehouse': 3325, 'alike': 3326, 'conservative': 3327, 'dentistry': 3328, 'faculty': 3329, 'inspection': 3330, 'microbiology': 3331, 'periodontology': 3332, 'posttreatment': 3333, 'pre': 3334, 'summary': 3335, 'avoidant': 3336, 'hardship': 3337, 'nonfrontline': 3338, 'psychiatric_hcw': 3339, 'sustainment': 3340, 'unvaccinated': 3341, 'workrelated': 3342, 'clue': 3343, 'demonstrator': 3344, 'firstly': 3345, 'front': 3346, 'groundlevel': 3347, 'junior': 3348, 'lecture': 3349, 'liner': 3350, 'pertinent': 3351, 'practical': 3352, 'session': 3353, 'stakeholder': 3354, 'teaching': 3355, 'wellplanne': 3356, 'workshop': 3357, 'biosafety': 3358, 'blocking': 3359, 'china': 3360, 'construction': 3361, 'expose': 3362, 'gathering': 3363, 'input': 3364, 'interpret': 3365, 'medical_staff': 3366, 'powerful': 3367, 'prohibit': 3368, 'selfprotection': 3369, 'unconventional': 3370, 'assumption': 3371, 'fuel': 3372, 'generalize': 3373, 'ifr': 3374, 'infer': 3375, 'optimization': 3376, 'programming': 3377, 'prospect': 3378, 'qatar': 3379, 'quadratic': 3380, 'solve': 3381, 'swarm': 3382, 'backing': 3383, 'big': 3384, 'combined': 3385, 'fourclass': 3386, 'gad': 3387, 'hubei': 3388, 'hubei_province': 3389, 'insomnia': 3390, 'intensity': 3391, 'multicenter': 3392, 'perceived_stres': 3393, 'posthoc': 3394, 'psychiatric': 3395, 'statistically': 3396, 'wechatbase': 3397, 'asymmetry': 3398, 'brazilian': 3399, 'casualty': 3400, 'centroid': 3401, 'contemplate': 3402, 'contingent': 3403, 'convert': 3404, 'discrete': 3405, 'dramatically': 3406, 'graph': 3407, 'groupselderly': 3408, 'hw': 3409, 'indigenous': 3410, 'iq': 3411, 'map': 3412, 'quilombola': 3413, 'satscan': 3414, 'schedule': 3415, 'sweep': 3416, 'vast': 3417, 'vr': 3418, 'window': 3419, 'cg': 3420, 'colleague': 3421, 'contingency': 3422, 'laparoscopic': 3423, 'pcg': 3424, 'prevail': 3425, 'wait': 3426, 'adhere': 3427, 'competency': 3428, 'reportedly': 3429, 'residence': 3430, 'saudi_arabia': 3431, 'strictly': 3432, 'causative': 3433, 'ebb': 3434, 'educate': 3435, 'flow': 3436, 'inequality': 3437, 'lie': 3438, 'privileged': 3439, 'proliferation': 3440, 'ravage': 3441, 'wealthy': 3442, 'coexist': 3443, 'heterogeneity': 3444, 'nonpregnant': 3445, 'randomeffect': 3446, 'reviewer': 3447, 'statistic': 3448, 'accompany': 3449, 'bad': 3450, 'bilaterally': 3451, 'bronchiectasis': 3452, 'contraction': 3453, 'diffuse': 3454, 'fibrous': 3455, 'ggo': 3456, 'ground': 3457, 'halo_sign': 3458, 'lobular': 3459, 'parallel': 3460, 'pleura': 3461, 'pure': 3462, 'stone': 3463, 'streak': 3464, 'turn': 3465, 'unilateral': 3466, 'ago': 3467, 'irradiation': 3468, 'radiation': 3469, 'radiograph': 3470, 'recall': 3471, 'shadow': 3472, 'yearold_woman': 3473, 'assistance': 3474, 'enough': 3475, 'plot': 3476, 'terrifying': 3477, 'thing': 3478, 'turning': 3479, 'atanganabaleanu': 3480, 'banach': 3481, 'caputo': 3482, 'equilibrium': 3483, 'fractional': 3484, 'lerayschauder': 3485, 'maximize': 3486, 'operator': 3487, 'susceptible': 3488, 'theorem': 3489, 'forward': 3490, 'preliminary': 3491, 'upregulation': 3492, 'annual': 3493, 'beck': 3494, 'ideation': 3495, 'isi': 3496, 'living': 3497, 'noninfecte': 3498, 'panic': 3499, 'suicidal': 3500, 'surveybase': 3501, 'urgent': 3502, 'binary': 3503, 'chisquare': 3504, 'fisher': 3505, 'hrqol': 3506, 'medical_science': 3507, 'motivational': 3508, 'multinomial': 3509, 'noticeable': 3510, 'partial': 3511, 'preemptive': 3512, 'tum': 3513, 'unsignificant': 3514, 'win': 3515, 'eightythree': 3516, 'neighborhood': 3517, 'neighbourhood': 3518, 'activator': 3519, 'discontinue': 3520, 'dysregulate': 3521, 'gata': 3522, 'intrinsic': 3523, 'mediate': 3524, 'medicinal': 3525, 'stat': 3526, 'tbet': 3527, 'thelper': 3528, 'transducer': 3529, 'ambroxol': 3530, 'autopsy': 3531, 'drainage': 3532, 'expectorant': 3533, 'grade': 3534, 'noncritically': 3535, 'proneposition': 3536, 'viscous': 3537, 'warning': 3538, 'nonsynonymous': 3539, 'officially': 3540, 'originate': 3541, 'phylogenetic': 3542, 'recur': 3543, 'relaxation': 3544, 'romanian': 3545, 'sixtytwo': 3546, 'suceava': 3547, 'tether': 3548, 'arterial': 3549, 'bedside': 3550, 'doppler': 3551, 'elevated': 3552, 'initiation': 3553, 'intrarenal': 3554, 'noninvasive': 3555, 'protocolized': 3556, 'reproducible': 3557, 'resistive': 3558, 'rri': 3559, 'rrt': 3560, 'ultrasonography': 3561, 'ultrasound': 3562, 'angiography': 3563, 'arouse': 3564, 'bifurcation': 3565, 'color': 3566, 'dilatation': 3567, 'distinguished': 3568, 'iliac': 3569, 'informed': 3570, 'limb': 3571, 'saphenous': 3572, 'superficial': 3573, 'typical': 3574, 'vein': 3575, 'warmth': 3576, 'antidiabetic': 3577, 'cochrane': 3578, 'exaggerated': 3579, 'hostdirecte': 3580, 'insulin': 3581, 'keyword': 3582, 'metformin': 3583, 'nondiabetic': 3584, 'pubmedmedline': 3585, 'anonymously': 3586, 'arabic': 3587, 'constantly': 3588, 'excel': 3589, 'favorable': 3590, 'garlic': 3591, 'ginger': 3592, 'handshake': 3593, 'honey': 3594, 'language': 3595, 'misconception': 3596, 'nonmedical': 3597, 'prefer': 3598, 'purely': 3599, 'segment': 3600, 'sheet': 3601, 'abortion': 3602, 'advisable': 3603, 'amniotic': 3604, 'apgar': 3605, 'fetus': 3606, 'influential': 3607, 'labour': 3608, 'neonatal': 3609, 'placental': 3610, 'umbilical': 3611, 'vaginal': 3612, 'amplify': 3613, 'bunch': 3614, 'ddimer': 3615, 'fortunately': 3616, 'standardized': 3617, 'announce': 3618, 'apprehension': 3619, 'confine': 3620, 'decree': 3621, 'endure': 3622, 'imposition': 3623, 'lengthening': 3624, 'organize': 3625, 'paraguayan': 3626, 'presidential': 3627, 'preventing': 3628, 'probable': 3629, 'selfquarantine': 3630, 'threaten': 3631, 'accommodate': 3632, 'custom': 3633, 'liability': 3634, 'manufacturer': 3635, 'municipality': 3636, 'overwhelming': 3637, 'pivot': 3638, 'print': 3639, 'shield': 3640, 'shortrun': 3641, 'streamline': 3642, 'surge': 3643, 'traditionally': 3644, 'ventilator': 3645, 'vet': 3646, 'waif': 3647, 'assisting': 3648, 'behavioral': 3649, 'belief': 3650, 'colaizzis': 3651, 'emotion': 3652, 'glycemic': 3653, 'optimum': 3654, 'remove': 3655, 'highquality': 3656, 'pestilence': 3657, 'tcmintegrate': 3658, 'aggressive': 3659, 'cld_rr': 3660, 'comorbidity_aor': 3661, 'condense': 3662, 'coronary_heart': 3663, 'dm': 3664, 'espouse': 3665, 'htn': 3666, 'intercede': 3667, 'malignant': 3668, 'notcure': 3669, 'reviewing': 3670, 'rr': 3671, 'smokeless': 3672, 'tobacco': 3673, 'battle': 3674, 'comfort': 3675, 'friend': 3676, 'frontline_nurse': 3677, 'influencing': 3678, 'inventory': 3679, 'posttraumatic': 3680, 'ptg': 3681, 'ptgi': 3682, 'sectional': 3683, 'title': 3684, 'univariable': 3685, 'costly': 3686, 'enforce': 3687, 'exponential': 3688, 'phsm': 3689, 'sporadic': 3690, 'subnational': 3691, 'successive': 3692, 'tailor': 3693, 'uncontrolled': 3694, 'affiliated': 3695, 'collage': 3696, 'gradient': 3697, 'hrct': 3698, 'scope': 3699, 'transformation': 3700, 'conflict': 3701, 'ethnic': 3702, 'harmony': 3703, 'middle': 3704, 'mixedsex': 3705, 'nondirectional': 3706, 'political': 3707, 'relay': 3708, 'sd': 3709, 'spend': 3710, 'stagnant': 3711, 'synchronise': 3712, 'teenager': 3713, 'timeline': 3714, 'virtual': 3715, 'addis_ababa': 3716, 'bank': 3717, 'bus': 3718, 'crowded': 3719, 'governmentowne': 3720, 'grocery': 3721, 'knowledgeable': 3722, 'livelihood': 3723, 'multi': 3724, 'occupation': 3725, 'orphanage': 3726, 'pharmacy': 3727, 'prison': 3728, 'religion': 3729, 'slum': 3730, 'station': 3731, 'trade': 3732, 'transmittable': 3733, 'transport': 3734, 'accelerate': 3735, 'align': 3736, 'amenable': 3737, 'automation': 3738, 'bioanalytical': 3739, 'bottleneck': 3740, 'cloudbased': 3741, 'cloudnative': 3742, 'flexible': 3743, 'frontier': 3744, 'hardware': 3745, 'impart': 3746, 'liquidhandle': 3747, 'modular': 3748, 'ready': 3749, 'remote': 3750, 'remotely': 3751, 'shine': 3752, 'spotlight': 3753, 'switching': 3754, 'tactically': 3755, 'workflow': 3756, 'addiction': 3757, 'addictive': 3758, 'anonymize': 3759, 'dass': 3760, 'fiftyfive': 3761, 'iat': 3762, 'objectively': 3763, 'problematic': 3764, 'recreational': 3765, 'stayup': 3766, 'actual': 3767, 'athlete': 3768, 'coach': 3769, 'contagiousness': 3770, 'game': 3771, 'instructor': 3772, 'agenda': 3773, 'opinion': 3774, 'avascular': 3775, 'avn': 3776, 'femoral': 3777, 'lifesave': 3778, 'resurgence': 3779, 'sequalae': 3780, 'anesthesiology': 3781, 'completion': 3782, 'crossover': 3783, 'enclosure': 3784, 'endotracheal': 3785, 'familiar': 3786, 'fourminute': 3787, 'intubation': 3788, 'lip': 3789, 'placement': 3790, 'poststudy': 3791, 'predetermined': 3792, 'proceduralist': 3793, 'simulated': 3794, 'uncomplicate': 3795, 'video': 3796, 'car': 3797, 'care_worker': 3798, 'contamination': 3799, 'fiji': 3800, 'fijian': 3801, 'glove': 3802, 'island': 3803, 'land': 3804, 'litter': 3805, 'mall': 3806, 'market': 3807, 'measurement': 3808, 'municipal': 3809, 'notice': 3810, 'ocean': 3811, 'park': 3812, 'plastic': 3813, 'police': 3814, 'posing': 3815, 'ppe': 3816, 'remember': 3817, 'road': 3818, 'sadly': 3819, 'sanitation': 3820, 'sdgs': 3821, 'soldier': 3822, 'street': 3823, 'town': 3824, 'vesivesi': 3825, 'waste': 3826, 'discover': 3827, 'donor': 3828, 'identifier': 3829, 'ind': 3830, 'nct': 3831, 'openlabel': 3832, 'outcomes': 3833, 'singlearm': 3834, 'transfusion': 3835, 'transient': 3836, 'dermatology': 3837, 'emphasize': 3838, 'heating': 3839, 'scabie': 3840, 'shower': 3841, 'utilization': 3842, 'datacollecte': 3843, 'file': 3844, 'hospital_stay': 3845, 'mottling': 3846, 'premature': 3847, 'researchermade': 3848, 'temporary': 3849, 'underlie': 3850, 'circulation': 3851, 'enteric': 3852, 'fecaloral': 3853, 'gastroenteritis': 3854, 'intestine': 3855, 'magnitude': 3856, 'microorganism': 3857, 'misuse': 3858, 'proton_pump': 3859, 'carbon': 3860, 'dioxide': 3861, 'dp': 3862, 'endexpiratory': 3863, 'inspire': 3864, 'invasive': 3865, 'mechanic': 3866, 'mechanically': 3867, 'oxygen': 3868, 'pco': 3869, 'peep': 3870, 'plateau': 3871, 'poor_outcome': 3872, 'pplat': 3873, 'unsuccessful': 3874, 'usw': 3875, 'usw_group': 3876, 'wean': 3877, 'weaning': 3878, 'icu_admission': 3879, 'intubate': 3880, 'outcome_measure': 3881, 'overwhelm': 3882, 'quaternary': 3883, 'sixtysix': 3884, 'soon': 3885, 'agerelate': 3886, 'battery': 3887, 'fold': 3888, 'justify': 3889, 'lifestyle': 3890, 'lockdowninduced': 3891, 'personality': 3892, 'populationbase': 3893, 'cumulative': 3894, 'cvc': 3895, 'dialysisrelate': 3896, 'hemodialysis': 3897, 'deleterious': 3898, 'hierarchical': 3899, 'israeli': 3900, 'mastery': 3901, 'optimism': 3902, 'policymaker': 3903, 'renew': 3904, 'resourcesrisk': 3905, 'seeker': 3906, 'snowball': 3907, 'sustainable': 3908, 'unemployment': 3909, 'wake': 3910, 'yearsold': 3911, 'centralsouthern': 3912, 'filtration': 3913, 'forestbased': 3914, 'geographical': 3915, 'glomerular': 3916, 'homogenous': 3917, 'italian': 3918, 'machine_learne': 3919, 'mlmin': 3920, 'predispose': 3921, 'random': 3922, 'rd': 3923, 'twofold': 3924, 'unselected': 3925, 'advancement': 3926, 'case_fatality': 3927, 'cfr': 3928, 'nonfatal': 3929, 'retiree': 3930, 'coincide': 3931, 'epds': 3932, 'funder': 3933, 'maker': 3934, 'mandate': 3935, 'postnatal': 3936, 'seventythree': 3937, 'sixtyfour': 3938, 'utilise': 3939, 'accelerator': 3940, 'crowding': 3941, 'dwelling': 3942, 'hand_washing': 3943, 'intrahousehold': 3944, 'inverse': 3945, 'regular': 3946, 'singleroom': 3947, 'toilet': 3948, 'arrange': 3949, 'contributor': 3950, 'prenatal': 3951, 'resiliency': 3952, 'susceptibility': 3953, 'traumatic': 3954, 'deserve': 3955, 'interconnect': 3956, 'mining': 3957, 'prediabetic': 3958, 'simultaneously': 3959, 'ckd': 3960, 'cld': 3961, 'commodity': 3962, 'deterioration': 3963, 'exacerbation': 3964, 'underlying': 3965, 'advanced': 3966, 'bias': 3967, 'fortytwo': 3968, 'library': 3969, 'medlinepubmed': 3970, 'metaanalyse': 3971, 'por': 3972, 'smoke': 3973, 'smoker': 3974, 'aprilmay': 3975, 'cam': 3976, 'erythrocyte': 3977, 'esr': 3978, 'glycate': 3979, 'glycated': 3980, 'hba': 3981, 'hemoglobin': 3982, 'hscrp': 3983, 'mucormycosis': 3984, 'newonset': 3985, 'odds_ratio': 3986, 'predisposing': 3987, 'proprietary': 3988, 'sedimentation': 3989, 'supplementation': 3990, 'surprise': 3991, 'zinc': 3992, 'benign': 3993, 'consultation': 3994, 'contactfree': 3995, 'judge': 3996, 'oncological': 3997, 'phone': 3998, 'preference': 3999, 'prostate': 4000, 'suitability': 4001, 'telemedical': 4002, 'telemedicine': 4003, 'urological': 4004, 'urology': 4005, 'videoconference': 4006, 'willingness': 4007, 'wish': 4008, 'yr': 4009, 'blood_pressure': 4010, 'cholesterol': 4011, 'deprivation': 4012, 'expiratory': 4013, 'fev': 4014, 'haemoglobin': 4015, 'hdl': 4016, 'highdensity': 4017, 'male_sex': 4018, 'modifiable': 4019, 'nonmodifiable': 4020, 'pace': 4021, 'per_sd': 4022, 'somewhat': 4023, 'townsend': 4024, 'apr': 4025, 'arrhythmia': 4026, 'hypersensitive': 4027, 'neutrophilia': 4028, 'ngml': 4029, 'pgml': 4030, 'scarce': 4031, 'troponin': 4032, 'cinahl': 4033, 'crd': 4034, 'lacking': 4035, 'logit': 4036, 'metaregression': 4037, 'profession': 4038, 'ptsd': 4039, 'ptsd_prevalence': 4040, 'systematic': 4041, 'tweetable': 4042, 'wellbee': 4043, 'advanced_age': 4044, 'hospitalise': 4045, 'northwick': 4046, 'phosphatase': 4047, 'stratification': 4048, 'complicated': 4049, 'liver_injury': 4050, 'alkp': 4051, 'allocate': 4052, 'alt': 4053, 'ast': 4054, 'chance': 4055, 'cl': 4056, 'rank': 4057, 'aclf': 4058, 'acuteonchronic': 4059, 'cirrhosis': 4060, 'consortium': 4061, 'easlclif': 4062, 'hispaniclatino': 4063, 'precipitate': 4064, 'albumin': 4065, 'bmi': 4066, 'graphic': 4067, 'hospitalisation': 4068, 'ischaemic': 4069, 'satellite': 4070, 'systolic': 4071, 'module': 4072, 'somatization': 4073, 'decease': 4074, 'deceased': 4075, 'mmoll': 4076, 'unidentified': 4077, 'identifi': 4078, 'pneumopathy': 4079, 'prospero': 4080, 'vasopressor': 4081, 'creatinine': 4082, 'myocardial': 4083, 'retrieve': 4084, 'troponin_level': 4085, 'anamnestic': 4086, 'antimycotic': 4087, 'deformity': 4088, 'fungal': 4089, 'liposomal': 4090, 'lowmiddle': 4091, 'mucorale': 4092, 'opportunistic': 4093, 'paraclinical': 4094, 'proactive': 4095, 'thoroughly': 4096, 'bowel': 4097, 'ibd': 4098, 'indiscriminate': 4099, 'notable': 4100, 'cutoff': 4101, 'feasible': 4102, 'mcha_ds': 4103, 'scoring': 4104, 'vasc_score': 4105, 'calcium': 4106, 'collected': 4107, 'discriminate': 4108, 'betweengroup': 4109, 'elevation': 4110, 'favipiravir': 4111, 'nonelevation': 4112, 'twentynine': 4113, 'unexplained': 4114, 'uric_acid': 4115, 'incidental': 4116, 'ldct': 4117, 'lowdose': 4118, 'parenchymal': 4119, 'predominantly': 4120, 'rhinitis': 4121, 'agetailore': 4122, 'inquire': 4123, 'psqi': 4124, 'congestive': 4125, 'enclose': 4126, 'formula': 4127, 'graphical': 4128, 'graphically': 4129, 'lasso': 4130, 'leoss': 4131, 'multifactorial': 4132, 'nomogram': 4133, 'registry': 4134, 'representation': 4135, 'sofa': 4136, 'subpopulation': 4137, 'copdcovid': 4138, 'dyslipidemia': 4139, 'accounting': 4140, 'covariate': 4141, 'dosedependent': 4142, 'favourable': 4143, 'height': 4144, 'intake': 4145, 'linkage': 4146, 'mutually': 4147, 'noncommunicable': 4148, 'synonymous': 4149, 'unhealthy': 4150, 'antiretroviral': 4151, 'hivnegative': 4152, 'immunisation': 4153, 'increased_odd': 4154, 'individuallevel': 4155, 'malignancy': 4156, 'prioritise': 4157, 'supplementary': 4158, 'suppression': 4159, 'translation': 4160, 'arteriovenous': 4161, 'catheterization': 4162, 'noninfected': 4163, 'nosocomial': 4164, 'stream': 4165, 'urinary': 4166, 'bcg': 4167, 'covidt': 4168, 'hematinic': 4169, 'paediatric': 4170, 'predesigne': 4171, 'privately': 4172, 'proforma': 4173, 'succumb': 4174, 'blocker': 4175, 'cvdrf': 4176, 'hoc': 4177, 'icus': 4178, 'warranting': 4179, 'binary_logistic': 4180, 'comorbid': 4181, 'thirtynine': 4182, 'unmarried': 4183, 'bpsd': 4184, 'abort': 4185, 'arrest': 4186, 'atrial': 4187, 'composite': 4188, 'consecutively': 4189, 'decompensate': 4190, 'eightytwo': 4191, 'hyperlipidemia': 4192, 'infarction': 4193, 'inhospital': 4194, 'mace': 4195, 'pericardial': 4196, 'stroke': 4197, 'axis': 4198, 'cardiometabolic': 4199, 'compile': 4200, 'concomitant': 4201, 'endogenous': 4202, 'gc_excess': 4203, 'gcassociate': 4204, 'cart': 4205, 'centerspecific': 4206, 'conversely': 4207, 'exert': 4208, 'explanatory': 4209, 'fix': 4210, 'heterogeneous': 4211, 'nephrology': 4212, 'partition': 4213, 'peritoneal': 4214, 'recursive': 4215, 'transplant': 4216, 'tree': 4217, 'edo': 4218, 'save': 4219, 'cvrf': 4220, 'cvrfsdiabete': 4221, 'migrant_worker': 4222, 'south': 4223, 'southeast': 4224, 'sustainably': 4225, 'systemlevel': 4226, 'unmask': 4227, 'welfare': 4228, 'backward': 4229, 'closedcircuit': 4230, 'consequently': 4231, 'gym': 4232, 'taekwondo_gym': 4233, 'abstraction': 4234, 'forecasting': 4235, 'hypoxemic': 4236, 'nonhospitalized': 4237, 'opioid': 4238, 'overthecounter': 4239, 'creation': 4240, 'gml': 4241, 'innovation': 4242, 'scholar': 4243, 'viral_shedding': 4244, 'iiib': 4245, 'insulintreated': 4246, 'likewise': 4247, 'atrisk': 4248, 'blackbox': 4249, 'dependency': 4250, 'drop': 4251, 'ethnically': 4252, 'shapley': 4253, 'testdate': 4254, 'moll': 4255, 'rampant': 4256, 'total_bilirubin': 4257, 'depress': 4258, 'iesr': 4259, 'married': 4260, 'nondepresse': 4261, 'nondepression': 4262, 'ptss': 4263, 'scalerevise': 4264, 'zung': 4265, 'aforementioned': 4266, 'aucroc': 4267, 'brazil': 4268, 'catalog': 4269, 'developed': 4270, 'disarray': 4271, 'excellent': 4272, 'inequity': 4273, 'interdependence': 4274, 'motivate': 4275, 'nonlaboratorial': 4276, 'outperforming': 4277, 'rich': 4278, 'sivepgripe': 4279, 'societal': 4280, 'sociogeographic': 4281, 'acknowledge': 4282, 'acuity': 4283, 'causal': 4284, 'coherence': 4285, 'crvo': 4286, 'eye': 4287, 'finger': 4288, 'glaucoma': 4289, 'heighten': 4290, 'hrvo': 4291, 'hypercoagulable': 4292, 'nonconsecutive': 4293, 'ocular': 4294, 'ophthalmic': 4295, 'retinal': 4296, 'thin': 4297, 'tomography': 4298, 'asthma': 4299, 'asthmatic': 4300, 'bronchitis': 4301, 'flare': 4302, 'moderatesevere': 4303, 'phenotype': 4304, 'wheezing': 4305, 'congregate': 4306, 'distinction': 4307, 'incenter': 4308, 'residing': 4309, 'spouse': 4310, 'young_adult': 4311, 'alspac': 4312, 'disadvantage': 4313, 'disordered_eate': 4314, 'eat': 4315, 'familyfriend': 4316, 'green': 4317, 'hobbie': 4318, 'metal': 4319, 'responsive': 4320, 'selfharm': 4321, 'talk': 4322, 'visit': 4323, 'alanine': 4324, 'appetite': 4325, 'aspartate': 4326, 'clearance': 4327, 'infective': 4328, 'kinasemb': 4329, 'supplemental': 4330, 'angina': 4331, 'bridge': 4332, 'heterosexual': 4333, 'orientation': 4334, 'sexual': 4335, 'sexual_minority': 4336, 'casepatient': 4337, 'conditional': 4338, 'controlpatient': 4339, 'decedent': 4340, 'insurance': 4341, 'morbid': 4342, 'raceethnic': 4343, 'residential': 4344, 'threefold': 4345, 'dehydrogenase': 4346, 'hypothyroidism': 4347, 'lactic': 4348, 'mgdl': 4349, 'triglyceride': 4350, 'enrich': 4351, 'habit': 4352, 'liferelate': 4353, 'paired': 4354, 'workrelate': 4355, 'cfs': 4356, 'hypothesize': 4357, 'manually': 4358, 'approval': 4359, 'demography': 4360, 'fall': 4361, 'peerreviewed': 4362, 'recruitment': 4363, 'evaluated': 4364, 'portuguese': 4365, 'tachycardia': 4366, 'basal': 4367, 'chhm': 4368, 'hospitale': 4369, 'icudeath': 4370, 'individualize': 4371, 'individualized': 4372, 'lowrisk': 4373, 'mediumrisk': 4374, 'rtqpcr': 4375, 'unequal': 4376, 'antecedent': 4377, 'closure': 4378, 'lipid': 4379, 'amazon': 4380, 'overload': 4381, 'seropositivity': 4382, 'crf': 4383, 'fortythree': 4384, 'rtpcrconfirme': 4385, 'unacceptably': 4386, 'adequately': 4387, 'adrop': 4388, 'allocation': 4389, 'calibration': 4390, 'coronary': 4391, 'discriminatory': 4392, 'disposition': 4393, 'impute': 4394, 'japanese': 4395, 'multiply': 4396, 'rem': 4397, 'umin': 4398, 'caffeine': 4399, 'chronotype': 4400, 'collegiate': 4401, 'disrupter': 4402, 'evening': 4403, 'night': 4404, 'nocturnal': 4405, 'normality': 4406, 'pittsburg': 4407, 'webbased': 4408, 'abuse': 4409, 'citizenry': 4410, 'fastspreade': 4411, 'lockdownsit': 4412, 'ncdrelate': 4413, 'sedentary': 4414, 'substance': 4415, 'alone': 4416, 'autonomous': 4417, 'geography': 4418, 'homeslongterm': 4419, 'intercept': 4420, 'lombardy': 4421, 'mannwhitney': 4422, 'nest': 4423, 'nursing_home': 4424, 'nursing_homes': 4425, 'organizational': 4426, 'spearman': 4427, 'deltaminor': 4428, 'propensityscore': 4429, 'rtcs': 4430, 'virulence': 4431, 'virulent': 4432, 'malaise': 4433, 'nh_resident': 4434, 'parkinson': 4435, 'prognostication': 4436, 'distinctively': 4437, 'hypoxia': 4438, 'preferentially': 4439, 'replicate': 4440, 'sexspecific': 4441, 'sexstratifie': 4442, 'shape': 4443, 'cor_ci': 4444, 'hopeless': 4445, 'lonely': 4446, 'selfreport': 4447, 'atherosclerosis': 4448, 'cardioembolic': 4449, 'cry': 4450, 'cryptogenic': 4451, 'largeartery': 4452, 'ptrend': 4453, 'suffering': 4454, 'census': 4455, 'district': 4456, 'districtlevel': 4457, 'entire': 4458, 'handwash': 4459, 'literacy': 4460, 'nepal': 4461, 'overcrowded': 4462, 'injuryrelate': 4463, 'pct': 4464, 'percutaneous': 4465, 'cri': 4466, 'mulhouse': 4467, 'escalate': 4468, 'glucose': 4469, 'impaired': 4470, 'intensively': 4471, 'lipoprotein': 4472, 'nitrogen': 4473, 'trait': 4474, 'agps': 4475, 'evaluable': 4476, 'floor': 4477, 'medicalsurgical': 4478, 'patientcare': 4479, 'selfidentifie': 4480, 'ami': 4481, 'chronologically': 4482, 'grace': 4483, 'killipkimball': 4484, 'prognose': 4485, 'stsegment': 4486, 'antiseizure': 4487, 'asm': 4488, 'bdiii': 4489, 'chronically': 4490, 'dramatic': 4491, 'epilepsy': 4492, 'epilepsyrelate': 4493, 'epileptic': 4494, 'neglect': 4495, 'pwe': 4496, 'pwoe': 4497, 'seizure': 4498, 'sorely': 4499, 'nonurban': 4500, 'obese': 4501, 'periurban': 4502, 'criminological': 4503, 'curb': 4504, 'danger': 4505, 'intervene': 4506, 'profound': 4507, 'prosper': 4508, 'restrictive': 4509, 'tension': 4510, 'trap': 4511, 'violence': 4512, 'ascertain': 4513, 'categorical': 4514, 'dead': 4515, 'pao_fio': 4516, 'ck': 4517, 'methodology': 4518, 'singlecenter': 4519, 'ul': 4520, 'aggregate': 4521, 'diabeteskidney': 4522, 'inoutpatient': 4523, 'nhaa': 4524, 'nhw': 4525, 'overrepresente': 4526, 'se': 4527, 'unmatched': 4528}\n"
          ]
        }
      ],
      "source": [
        "print(id2word.token2id)"
      ]
    },
    {
      "cell_type": "code",
      "execution_count": null,
      "metadata": {
        "id": "SYSPj1jkRsFJ"
      },
      "outputs": [],
      "source": [
        "# Creación del Corpus: Término Frecuencia del documento\n",
        "corpus = [id2word.doc2bow(text) for text in abstracts_data]"
      ]
    },
    {
      "cell_type": "code",
      "execution_count": null,
      "metadata": {
        "id": "KOBVEuxlRsFK"
      },
      "outputs": [],
      "source": [
        "# Construcción del modelo LDA \n",
        "lda_model = gensim.models.ldamodel.LdaModel(corpus=corpus,\n",
        "                                           id2word=id2word,\n",
        "                                           num_topics=2, \n",
        "                                           random_state=100,\n",
        "                                           update_every=1,\n",
        "                                           chunksize=10,\n",
        "                                           passes=10,\n",
        "                                           alpha='symmetric',\n",
        "                                           iterations=100,\n",
        "                                           per_word_topics=True)"
      ]
    },
    {
      "cell_type": "code",
      "execution_count": null,
      "metadata": {
        "id": "9hWa7pjuRsFK",
        "colab": {
          "base_uri": "https://localhost:8080/"
        },
        "outputId": "145a1151-1356-4159-cd67-85d5f24690d7"
      },
      "outputs": [
        {
          "output_type": "stream",
          "name": "stdout",
          "text": [
            "[(0, '0.040*\"covid\" + 0.039*\"patient\" + 0.016*\"risk_factor\" + 0.014*\"high\" + 0.013*\"mortality\" + 0.013*\"study\" + 0.012*\"associate\" + 0.010*\"include\" + 0.009*\"risk\" + 0.009*\"disease\"'), (1, '0.016*\"pandemic\" + 0.010*\"health\" + 0.009*\"covid\" + 0.008*\"depression\" + 0.007*\"measure\" + 0.007*\"anxiety\" + 0.006*\"risk\" + 0.005*\"increase\" + 0.005*\"change\" + 0.005*\"virus\"')]\n"
          ]
        }
      ],
      "source": [
        "print(lda_model.print_topics())"
      ]
    },
    {
      "cell_type": "code",
      "execution_count": null,
      "metadata": {
        "id": "qQIeeQHJRsFK"
      },
      "outputs": [],
      "source": [
        "import matplotlib.pyplot as plt"
      ]
    },
    {
      "cell_type": "code",
      "execution_count": null,
      "metadata": {
        "id": "SoBGvC1NRsFL",
        "colab": {
          "base_uri": "https://localhost:8080/",
          "height": 264
        },
        "outputId": "88fb0317-1aa4-4815-b1c7-5592601156ce"
      },
      "outputs": [
        {
          "output_type": "display_data",
          "data": {
            "text/plain": [
              "<Figure size 432x288 with 1 Axes>"
            ],
            "image/png": "[encoded data removed]"
          },
          "metadata": {
            "needs_background": "light"
          }
        }
      ],
      "source": [
        "import matplotlib.colors as mcolors\n",
        "\n",
        "cols = [color for name, color in mcolors.TABLEAU_COLORS.items()]\n",
        "\n",
        "cloud = WordCloud(stopwords=stop_words,\n",
        "                  background_color='white',\n",
        "                  width=2500,\n",
        "                  height=1800,\n",
        "                  max_words=20,\n",
        "                  colormap='tab20',\n",
        "                  color_func=lambda *args, **kwargs: cols[i],\n",
        "                  prefer_horizontal=2.0)\n",
        "\n",
        "topics = lda_model.show_topics(formatted=False)\n",
        "\n",
        "for i in range(0,1):\n",
        "    topic_words = dict(topics[i][1])\n",
        "    cloud.generate_from_frequencies(topic_words, max_font_size=300)\n",
        "    plt.gca().imshow(cloud)\n",
        "    plt.gca().set_title(' ', fontdict=dict(size=12))\n",
        "    plt.gca().axis('off')\n",
        "    plt.show()"
      ]
    },
    {
      "cell_type": "code",
      "execution_count": null,
      "metadata": {
        "id": "eqyiG1foRsFL"
      },
      "outputs": [],
      "source": [
        "topics = lda_model.show_topics(formatted=False)"
      ]
    },
    {
      "cell_type": "code",
      "execution_count": null,
      "metadata": {
        "id": "aeyUCbMcRsFL",
        "colab": {
          "base_uri": "https://localhost:8080/"
        },
        "outputId": "5212a3ad-650e-4a8d-96de-dfe52a654bea"
      },
      "outputs": [
        {
          "output_type": "execute_result",
          "data": {
            "text/plain": [
              "[(0,\n",
              "  [('covid', 0.039607156),\n",
              "   ('patient', 0.039335616),\n",
              "   ('risk_factor', 0.01579182),\n",
              "   ('high', 0.014176327),\n",
              "   ('mortality', 0.013392037),\n",
              "   ('study', 0.01253209),\n",
              "   ('associate', 0.011501094),\n",
              "   ('include', 0.010069447),\n",
              "   ('risk', 0.008848),\n",
              "   ('disease', 0.008698272)]),\n",
              " (1,\n",
              "  [('pandemic', 0.01641467),\n",
              "   ('health', 0.0097799925),\n",
              "   ('covid', 0.008639234),\n",
              "   ('depression', 0.008031534),\n",
              "   ('measure', 0.007480178),\n",
              "   ('anxiety', 0.007140361),\n",
              "   ('risk', 0.00618952),\n",
              "   ('increase', 0.0053672385),\n",
              "   ('change', 0.0050432542),\n",
              "   ('virus', 0.004644297)])]"
            ]
          },
          "metadata": {},
          "execution_count": 108
        }
      ],
      "source": [
        "# Muestra los tópicos más empleados en las diferentes palabras dentro de los documentos\n",
        "topics"
      ]
    },
    {
      "cell_type": "code",
      "execution_count": null,
      "metadata": {
        "id": "JR770yGcRsFM"
      },
      "outputs": [],
      "source": []
    }
  ],
  "metadata": {
    "kernelspec": {
      "display_name": "Python 3.8.10 64-bit",
      "language": "python",
      "name": "python3"
    },
    "language_info": {
      "codemirror_mode": {
        "name": "ipython",
        "version": 3
      },
      "file_extension": ".py",
      "mimetype": "text/x-python",
      "name": "python",
      "nbconvert_exporter": "python",
      "pygments_lexer": "ipython3",
      "version": "3.8.10"
    },
    "orig_nbformat": 4,
    "vscode": {
      "interpreter": {
        "hash": "d62b7309829161c9ff8c8cb2799597e552c804f98ee796508f623761c3c8a87d"
      }
    },
    "colab": {
      "provenance": [],
      "collapsed_sections": [],
      "machine_shape": "hm"
    },
    "gpuClass": "standard"
  },
  "nbformat": 4,
  "nbformat_minor": 0
}